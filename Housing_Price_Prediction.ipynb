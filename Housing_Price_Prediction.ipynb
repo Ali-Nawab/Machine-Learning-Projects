{
  "nbformat": 4,
  "nbformat_minor": 0,
  "metadata": {
    "colab": {
      "provenance": [],
      "authorship_tag": "ABX9TyPT2O+cy9eNzwrqjrj7UccN",
      "include_colab_link": true
    },
    "kernelspec": {
      "name": "python3",
      "display_name": "Python 3"
    },
    "language_info": {
      "name": "python"
    }
  },
  "cells": [
    {
      "cell_type": "markdown",
      "metadata": {
        "id": "view-in-github",
        "colab_type": "text"
      },
      "source": [
        "<a href=\"https://colab.research.google.com/github/Ali-Nawab/Machine-Learning-Projects/blob/main/Housing_Price_Prediction.ipynb\" target=\"_parent\"><img src=\"https://colab.research.google.com/assets/colab-badge.svg\" alt=\"Open In Colab\"/></a>"
      ]
    },
    {
      "cell_type": "markdown",
      "source": [
        "# House Price Prediction \n",
        "In todays life, we are using Machine Learning algorithm for predicting the price of House based on the avialable features.Today we are using [California](https://www.kaggle.com/datasets/camnugent/california-housing-prices) Housing Price dataset and we will do necessary Data Analysis on it. After that we have to make prediction by using [Linear Regression Algorithm](https://www.ibm.com/topics/linear-regression#:~:text=Related%20solutions-,What%20is%20linear%20regression%3F,is%20called%20the%20independent%20variable.).\n",
        "\n"
      ],
      "metadata": {
        "id": "6nCoACIQdL6y"
      }
    },
    {
      "cell_type": "markdown",
      "source": [
        "# Importing Libraries"
      ],
      "metadata": {
        "id": "di0n5aYcfhE0"
      }
    },
    {
      "cell_type": "code",
      "execution_count": null,
      "metadata": {
        "id": "Ql3h4dk7whvh"
      },
      "outputs": [],
      "source": [
        "import numpy as np\n",
        "import pandas as pd\n",
        "from sklearn.datasets import fetch_california_housing\n",
        "from sklearn.linear_model import LinearRegression\n",
        "from sklearn.model_selection import train_test_split\n",
        "from sklearn.preprocessing import StandardScaler\n",
        "from sklearn.metrics import mean_squared_error\n",
        "import seaborn as sns\n",
        "import matplotlib.pyplot as plt"
      ]
    },
    {
      "cell_type": "code",
      "source": [
        "data = fetch_california_housing()\n",
        "X = data.data\n",
        "y = data.target\n",
        "print(X.shape)\n",
        "print(y.shape)"
      ],
      "metadata": {
        "colab": {
          "base_uri": "https://localhost:8080/"
        },
        "id": "bGvybq4kxP4J",
        "outputId": "5d37a9dc-7bfe-438b-d8de-7d90c78ca05c"
      },
      "execution_count": null,
      "outputs": [
        {
          "output_type": "stream",
          "name": "stdout",
          "text": [
            "(20640, 8)\n",
            "(20640,)\n"
          ]
        }
      ]
    },
    {
      "cell_type": "code",
      "source": [
        "df = pd.DataFrame(X, columns = data.feature_names)\n",
        "df['target'] = pd.DataFrame(y, columns = ['target'])\n",
        "df.head()"
      ],
      "metadata": {
        "colab": {
          "base_uri": "https://localhost:8080/",
          "height": 206
        },
        "id": "wO-JKll50tWq",
        "outputId": "e49c6aee-9720-441f-a510-d2abe160a9d9"
      },
      "execution_count": null,
      "outputs": [
        {
          "output_type": "execute_result",
          "data": {
            "text/plain": [
              "   MedInc  HouseAge  AveRooms  AveBedrms  Population  AveOccup  Latitude  \\\n",
              "0  8.3252      41.0  6.984127   1.023810       322.0  2.555556     37.88   \n",
              "1  8.3014      21.0  6.238137   0.971880      2401.0  2.109842     37.86   \n",
              "2  7.2574      52.0  8.288136   1.073446       496.0  2.802260     37.85   \n",
              "3  5.6431      52.0  5.817352   1.073059       558.0  2.547945     37.85   \n",
              "4  3.8462      52.0  6.281853   1.081081       565.0  2.181467     37.85   \n",
              "\n",
              "   Longitude  target  \n",
              "0    -122.23   4.526  \n",
              "1    -122.22   3.585  \n",
              "2    -122.24   3.521  \n",
              "3    -122.25   3.413  \n",
              "4    -122.25   3.422  "
            ],
            "text/html": [
              "\n",
              "  <div id=\"df-585377b3-cebf-4efb-a4b1-312c6dcf1e20\">\n",
              "    <div class=\"colab-df-container\">\n",
              "      <div>\n",
              "<style scoped>\n",
              "    .dataframe tbody tr th:only-of-type {\n",
              "        vertical-align: middle;\n",
              "    }\n",
              "\n",
              "    .dataframe tbody tr th {\n",
              "        vertical-align: top;\n",
              "    }\n",
              "\n",
              "    .dataframe thead th {\n",
              "        text-align: right;\n",
              "    }\n",
              "</style>\n",
              "<table border=\"1\" class=\"dataframe\">\n",
              "  <thead>\n",
              "    <tr style=\"text-align: right;\">\n",
              "      <th></th>\n",
              "      <th>MedInc</th>\n",
              "      <th>HouseAge</th>\n",
              "      <th>AveRooms</th>\n",
              "      <th>AveBedrms</th>\n",
              "      <th>Population</th>\n",
              "      <th>AveOccup</th>\n",
              "      <th>Latitude</th>\n",
              "      <th>Longitude</th>\n",
              "      <th>target</th>\n",
              "    </tr>\n",
              "  </thead>\n",
              "  <tbody>\n",
              "    <tr>\n",
              "      <th>0</th>\n",
              "      <td>8.3252</td>\n",
              "      <td>41.0</td>\n",
              "      <td>6.984127</td>\n",
              "      <td>1.023810</td>\n",
              "      <td>322.0</td>\n",
              "      <td>2.555556</td>\n",
              "      <td>37.88</td>\n",
              "      <td>-122.23</td>\n",
              "      <td>4.526</td>\n",
              "    </tr>\n",
              "    <tr>\n",
              "      <th>1</th>\n",
              "      <td>8.3014</td>\n",
              "      <td>21.0</td>\n",
              "      <td>6.238137</td>\n",
              "      <td>0.971880</td>\n",
              "      <td>2401.0</td>\n",
              "      <td>2.109842</td>\n",
              "      <td>37.86</td>\n",
              "      <td>-122.22</td>\n",
              "      <td>3.585</td>\n",
              "    </tr>\n",
              "    <tr>\n",
              "      <th>2</th>\n",
              "      <td>7.2574</td>\n",
              "      <td>52.0</td>\n",
              "      <td>8.288136</td>\n",
              "      <td>1.073446</td>\n",
              "      <td>496.0</td>\n",
              "      <td>2.802260</td>\n",
              "      <td>37.85</td>\n",
              "      <td>-122.24</td>\n",
              "      <td>3.521</td>\n",
              "    </tr>\n",
              "    <tr>\n",
              "      <th>3</th>\n",
              "      <td>5.6431</td>\n",
              "      <td>52.0</td>\n",
              "      <td>5.817352</td>\n",
              "      <td>1.073059</td>\n",
              "      <td>558.0</td>\n",
              "      <td>2.547945</td>\n",
              "      <td>37.85</td>\n",
              "      <td>-122.25</td>\n",
              "      <td>3.413</td>\n",
              "    </tr>\n",
              "    <tr>\n",
              "      <th>4</th>\n",
              "      <td>3.8462</td>\n",
              "      <td>52.0</td>\n",
              "      <td>6.281853</td>\n",
              "      <td>1.081081</td>\n",
              "      <td>565.0</td>\n",
              "      <td>2.181467</td>\n",
              "      <td>37.85</td>\n",
              "      <td>-122.25</td>\n",
              "      <td>3.422</td>\n",
              "    </tr>\n",
              "  </tbody>\n",
              "</table>\n",
              "</div>\n",
              "      <button class=\"colab-df-convert\" onclick=\"convertToInteractive('df-585377b3-cebf-4efb-a4b1-312c6dcf1e20')\"\n",
              "              title=\"Convert this dataframe to an interactive table.\"\n",
              "              style=\"display:none;\">\n",
              "        \n",
              "  <svg xmlns=\"http://www.w3.org/2000/svg\" height=\"24px\"viewBox=\"0 0 24 24\"\n",
              "       width=\"24px\">\n",
              "    <path d=\"M0 0h24v24H0V0z\" fill=\"none\"/>\n",
              "    <path d=\"M18.56 5.44l.94 2.06.94-2.06 2.06-.94-2.06-.94-.94-2.06-.94 2.06-2.06.94zm-11 1L8.5 8.5l.94-2.06 2.06-.94-2.06-.94L8.5 2.5l-.94 2.06-2.06.94zm10 10l.94 2.06.94-2.06 2.06-.94-2.06-.94-.94-2.06-.94 2.06-2.06.94z\"/><path d=\"M17.41 7.96l-1.37-1.37c-.4-.4-.92-.59-1.43-.59-.52 0-1.04.2-1.43.59L10.3 9.45l-7.72 7.72c-.78.78-.78 2.05 0 2.83L4 21.41c.39.39.9.59 1.41.59.51 0 1.02-.2 1.41-.59l7.78-7.78 2.81-2.81c.8-.78.8-2.07 0-2.86zM5.41 20L4 18.59l7.72-7.72 1.47 1.35L5.41 20z\"/>\n",
              "  </svg>\n",
              "      </button>\n",
              "      \n",
              "  <style>\n",
              "    .colab-df-container {\n",
              "      display:flex;\n",
              "      flex-wrap:wrap;\n",
              "      gap: 12px;\n",
              "    }\n",
              "\n",
              "    .colab-df-convert {\n",
              "      background-color: #E8F0FE;\n",
              "      border: none;\n",
              "      border-radius: 50%;\n",
              "      cursor: pointer;\n",
              "      display: none;\n",
              "      fill: #1967D2;\n",
              "      height: 32px;\n",
              "      padding: 0 0 0 0;\n",
              "      width: 32px;\n",
              "    }\n",
              "\n",
              "    .colab-df-convert:hover {\n",
              "      background-color: #E2EBFA;\n",
              "      box-shadow: 0px 1px 2px rgba(60, 64, 67, 0.3), 0px 1px 3px 1px rgba(60, 64, 67, 0.15);\n",
              "      fill: #174EA6;\n",
              "    }\n",
              "\n",
              "    [theme=dark] .colab-df-convert {\n",
              "      background-color: #3B4455;\n",
              "      fill: #D2E3FC;\n",
              "    }\n",
              "\n",
              "    [theme=dark] .colab-df-convert:hover {\n",
              "      background-color: #434B5C;\n",
              "      box-shadow: 0px 1px 3px 1px rgba(0, 0, 0, 0.15);\n",
              "      filter: drop-shadow(0px 1px 2px rgba(0, 0, 0, 0.3));\n",
              "      fill: #FFFFFF;\n",
              "    }\n",
              "  </style>\n",
              "\n",
              "      <script>\n",
              "        const buttonEl =\n",
              "          document.querySelector('#df-585377b3-cebf-4efb-a4b1-312c6dcf1e20 button.colab-df-convert');\n",
              "        buttonEl.style.display =\n",
              "          google.colab.kernel.accessAllowed ? 'block' : 'none';\n",
              "\n",
              "        async function convertToInteractive(key) {\n",
              "          const element = document.querySelector('#df-585377b3-cebf-4efb-a4b1-312c6dcf1e20');\n",
              "          const dataTable =\n",
              "            await google.colab.kernel.invokeFunction('convertToInteractive',\n",
              "                                                     [key], {});\n",
              "          if (!dataTable) return;\n",
              "\n",
              "          const docLinkHtml = 'Like what you see? Visit the ' +\n",
              "            '<a target=\"_blank\" href=https://colab.research.google.com/notebooks/data_table.ipynb>data table notebook</a>'\n",
              "            + ' to learn more about interactive tables.';\n",
              "          element.innerHTML = '';\n",
              "          dataTable['output_type'] = 'display_data';\n",
              "          await google.colab.output.renderOutput(dataTable, element);\n",
              "          const docLink = document.createElement('div');\n",
              "          docLink.innerHTML = docLinkHtml;\n",
              "          element.appendChild(docLink);\n",
              "        }\n",
              "      </script>\n",
              "    </div>\n",
              "  </div>\n",
              "  "
            ]
          },
          "metadata": {},
          "execution_count": 3
        }
      ]
    },
    {
      "cell_type": "code",
      "source": [
        "df.shape"
      ],
      "metadata": {
        "colab": {
          "base_uri": "https://localhost:8080/"
        },
        "id": "Dxnm95fK1FU6",
        "outputId": "85dcd2c9-545b-46cc-c4c7-6174004ee824"
      },
      "execution_count": null,
      "outputs": [
        {
          "output_type": "execute_result",
          "data": {
            "text/plain": [
              "(20640, 9)"
            ]
          },
          "metadata": {},
          "execution_count": 4
        }
      ]
    },
    {
      "cell_type": "code",
      "source": [
        "df.info()"
      ],
      "metadata": {
        "colab": {
          "base_uri": "https://localhost:8080/"
        },
        "id": "R3PzXanc5T97",
        "outputId": "26a0b1bc-7c25-4dac-9824-f823a0a0095a"
      },
      "execution_count": null,
      "outputs": [
        {
          "output_type": "stream",
          "name": "stdout",
          "text": [
            "<class 'pandas.core.frame.DataFrame'>\n",
            "RangeIndex: 20640 entries, 0 to 20639\n",
            "Data columns (total 9 columns):\n",
            " #   Column      Non-Null Count  Dtype  \n",
            "---  ------      --------------  -----  \n",
            " 0   MedInc      20640 non-null  float64\n",
            " 1   HouseAge    20640 non-null  float64\n",
            " 2   AveRooms    20640 non-null  float64\n",
            " 3   AveBedrms   20640 non-null  float64\n",
            " 4   Population  20640 non-null  float64\n",
            " 5   AveOccup    20640 non-null  float64\n",
            " 6   Latitude    20640 non-null  float64\n",
            " 7   Longitude   20640 non-null  float64\n",
            " 8   target      20640 non-null  float64\n",
            "dtypes: float64(9)\n",
            "memory usage: 1.4 MB\n"
          ]
        }
      ]
    },
    {
      "cell_type": "code",
      "source": [
        "df = df.round(2)"
      ],
      "metadata": {
        "id": "-EawQx2q6-bC"
      },
      "execution_count": null,
      "outputs": []
    },
    {
      "cell_type": "code",
      "source": [
        "df"
      ],
      "metadata": {
        "colab": {
          "base_uri": "https://localhost:8080/",
          "height": 423
        },
        "id": "7vz7RMTD7W9t",
        "outputId": "2dd60cf1-e0cc-4647-fe4e-84ac211e77b9"
      },
      "execution_count": null,
      "outputs": [
        {
          "output_type": "execute_result",
          "data": {
            "text/plain": [
              "       MedInc  HouseAge  AveRooms  AveBedrms  Population  AveOccup  Latitude  \\\n",
              "0        8.33      41.0      6.98       1.02       322.0      2.56     37.88   \n",
              "1        8.30      21.0      6.24       0.97      2401.0      2.11     37.86   \n",
              "2        7.26      52.0      8.29       1.07       496.0      2.80     37.85   \n",
              "3        5.64      52.0      5.82       1.07       558.0      2.55     37.85   \n",
              "4        3.85      52.0      6.28       1.08       565.0      2.18     37.85   \n",
              "...       ...       ...       ...        ...         ...       ...       ...   \n",
              "20635    1.56      25.0      5.05       1.13       845.0      2.56     39.48   \n",
              "20636    2.56      18.0      6.11       1.32       356.0      3.12     39.49   \n",
              "20637    1.70      17.0      5.21       1.12      1007.0      2.33     39.43   \n",
              "20638    1.87      18.0      5.33       1.17       741.0      2.12     39.43   \n",
              "20639    2.39      16.0      5.25       1.16      1387.0      2.62     39.37   \n",
              "\n",
              "       Longitude  target  \n",
              "0        -122.23    4.53  \n",
              "1        -122.22    3.58  \n",
              "2        -122.24    3.52  \n",
              "3        -122.25    3.41  \n",
              "4        -122.25    3.42  \n",
              "...          ...     ...  \n",
              "20635    -121.09    0.78  \n",
              "20636    -121.21    0.77  \n",
              "20637    -121.22    0.92  \n",
              "20638    -121.32    0.85  \n",
              "20639    -121.24    0.89  \n",
              "\n",
              "[20640 rows x 9 columns]"
            ],
            "text/html": [
              "\n",
              "  <div id=\"df-64ead253-965b-4374-a1b1-38022c5f6cf2\">\n",
              "    <div class=\"colab-df-container\">\n",
              "      <div>\n",
              "<style scoped>\n",
              "    .dataframe tbody tr th:only-of-type {\n",
              "        vertical-align: middle;\n",
              "    }\n",
              "\n",
              "    .dataframe tbody tr th {\n",
              "        vertical-align: top;\n",
              "    }\n",
              "\n",
              "    .dataframe thead th {\n",
              "        text-align: right;\n",
              "    }\n",
              "</style>\n",
              "<table border=\"1\" class=\"dataframe\">\n",
              "  <thead>\n",
              "    <tr style=\"text-align: right;\">\n",
              "      <th></th>\n",
              "      <th>MedInc</th>\n",
              "      <th>HouseAge</th>\n",
              "      <th>AveRooms</th>\n",
              "      <th>AveBedrms</th>\n",
              "      <th>Population</th>\n",
              "      <th>AveOccup</th>\n",
              "      <th>Latitude</th>\n",
              "      <th>Longitude</th>\n",
              "      <th>target</th>\n",
              "    </tr>\n",
              "  </thead>\n",
              "  <tbody>\n",
              "    <tr>\n",
              "      <th>0</th>\n",
              "      <td>8.33</td>\n",
              "      <td>41.0</td>\n",
              "      <td>6.98</td>\n",
              "      <td>1.02</td>\n",
              "      <td>322.0</td>\n",
              "      <td>2.56</td>\n",
              "      <td>37.88</td>\n",
              "      <td>-122.23</td>\n",
              "      <td>4.53</td>\n",
              "    </tr>\n",
              "    <tr>\n",
              "      <th>1</th>\n",
              "      <td>8.30</td>\n",
              "      <td>21.0</td>\n",
              "      <td>6.24</td>\n",
              "      <td>0.97</td>\n",
              "      <td>2401.0</td>\n",
              "      <td>2.11</td>\n",
              "      <td>37.86</td>\n",
              "      <td>-122.22</td>\n",
              "      <td>3.58</td>\n",
              "    </tr>\n",
              "    <tr>\n",
              "      <th>2</th>\n",
              "      <td>7.26</td>\n",
              "      <td>52.0</td>\n",
              "      <td>8.29</td>\n",
              "      <td>1.07</td>\n",
              "      <td>496.0</td>\n",
              "      <td>2.80</td>\n",
              "      <td>37.85</td>\n",
              "      <td>-122.24</td>\n",
              "      <td>3.52</td>\n",
              "    </tr>\n",
              "    <tr>\n",
              "      <th>3</th>\n",
              "      <td>5.64</td>\n",
              "      <td>52.0</td>\n",
              "      <td>5.82</td>\n",
              "      <td>1.07</td>\n",
              "      <td>558.0</td>\n",
              "      <td>2.55</td>\n",
              "      <td>37.85</td>\n",
              "      <td>-122.25</td>\n",
              "      <td>3.41</td>\n",
              "    </tr>\n",
              "    <tr>\n",
              "      <th>4</th>\n",
              "      <td>3.85</td>\n",
              "      <td>52.0</td>\n",
              "      <td>6.28</td>\n",
              "      <td>1.08</td>\n",
              "      <td>565.0</td>\n",
              "      <td>2.18</td>\n",
              "      <td>37.85</td>\n",
              "      <td>-122.25</td>\n",
              "      <td>3.42</td>\n",
              "    </tr>\n",
              "    <tr>\n",
              "      <th>...</th>\n",
              "      <td>...</td>\n",
              "      <td>...</td>\n",
              "      <td>...</td>\n",
              "      <td>...</td>\n",
              "      <td>...</td>\n",
              "      <td>...</td>\n",
              "      <td>...</td>\n",
              "      <td>...</td>\n",
              "      <td>...</td>\n",
              "    </tr>\n",
              "    <tr>\n",
              "      <th>20635</th>\n",
              "      <td>1.56</td>\n",
              "      <td>25.0</td>\n",
              "      <td>5.05</td>\n",
              "      <td>1.13</td>\n",
              "      <td>845.0</td>\n",
              "      <td>2.56</td>\n",
              "      <td>39.48</td>\n",
              "      <td>-121.09</td>\n",
              "      <td>0.78</td>\n",
              "    </tr>\n",
              "    <tr>\n",
              "      <th>20636</th>\n",
              "      <td>2.56</td>\n",
              "      <td>18.0</td>\n",
              "      <td>6.11</td>\n",
              "      <td>1.32</td>\n",
              "      <td>356.0</td>\n",
              "      <td>3.12</td>\n",
              "      <td>39.49</td>\n",
              "      <td>-121.21</td>\n",
              "      <td>0.77</td>\n",
              "    </tr>\n",
              "    <tr>\n",
              "      <th>20637</th>\n",
              "      <td>1.70</td>\n",
              "      <td>17.0</td>\n",
              "      <td>5.21</td>\n",
              "      <td>1.12</td>\n",
              "      <td>1007.0</td>\n",
              "      <td>2.33</td>\n",
              "      <td>39.43</td>\n",
              "      <td>-121.22</td>\n",
              "      <td>0.92</td>\n",
              "    </tr>\n",
              "    <tr>\n",
              "      <th>20638</th>\n",
              "      <td>1.87</td>\n",
              "      <td>18.0</td>\n",
              "      <td>5.33</td>\n",
              "      <td>1.17</td>\n",
              "      <td>741.0</td>\n",
              "      <td>2.12</td>\n",
              "      <td>39.43</td>\n",
              "      <td>-121.32</td>\n",
              "      <td>0.85</td>\n",
              "    </tr>\n",
              "    <tr>\n",
              "      <th>20639</th>\n",
              "      <td>2.39</td>\n",
              "      <td>16.0</td>\n",
              "      <td>5.25</td>\n",
              "      <td>1.16</td>\n",
              "      <td>1387.0</td>\n",
              "      <td>2.62</td>\n",
              "      <td>39.37</td>\n",
              "      <td>-121.24</td>\n",
              "      <td>0.89</td>\n",
              "    </tr>\n",
              "  </tbody>\n",
              "</table>\n",
              "<p>20640 rows × 9 columns</p>\n",
              "</div>\n",
              "      <button class=\"colab-df-convert\" onclick=\"convertToInteractive('df-64ead253-965b-4374-a1b1-38022c5f6cf2')\"\n",
              "              title=\"Convert this dataframe to an interactive table.\"\n",
              "              style=\"display:none;\">\n",
              "        \n",
              "  <svg xmlns=\"http://www.w3.org/2000/svg\" height=\"24px\"viewBox=\"0 0 24 24\"\n",
              "       width=\"24px\">\n",
              "    <path d=\"M0 0h24v24H0V0z\" fill=\"none\"/>\n",
              "    <path d=\"M18.56 5.44l.94 2.06.94-2.06 2.06-.94-2.06-.94-.94-2.06-.94 2.06-2.06.94zm-11 1L8.5 8.5l.94-2.06 2.06-.94-2.06-.94L8.5 2.5l-.94 2.06-2.06.94zm10 10l.94 2.06.94-2.06 2.06-.94-2.06-.94-.94-2.06-.94 2.06-2.06.94z\"/><path d=\"M17.41 7.96l-1.37-1.37c-.4-.4-.92-.59-1.43-.59-.52 0-1.04.2-1.43.59L10.3 9.45l-7.72 7.72c-.78.78-.78 2.05 0 2.83L4 21.41c.39.39.9.59 1.41.59.51 0 1.02-.2 1.41-.59l7.78-7.78 2.81-2.81c.8-.78.8-2.07 0-2.86zM5.41 20L4 18.59l7.72-7.72 1.47 1.35L5.41 20z\"/>\n",
              "  </svg>\n",
              "      </button>\n",
              "      \n",
              "  <style>\n",
              "    .colab-df-container {\n",
              "      display:flex;\n",
              "      flex-wrap:wrap;\n",
              "      gap: 12px;\n",
              "    }\n",
              "\n",
              "    .colab-df-convert {\n",
              "      background-color: #E8F0FE;\n",
              "      border: none;\n",
              "      border-radius: 50%;\n",
              "      cursor: pointer;\n",
              "      display: none;\n",
              "      fill: #1967D2;\n",
              "      height: 32px;\n",
              "      padding: 0 0 0 0;\n",
              "      width: 32px;\n",
              "    }\n",
              "\n",
              "    .colab-df-convert:hover {\n",
              "      background-color: #E2EBFA;\n",
              "      box-shadow: 0px 1px 2px rgba(60, 64, 67, 0.3), 0px 1px 3px 1px rgba(60, 64, 67, 0.15);\n",
              "      fill: #174EA6;\n",
              "    }\n",
              "\n",
              "    [theme=dark] .colab-df-convert {\n",
              "      background-color: #3B4455;\n",
              "      fill: #D2E3FC;\n",
              "    }\n",
              "\n",
              "    [theme=dark] .colab-df-convert:hover {\n",
              "      background-color: #434B5C;\n",
              "      box-shadow: 0px 1px 3px 1px rgba(0, 0, 0, 0.15);\n",
              "      filter: drop-shadow(0px 1px 2px rgba(0, 0, 0, 0.3));\n",
              "      fill: #FFFFFF;\n",
              "    }\n",
              "  </style>\n",
              "\n",
              "      <script>\n",
              "        const buttonEl =\n",
              "          document.querySelector('#df-64ead253-965b-4374-a1b1-38022c5f6cf2 button.colab-df-convert');\n",
              "        buttonEl.style.display =\n",
              "          google.colab.kernel.accessAllowed ? 'block' : 'none';\n",
              "\n",
              "        async function convertToInteractive(key) {\n",
              "          const element = document.querySelector('#df-64ead253-965b-4374-a1b1-38022c5f6cf2');\n",
              "          const dataTable =\n",
              "            await google.colab.kernel.invokeFunction('convertToInteractive',\n",
              "                                                     [key], {});\n",
              "          if (!dataTable) return;\n",
              "\n",
              "          const docLinkHtml = 'Like what you see? Visit the ' +\n",
              "            '<a target=\"_blank\" href=https://colab.research.google.com/notebooks/data_table.ipynb>data table notebook</a>'\n",
              "            + ' to learn more about interactive tables.';\n",
              "          element.innerHTML = '';\n",
              "          dataTable['output_type'] = 'display_data';\n",
              "          await google.colab.output.renderOutput(dataTable, element);\n",
              "          const docLink = document.createElement('div');\n",
              "          docLink.innerHTML = docLinkHtml;\n",
              "          element.appendChild(docLink);\n",
              "        }\n",
              "      </script>\n",
              "    </div>\n",
              "  </div>\n",
              "  "
            ]
          },
          "metadata": {},
          "execution_count": 7
        }
      ]
    },
    {
      "cell_type": "code",
      "source": [
        "df.describe()"
      ],
      "metadata": {
        "colab": {
          "base_uri": "https://localhost:8080/",
          "height": 300
        },
        "id": "SO0Bxtoh7X_H",
        "outputId": "bc0f66e6-cc07-4703-c425-e1b313cfa352"
      },
      "execution_count": null,
      "outputs": [
        {
          "output_type": "execute_result",
          "data": {
            "text/plain": [
              "             MedInc      HouseAge      AveRooms     AveBedrms    Population  \\\n",
              "count  20640.000000  20640.000000  20640.000000  20640.000000  20640.000000   \n",
              "mean       3.870674     28.639486      5.429021      1.096681   1425.476744   \n",
              "std        1.899853     12.585558      2.474190      0.473921   1132.462122   \n",
              "min        0.500000      1.000000      0.850000      0.330000      3.000000   \n",
              "25%        2.560000     18.000000      4.440000      1.010000    787.000000   \n",
              "50%        3.530000     29.000000      5.230000      1.050000   1166.000000   \n",
              "75%        4.740000     37.000000      6.050000      1.100000   1725.000000   \n",
              "max       15.000000     52.000000    141.910000     34.070000  35682.000000   \n",
              "\n",
              "           AveOccup      Latitude     Longitude        target  \n",
              "count  20640.000000  20640.000000  20640.000000  20640.000000  \n",
              "mean       3.070628     35.631861   -119.569704      2.068555  \n",
              "std       10.386010      2.135952      2.003532      1.153955  \n",
              "min        0.690000     32.540000   -124.350000      0.150000  \n",
              "25%        2.430000     33.930000   -121.800000      1.200000  \n",
              "50%        2.820000     34.260000   -118.490000      1.800000  \n",
              "75%        3.280000     37.710000   -118.010000      2.650000  \n",
              "max     1243.330000     41.950000   -114.310000      5.000000  "
            ],
            "text/html": [
              "\n",
              "  <div id=\"df-ce3d5441-fa52-4f2b-815a-a2f88ac3ab35\">\n",
              "    <div class=\"colab-df-container\">\n",
              "      <div>\n",
              "<style scoped>\n",
              "    .dataframe tbody tr th:only-of-type {\n",
              "        vertical-align: middle;\n",
              "    }\n",
              "\n",
              "    .dataframe tbody tr th {\n",
              "        vertical-align: top;\n",
              "    }\n",
              "\n",
              "    .dataframe thead th {\n",
              "        text-align: right;\n",
              "    }\n",
              "</style>\n",
              "<table border=\"1\" class=\"dataframe\">\n",
              "  <thead>\n",
              "    <tr style=\"text-align: right;\">\n",
              "      <th></th>\n",
              "      <th>MedInc</th>\n",
              "      <th>HouseAge</th>\n",
              "      <th>AveRooms</th>\n",
              "      <th>AveBedrms</th>\n",
              "      <th>Population</th>\n",
              "      <th>AveOccup</th>\n",
              "      <th>Latitude</th>\n",
              "      <th>Longitude</th>\n",
              "      <th>target</th>\n",
              "    </tr>\n",
              "  </thead>\n",
              "  <tbody>\n",
              "    <tr>\n",
              "      <th>count</th>\n",
              "      <td>20640.000000</td>\n",
              "      <td>20640.000000</td>\n",
              "      <td>20640.000000</td>\n",
              "      <td>20640.000000</td>\n",
              "      <td>20640.000000</td>\n",
              "      <td>20640.000000</td>\n",
              "      <td>20640.000000</td>\n",
              "      <td>20640.000000</td>\n",
              "      <td>20640.000000</td>\n",
              "    </tr>\n",
              "    <tr>\n",
              "      <th>mean</th>\n",
              "      <td>3.870674</td>\n",
              "      <td>28.639486</td>\n",
              "      <td>5.429021</td>\n",
              "      <td>1.096681</td>\n",
              "      <td>1425.476744</td>\n",
              "      <td>3.070628</td>\n",
              "      <td>35.631861</td>\n",
              "      <td>-119.569704</td>\n",
              "      <td>2.068555</td>\n",
              "    </tr>\n",
              "    <tr>\n",
              "      <th>std</th>\n",
              "      <td>1.899853</td>\n",
              "      <td>12.585558</td>\n",
              "      <td>2.474190</td>\n",
              "      <td>0.473921</td>\n",
              "      <td>1132.462122</td>\n",
              "      <td>10.386010</td>\n",
              "      <td>2.135952</td>\n",
              "      <td>2.003532</td>\n",
              "      <td>1.153955</td>\n",
              "    </tr>\n",
              "    <tr>\n",
              "      <th>min</th>\n",
              "      <td>0.500000</td>\n",
              "      <td>1.000000</td>\n",
              "      <td>0.850000</td>\n",
              "      <td>0.330000</td>\n",
              "      <td>3.000000</td>\n",
              "      <td>0.690000</td>\n",
              "      <td>32.540000</td>\n",
              "      <td>-124.350000</td>\n",
              "      <td>0.150000</td>\n",
              "    </tr>\n",
              "    <tr>\n",
              "      <th>25%</th>\n",
              "      <td>2.560000</td>\n",
              "      <td>18.000000</td>\n",
              "      <td>4.440000</td>\n",
              "      <td>1.010000</td>\n",
              "      <td>787.000000</td>\n",
              "      <td>2.430000</td>\n",
              "      <td>33.930000</td>\n",
              "      <td>-121.800000</td>\n",
              "      <td>1.200000</td>\n",
              "    </tr>\n",
              "    <tr>\n",
              "      <th>50%</th>\n",
              "      <td>3.530000</td>\n",
              "      <td>29.000000</td>\n",
              "      <td>5.230000</td>\n",
              "      <td>1.050000</td>\n",
              "      <td>1166.000000</td>\n",
              "      <td>2.820000</td>\n",
              "      <td>34.260000</td>\n",
              "      <td>-118.490000</td>\n",
              "      <td>1.800000</td>\n",
              "    </tr>\n",
              "    <tr>\n",
              "      <th>75%</th>\n",
              "      <td>4.740000</td>\n",
              "      <td>37.000000</td>\n",
              "      <td>6.050000</td>\n",
              "      <td>1.100000</td>\n",
              "      <td>1725.000000</td>\n",
              "      <td>3.280000</td>\n",
              "      <td>37.710000</td>\n",
              "      <td>-118.010000</td>\n",
              "      <td>2.650000</td>\n",
              "    </tr>\n",
              "    <tr>\n",
              "      <th>max</th>\n",
              "      <td>15.000000</td>\n",
              "      <td>52.000000</td>\n",
              "      <td>141.910000</td>\n",
              "      <td>34.070000</td>\n",
              "      <td>35682.000000</td>\n",
              "      <td>1243.330000</td>\n",
              "      <td>41.950000</td>\n",
              "      <td>-114.310000</td>\n",
              "      <td>5.000000</td>\n",
              "    </tr>\n",
              "  </tbody>\n",
              "</table>\n",
              "</div>\n",
              "      <button class=\"colab-df-convert\" onclick=\"convertToInteractive('df-ce3d5441-fa52-4f2b-815a-a2f88ac3ab35')\"\n",
              "              title=\"Convert this dataframe to an interactive table.\"\n",
              "              style=\"display:none;\">\n",
              "        \n",
              "  <svg xmlns=\"http://www.w3.org/2000/svg\" height=\"24px\"viewBox=\"0 0 24 24\"\n",
              "       width=\"24px\">\n",
              "    <path d=\"M0 0h24v24H0V0z\" fill=\"none\"/>\n",
              "    <path d=\"M18.56 5.44l.94 2.06.94-2.06 2.06-.94-2.06-.94-.94-2.06-.94 2.06-2.06.94zm-11 1L8.5 8.5l.94-2.06 2.06-.94-2.06-.94L8.5 2.5l-.94 2.06-2.06.94zm10 10l.94 2.06.94-2.06 2.06-.94-2.06-.94-.94-2.06-.94 2.06-2.06.94z\"/><path d=\"M17.41 7.96l-1.37-1.37c-.4-.4-.92-.59-1.43-.59-.52 0-1.04.2-1.43.59L10.3 9.45l-7.72 7.72c-.78.78-.78 2.05 0 2.83L4 21.41c.39.39.9.59 1.41.59.51 0 1.02-.2 1.41-.59l7.78-7.78 2.81-2.81c.8-.78.8-2.07 0-2.86zM5.41 20L4 18.59l7.72-7.72 1.47 1.35L5.41 20z\"/>\n",
              "  </svg>\n",
              "      </button>\n",
              "      \n",
              "  <style>\n",
              "    .colab-df-container {\n",
              "      display:flex;\n",
              "      flex-wrap:wrap;\n",
              "      gap: 12px;\n",
              "    }\n",
              "\n",
              "    .colab-df-convert {\n",
              "      background-color: #E8F0FE;\n",
              "      border: none;\n",
              "      border-radius: 50%;\n",
              "      cursor: pointer;\n",
              "      display: none;\n",
              "      fill: #1967D2;\n",
              "      height: 32px;\n",
              "      padding: 0 0 0 0;\n",
              "      width: 32px;\n",
              "    }\n",
              "\n",
              "    .colab-df-convert:hover {\n",
              "      background-color: #E2EBFA;\n",
              "      box-shadow: 0px 1px 2px rgba(60, 64, 67, 0.3), 0px 1px 3px 1px rgba(60, 64, 67, 0.15);\n",
              "      fill: #174EA6;\n",
              "    }\n",
              "\n",
              "    [theme=dark] .colab-df-convert {\n",
              "      background-color: #3B4455;\n",
              "      fill: #D2E3FC;\n",
              "    }\n",
              "\n",
              "    [theme=dark] .colab-df-convert:hover {\n",
              "      background-color: #434B5C;\n",
              "      box-shadow: 0px 1px 3px 1px rgba(0, 0, 0, 0.15);\n",
              "      filter: drop-shadow(0px 1px 2px rgba(0, 0, 0, 0.3));\n",
              "      fill: #FFFFFF;\n",
              "    }\n",
              "  </style>\n",
              "\n",
              "      <script>\n",
              "        const buttonEl =\n",
              "          document.querySelector('#df-ce3d5441-fa52-4f2b-815a-a2f88ac3ab35 button.colab-df-convert');\n",
              "        buttonEl.style.display =\n",
              "          google.colab.kernel.accessAllowed ? 'block' : 'none';\n",
              "\n",
              "        async function convertToInteractive(key) {\n",
              "          const element = document.querySelector('#df-ce3d5441-fa52-4f2b-815a-a2f88ac3ab35');\n",
              "          const dataTable =\n",
              "            await google.colab.kernel.invokeFunction('convertToInteractive',\n",
              "                                                     [key], {});\n",
              "          if (!dataTable) return;\n",
              "\n",
              "          const docLinkHtml = 'Like what you see? Visit the ' +\n",
              "            '<a target=\"_blank\" href=https://colab.research.google.com/notebooks/data_table.ipynb>data table notebook</a>'\n",
              "            + ' to learn more about interactive tables.';\n",
              "          element.innerHTML = '';\n",
              "          dataTable['output_type'] = 'display_data';\n",
              "          await google.colab.output.renderOutput(dataTable, element);\n",
              "          const docLink = document.createElement('div');\n",
              "          docLink.innerHTML = docLinkHtml;\n",
              "          element.appendChild(docLink);\n",
              "        }\n",
              "      </script>\n",
              "    </div>\n",
              "  </div>\n",
              "  "
            ]
          },
          "metadata": {},
          "execution_count": 8
        }
      ]
    },
    {
      "cell_type": "code",
      "source": [
        "df.isnull().sum()"
      ],
      "metadata": {
        "colab": {
          "base_uri": "https://localhost:8080/"
        },
        "id": "yIegluZhHb7_",
        "outputId": "400d3c88-a2bb-47fe-9675-52d9f4bcd83f"
      },
      "execution_count": null,
      "outputs": [
        {
          "output_type": "execute_result",
          "data": {
            "text/plain": [
              "MedInc        0\n",
              "HouseAge      0\n",
              "AveRooms      0\n",
              "AveBedrms     0\n",
              "Population    0\n",
              "AveOccup      0\n",
              "Latitude      0\n",
              "Longitude     0\n",
              "target        0\n",
              "dtype: int64"
            ]
          },
          "metadata": {},
          "execution_count": 9
        }
      ]
    },
    {
      "cell_type": "markdown",
      "source": [
        "# Correlation between features"
      ],
      "metadata": {
        "id": "Pw4-LPNzgsUj"
      }
    },
    {
      "cell_type": "code",
      "source": [
        "df.corr()"
      ],
      "metadata": {
        "colab": {
          "base_uri": "https://localhost:8080/",
          "height": 331
        },
        "id": "hJegzMur7h_r",
        "outputId": "da406d04-ebec-42ac-872c-99d00cb46eaa"
      },
      "execution_count": null,
      "outputs": [
        {
          "output_type": "execute_result",
          "data": {
            "text/plain": [
              "              MedInc  HouseAge  AveRooms  AveBedrms  Population  AveOccup  \\\n",
              "MedInc      1.000000 -0.119031  0.326876  -0.062045    0.004840  0.018779   \n",
              "HouseAge   -0.119031  1.000000 -0.153293  -0.077768   -0.296244  0.013196   \n",
              "AveRooms    0.326876 -0.153293  1.000000   0.847608   -0.072212 -0.004842   \n",
              "AveBedrms  -0.062045 -0.077768  0.847608   1.000000   -0.066167 -0.006227   \n",
              "Population  0.004840 -0.296244 -0.072212  -0.066167    1.000000  0.069859   \n",
              "AveOccup    0.018779  0.013196 -0.004842  -0.006227    0.069859  1.000000   \n",
              "Latitude   -0.079813  0.011173  0.106378   0.069723   -0.108785  0.002367   \n",
              "Longitude  -0.015184 -0.108197 -0.027530   0.013321    0.099773  0.002474   \n",
              "target      0.688087  0.105662  0.151963  -0.046670   -0.024678 -0.023704   \n",
              "\n",
              "            Latitude  Longitude    target  \n",
              "MedInc     -0.079813  -0.015184  0.688087  \n",
              "HouseAge    0.011173  -0.108197  0.105662  \n",
              "AveRooms    0.106378  -0.027530  0.151963  \n",
              "AveBedrms   0.069723   0.013321 -0.046670  \n",
              "Population -0.108785   0.099773 -0.024678  \n",
              "AveOccup    0.002367   0.002474 -0.023704  \n",
              "Latitude    1.000000  -0.924664 -0.144155  \n",
              "Longitude  -0.924664   1.000000 -0.045967  \n",
              "target     -0.144155  -0.045967  1.000000  "
            ],
            "text/html": [
              "\n",
              "  <div id=\"df-764858c9-3e67-4e7a-a93d-001be3ebeb0b\">\n",
              "    <div class=\"colab-df-container\">\n",
              "      <div>\n",
              "<style scoped>\n",
              "    .dataframe tbody tr th:only-of-type {\n",
              "        vertical-align: middle;\n",
              "    }\n",
              "\n",
              "    .dataframe tbody tr th {\n",
              "        vertical-align: top;\n",
              "    }\n",
              "\n",
              "    .dataframe thead th {\n",
              "        text-align: right;\n",
              "    }\n",
              "</style>\n",
              "<table border=\"1\" class=\"dataframe\">\n",
              "  <thead>\n",
              "    <tr style=\"text-align: right;\">\n",
              "      <th></th>\n",
              "      <th>MedInc</th>\n",
              "      <th>HouseAge</th>\n",
              "      <th>AveRooms</th>\n",
              "      <th>AveBedrms</th>\n",
              "      <th>Population</th>\n",
              "      <th>AveOccup</th>\n",
              "      <th>Latitude</th>\n",
              "      <th>Longitude</th>\n",
              "      <th>target</th>\n",
              "    </tr>\n",
              "  </thead>\n",
              "  <tbody>\n",
              "    <tr>\n",
              "      <th>MedInc</th>\n",
              "      <td>1.000000</td>\n",
              "      <td>-0.119031</td>\n",
              "      <td>0.326876</td>\n",
              "      <td>-0.062045</td>\n",
              "      <td>0.004840</td>\n",
              "      <td>0.018779</td>\n",
              "      <td>-0.079813</td>\n",
              "      <td>-0.015184</td>\n",
              "      <td>0.688087</td>\n",
              "    </tr>\n",
              "    <tr>\n",
              "      <th>HouseAge</th>\n",
              "      <td>-0.119031</td>\n",
              "      <td>1.000000</td>\n",
              "      <td>-0.153293</td>\n",
              "      <td>-0.077768</td>\n",
              "      <td>-0.296244</td>\n",
              "      <td>0.013196</td>\n",
              "      <td>0.011173</td>\n",
              "      <td>-0.108197</td>\n",
              "      <td>0.105662</td>\n",
              "    </tr>\n",
              "    <tr>\n",
              "      <th>AveRooms</th>\n",
              "      <td>0.326876</td>\n",
              "      <td>-0.153293</td>\n",
              "      <td>1.000000</td>\n",
              "      <td>0.847608</td>\n",
              "      <td>-0.072212</td>\n",
              "      <td>-0.004842</td>\n",
              "      <td>0.106378</td>\n",
              "      <td>-0.027530</td>\n",
              "      <td>0.151963</td>\n",
              "    </tr>\n",
              "    <tr>\n",
              "      <th>AveBedrms</th>\n",
              "      <td>-0.062045</td>\n",
              "      <td>-0.077768</td>\n",
              "      <td>0.847608</td>\n",
              "      <td>1.000000</td>\n",
              "      <td>-0.066167</td>\n",
              "      <td>-0.006227</td>\n",
              "      <td>0.069723</td>\n",
              "      <td>0.013321</td>\n",
              "      <td>-0.046670</td>\n",
              "    </tr>\n",
              "    <tr>\n",
              "      <th>Population</th>\n",
              "      <td>0.004840</td>\n",
              "      <td>-0.296244</td>\n",
              "      <td>-0.072212</td>\n",
              "      <td>-0.066167</td>\n",
              "      <td>1.000000</td>\n",
              "      <td>0.069859</td>\n",
              "      <td>-0.108785</td>\n",
              "      <td>0.099773</td>\n",
              "      <td>-0.024678</td>\n",
              "    </tr>\n",
              "    <tr>\n",
              "      <th>AveOccup</th>\n",
              "      <td>0.018779</td>\n",
              "      <td>0.013196</td>\n",
              "      <td>-0.004842</td>\n",
              "      <td>-0.006227</td>\n",
              "      <td>0.069859</td>\n",
              "      <td>1.000000</td>\n",
              "      <td>0.002367</td>\n",
              "      <td>0.002474</td>\n",
              "      <td>-0.023704</td>\n",
              "    </tr>\n",
              "    <tr>\n",
              "      <th>Latitude</th>\n",
              "      <td>-0.079813</td>\n",
              "      <td>0.011173</td>\n",
              "      <td>0.106378</td>\n",
              "      <td>0.069723</td>\n",
              "      <td>-0.108785</td>\n",
              "      <td>0.002367</td>\n",
              "      <td>1.000000</td>\n",
              "      <td>-0.924664</td>\n",
              "      <td>-0.144155</td>\n",
              "    </tr>\n",
              "    <tr>\n",
              "      <th>Longitude</th>\n",
              "      <td>-0.015184</td>\n",
              "      <td>-0.108197</td>\n",
              "      <td>-0.027530</td>\n",
              "      <td>0.013321</td>\n",
              "      <td>0.099773</td>\n",
              "      <td>0.002474</td>\n",
              "      <td>-0.924664</td>\n",
              "      <td>1.000000</td>\n",
              "      <td>-0.045967</td>\n",
              "    </tr>\n",
              "    <tr>\n",
              "      <th>target</th>\n",
              "      <td>0.688087</td>\n",
              "      <td>0.105662</td>\n",
              "      <td>0.151963</td>\n",
              "      <td>-0.046670</td>\n",
              "      <td>-0.024678</td>\n",
              "      <td>-0.023704</td>\n",
              "      <td>-0.144155</td>\n",
              "      <td>-0.045967</td>\n",
              "      <td>1.000000</td>\n",
              "    </tr>\n",
              "  </tbody>\n",
              "</table>\n",
              "</div>\n",
              "      <button class=\"colab-df-convert\" onclick=\"convertToInteractive('df-764858c9-3e67-4e7a-a93d-001be3ebeb0b')\"\n",
              "              title=\"Convert this dataframe to an interactive table.\"\n",
              "              style=\"display:none;\">\n",
              "        \n",
              "  <svg xmlns=\"http://www.w3.org/2000/svg\" height=\"24px\"viewBox=\"0 0 24 24\"\n",
              "       width=\"24px\">\n",
              "    <path d=\"M0 0h24v24H0V0z\" fill=\"none\"/>\n",
              "    <path d=\"M18.56 5.44l.94 2.06.94-2.06 2.06-.94-2.06-.94-.94-2.06-.94 2.06-2.06.94zm-11 1L8.5 8.5l.94-2.06 2.06-.94-2.06-.94L8.5 2.5l-.94 2.06-2.06.94zm10 10l.94 2.06.94-2.06 2.06-.94-2.06-.94-.94-2.06-.94 2.06-2.06.94z\"/><path d=\"M17.41 7.96l-1.37-1.37c-.4-.4-.92-.59-1.43-.59-.52 0-1.04.2-1.43.59L10.3 9.45l-7.72 7.72c-.78.78-.78 2.05 0 2.83L4 21.41c.39.39.9.59 1.41.59.51 0 1.02-.2 1.41-.59l7.78-7.78 2.81-2.81c.8-.78.8-2.07 0-2.86zM5.41 20L4 18.59l7.72-7.72 1.47 1.35L5.41 20z\"/>\n",
              "  </svg>\n",
              "      </button>\n",
              "      \n",
              "  <style>\n",
              "    .colab-df-container {\n",
              "      display:flex;\n",
              "      flex-wrap:wrap;\n",
              "      gap: 12px;\n",
              "    }\n",
              "\n",
              "    .colab-df-convert {\n",
              "      background-color: #E8F0FE;\n",
              "      border: none;\n",
              "      border-radius: 50%;\n",
              "      cursor: pointer;\n",
              "      display: none;\n",
              "      fill: #1967D2;\n",
              "      height: 32px;\n",
              "      padding: 0 0 0 0;\n",
              "      width: 32px;\n",
              "    }\n",
              "\n",
              "    .colab-df-convert:hover {\n",
              "      background-color: #E2EBFA;\n",
              "      box-shadow: 0px 1px 2px rgba(60, 64, 67, 0.3), 0px 1px 3px 1px rgba(60, 64, 67, 0.15);\n",
              "      fill: #174EA6;\n",
              "    }\n",
              "\n",
              "    [theme=dark] .colab-df-convert {\n",
              "      background-color: #3B4455;\n",
              "      fill: #D2E3FC;\n",
              "    }\n",
              "\n",
              "    [theme=dark] .colab-df-convert:hover {\n",
              "      background-color: #434B5C;\n",
              "      box-shadow: 0px 1px 3px 1px rgba(0, 0, 0, 0.15);\n",
              "      filter: drop-shadow(0px 1px 2px rgba(0, 0, 0, 0.3));\n",
              "      fill: #FFFFFF;\n",
              "    }\n",
              "  </style>\n",
              "\n",
              "      <script>\n",
              "        const buttonEl =\n",
              "          document.querySelector('#df-764858c9-3e67-4e7a-a93d-001be3ebeb0b button.colab-df-convert');\n",
              "        buttonEl.style.display =\n",
              "          google.colab.kernel.accessAllowed ? 'block' : 'none';\n",
              "\n",
              "        async function convertToInteractive(key) {\n",
              "          const element = document.querySelector('#df-764858c9-3e67-4e7a-a93d-001be3ebeb0b');\n",
              "          const dataTable =\n",
              "            await google.colab.kernel.invokeFunction('convertToInteractive',\n",
              "                                                     [key], {});\n",
              "          if (!dataTable) return;\n",
              "\n",
              "          const docLinkHtml = 'Like what you see? Visit the ' +\n",
              "            '<a target=\"_blank\" href=https://colab.research.google.com/notebooks/data_table.ipynb>data table notebook</a>'\n",
              "            + ' to learn more about interactive tables.';\n",
              "          element.innerHTML = '';\n",
              "          dataTable['output_type'] = 'display_data';\n",
              "          await google.colab.output.renderOutput(dataTable, element);\n",
              "          const docLink = document.createElement('div');\n",
              "          docLink.innerHTML = docLinkHtml;\n",
              "          element.appendChild(docLink);\n",
              "        }\n",
              "      </script>\n",
              "    </div>\n",
              "  </div>\n",
              "  "
            ]
          },
          "metadata": {},
          "execution_count": 10
        }
      ]
    },
    {
      "cell_type": "code",
      "source": [
        "df_new = df.drop(['target'], axis = 1)\n",
        "correlation = df_new.corr()\n",
        "plt.figure(figsize= (10, 5))\n",
        "sns.heatmap(correlation, annot = True, cmap = 'coolwarm')\n",
        "plt.title(\"correlation heatmap\")\n",
        "plt.show()"
      ],
      "metadata": {
        "colab": {
          "base_uri": "https://localhost:8080/",
          "height": 468
        },
        "id": "UIrJtQJM73w3",
        "outputId": "3306f50c-198a-4450-b522-c5f5248d7533"
      },
      "execution_count": null,
      "outputs": [
        {
          "output_type": "display_data",
          "data": {
            "text/plain": [
              "<Figure size 1000x500 with 2 Axes>"
            ],
            "image/png": "[encoded data removed]"
          },
          "metadata": {}
        }
      ]
    },
    {
      "cell_type": "code",
      "source": [
        "# Calculate the correlation coefficients\n",
        "correlation_coeffs = df.corr()['target'].abs().sort_values(ascending=False)\n",
        "\n",
        "# Print the correlation coefficients\n",
        "print(correlation_coeffs)"
      ],
      "metadata": {
        "colab": {
          "base_uri": "https://localhost:8080/"
        },
        "id": "qBPELx2g9pmR",
        "outputId": "d5896fa0-757b-43be-b57a-09388ba497dd"
      },
      "execution_count": null,
      "outputs": [
        {
          "output_type": "stream",
          "name": "stdout",
          "text": [
            "target        1.000000\n",
            "MedInc        0.688087\n",
            "AveRooms      0.151963\n",
            "Latitude      0.144155\n",
            "HouseAge      0.105662\n",
            "AveBedrms     0.046670\n",
            "Longitude     0.045967\n",
            "Population    0.024678\n",
            "AveOccup      0.023704\n",
            "Name: target, dtype: float64\n"
          ]
        }
      ]
    },
    {
      "cell_type": "code",
      "source": [
        "df.drop(['AveBedrms', 'Longitude'],axis = 1, inplace = True)"
      ],
      "metadata": {
        "id": "YQ1rCGo2E-EG"
      },
      "execution_count": null,
      "outputs": []
    },
    {
      "cell_type": "code",
      "source": [
        "df"
      ],
      "metadata": {
        "colab": {
          "base_uri": "https://localhost:8080/",
          "height": 423
        },
        "id": "dP95J35EHaxq",
        "outputId": "57ff28e0-269a-474a-a4f8-698a633ac450"
      },
      "execution_count": null,
      "outputs": [
        {
          "output_type": "execute_result",
          "data": {
            "text/plain": [
              "       MedInc  HouseAge  AveRooms  Population  AveOccup  Latitude  target\n",
              "0        8.33      41.0      6.98       322.0      2.56     37.88    4.53\n",
              "1        8.30      21.0      6.24      2401.0      2.11     37.86    3.58\n",
              "2        7.26      52.0      8.29       496.0      2.80     37.85    3.52\n",
              "3        5.64      52.0      5.82       558.0      2.55     37.85    3.41\n",
              "4        3.85      52.0      6.28       565.0      2.18     37.85    3.42\n",
              "...       ...       ...       ...         ...       ...       ...     ...\n",
              "20635    1.56      25.0      5.05       845.0      2.56     39.48    0.78\n",
              "20636    2.56      18.0      6.11       356.0      3.12     39.49    0.77\n",
              "20637    1.70      17.0      5.21      1007.0      2.33     39.43    0.92\n",
              "20638    1.87      18.0      5.33       741.0      2.12     39.43    0.85\n",
              "20639    2.39      16.0      5.25      1387.0      2.62     39.37    0.89\n",
              "\n",
              "[20640 rows x 7 columns]"
            ],
            "text/html": [
              "\n",
              "  <div id=\"df-26d66b55-598d-4ba7-a02c-5ea57a72064c\">\n",
              "    <div class=\"colab-df-container\">\n",
              "      <div>\n",
              "<style scoped>\n",
              "    .dataframe tbody tr th:only-of-type {\n",
              "        vertical-align: middle;\n",
              "    }\n",
              "\n",
              "    .dataframe tbody tr th {\n",
              "        vertical-align: top;\n",
              "    }\n",
              "\n",
              "    .dataframe thead th {\n",
              "        text-align: right;\n",
              "    }\n",
              "</style>\n",
              "<table border=\"1\" class=\"dataframe\">\n",
              "  <thead>\n",
              "    <tr style=\"text-align: right;\">\n",
              "      <th></th>\n",
              "      <th>MedInc</th>\n",
              "      <th>HouseAge</th>\n",
              "      <th>AveRooms</th>\n",
              "      <th>Population</th>\n",
              "      <th>AveOccup</th>\n",
              "      <th>Latitude</th>\n",
              "      <th>target</th>\n",
              "    </tr>\n",
              "  </thead>\n",
              "  <tbody>\n",
              "    <tr>\n",
              "      <th>0</th>\n",
              "      <td>8.33</td>\n",
              "      <td>41.0</td>\n",
              "      <td>6.98</td>\n",
              "      <td>322.0</td>\n",
              "      <td>2.56</td>\n",
              "      <td>37.88</td>\n",
              "      <td>4.53</td>\n",
              "    </tr>\n",
              "    <tr>\n",
              "      <th>1</th>\n",
              "      <td>8.30</td>\n",
              "      <td>21.0</td>\n",
              "      <td>6.24</td>\n",
              "      <td>2401.0</td>\n",
              "      <td>2.11</td>\n",
              "      <td>37.86</td>\n",
              "      <td>3.58</td>\n",
              "    </tr>\n",
              "    <tr>\n",
              "      <th>2</th>\n",
              "      <td>7.26</td>\n",
              "      <td>52.0</td>\n",
              "      <td>8.29</td>\n",
              "      <td>496.0</td>\n",
              "      <td>2.80</td>\n",
              "      <td>37.85</td>\n",
              "      <td>3.52</td>\n",
              "    </tr>\n",
              "    <tr>\n",
              "      <th>3</th>\n",
              "      <td>5.64</td>\n",
              "      <td>52.0</td>\n",
              "      <td>5.82</td>\n",
              "      <td>558.0</td>\n",
              "      <td>2.55</td>\n",
              "      <td>37.85</td>\n",
              "      <td>3.41</td>\n",
              "    </tr>\n",
              "    <tr>\n",
              "      <th>4</th>\n",
              "      <td>3.85</td>\n",
              "      <td>52.0</td>\n",
              "      <td>6.28</td>\n",
              "      <td>565.0</td>\n",
              "      <td>2.18</td>\n",
              "      <td>37.85</td>\n",
              "      <td>3.42</td>\n",
              "    </tr>\n",
              "    <tr>\n",
              "      <th>...</th>\n",
              "      <td>...</td>\n",
              "      <td>...</td>\n",
              "      <td>...</td>\n",
              "      <td>...</td>\n",
              "      <td>...</td>\n",
              "      <td>...</td>\n",
              "      <td>...</td>\n",
              "    </tr>\n",
              "    <tr>\n",
              "      <th>20635</th>\n",
              "      <td>1.56</td>\n",
              "      <td>25.0</td>\n",
              "      <td>5.05</td>\n",
              "      <td>845.0</td>\n",
              "      <td>2.56</td>\n",
              "      <td>39.48</td>\n",
              "      <td>0.78</td>\n",
              "    </tr>\n",
              "    <tr>\n",
              "      <th>20636</th>\n",
              "      <td>2.56</td>\n",
              "      <td>18.0</td>\n",
              "      <td>6.11</td>\n",
              "      <td>356.0</td>\n",
              "      <td>3.12</td>\n",
              "      <td>39.49</td>\n",
              "      <td>0.77</td>\n",
              "    </tr>\n",
              "    <tr>\n",
              "      <th>20637</th>\n",
              "      <td>1.70</td>\n",
              "      <td>17.0</td>\n",
              "      <td>5.21</td>\n",
              "      <td>1007.0</td>\n",
              "      <td>2.33</td>\n",
              "      <td>39.43</td>\n",
              "      <td>0.92</td>\n",
              "    </tr>\n",
              "    <tr>\n",
              "      <th>20638</th>\n",
              "      <td>1.87</td>\n",
              "      <td>18.0</td>\n",
              "      <td>5.33</td>\n",
              "      <td>741.0</td>\n",
              "      <td>2.12</td>\n",
              "      <td>39.43</td>\n",
              "      <td>0.85</td>\n",
              "    </tr>\n",
              "    <tr>\n",
              "      <th>20639</th>\n",
              "      <td>2.39</td>\n",
              "      <td>16.0</td>\n",
              "      <td>5.25</td>\n",
              "      <td>1387.0</td>\n",
              "      <td>2.62</td>\n",
              "      <td>39.37</td>\n",
              "      <td>0.89</td>\n",
              "    </tr>\n",
              "  </tbody>\n",
              "</table>\n",
              "<p>20640 rows × 7 columns</p>\n",
              "</div>\n",
              "      <button class=\"colab-df-convert\" onclick=\"convertToInteractive('df-26d66b55-598d-4ba7-a02c-5ea57a72064c')\"\n",
              "              title=\"Convert this dataframe to an interactive table.\"\n",
              "              style=\"display:none;\">\n",
              "        \n",
              "  <svg xmlns=\"http://www.w3.org/2000/svg\" height=\"24px\"viewBox=\"0 0 24 24\"\n",
              "       width=\"24px\">\n",
              "    <path d=\"M0 0h24v24H0V0z\" fill=\"none\"/>\n",
              "    <path d=\"M18.56 5.44l.94 2.06.94-2.06 2.06-.94-2.06-.94-.94-2.06-.94 2.06-2.06.94zm-11 1L8.5 8.5l.94-2.06 2.06-.94-2.06-.94L8.5 2.5l-.94 2.06-2.06.94zm10 10l.94 2.06.94-2.06 2.06-.94-2.06-.94-.94-2.06-.94 2.06-2.06.94z\"/><path d=\"M17.41 7.96l-1.37-1.37c-.4-.4-.92-.59-1.43-.59-.52 0-1.04.2-1.43.59L10.3 9.45l-7.72 7.72c-.78.78-.78 2.05 0 2.83L4 21.41c.39.39.9.59 1.41.59.51 0 1.02-.2 1.41-.59l7.78-7.78 2.81-2.81c.8-.78.8-2.07 0-2.86zM5.41 20L4 18.59l7.72-7.72 1.47 1.35L5.41 20z\"/>\n",
              "  </svg>\n",
              "      </button>\n",
              "      \n",
              "  <style>\n",
              "    .colab-df-container {\n",
              "      display:flex;\n",
              "      flex-wrap:wrap;\n",
              "      gap: 12px;\n",
              "    }\n",
              "\n",
              "    .colab-df-convert {\n",
              "      background-color: #E8F0FE;\n",
              "      border: none;\n",
              "      border-radius: 50%;\n",
              "      cursor: pointer;\n",
              "      display: none;\n",
              "      fill: #1967D2;\n",
              "      height: 32px;\n",
              "      padding: 0 0 0 0;\n",
              "      width: 32px;\n",
              "    }\n",
              "\n",
              "    .colab-df-convert:hover {\n",
              "      background-color: #E2EBFA;\n",
              "      box-shadow: 0px 1px 2px rgba(60, 64, 67, 0.3), 0px 1px 3px 1px rgba(60, 64, 67, 0.15);\n",
              "      fill: #174EA6;\n",
              "    }\n",
              "\n",
              "    [theme=dark] .colab-df-convert {\n",
              "      background-color: #3B4455;\n",
              "      fill: #D2E3FC;\n",
              "    }\n",
              "\n",
              "    [theme=dark] .colab-df-convert:hover {\n",
              "      background-color: #434B5C;\n",
              "      box-shadow: 0px 1px 3px 1px rgba(0, 0, 0, 0.15);\n",
              "      filter: drop-shadow(0px 1px 2px rgba(0, 0, 0, 0.3));\n",
              "      fill: #FFFFFF;\n",
              "    }\n",
              "  </style>\n",
              "\n",
              "      <script>\n",
              "        const buttonEl =\n",
              "          document.querySelector('#df-26d66b55-598d-4ba7-a02c-5ea57a72064c button.colab-df-convert');\n",
              "        buttonEl.style.display =\n",
              "          google.colab.kernel.accessAllowed ? 'block' : 'none';\n",
              "\n",
              "        async function convertToInteractive(key) {\n",
              "          const element = document.querySelector('#df-26d66b55-598d-4ba7-a02c-5ea57a72064c');\n",
              "          const dataTable =\n",
              "            await google.colab.kernel.invokeFunction('convertToInteractive',\n",
              "                                                     [key], {});\n",
              "          if (!dataTable) return;\n",
              "\n",
              "          const docLinkHtml = 'Like what you see? Visit the ' +\n",
              "            '<a target=\"_blank\" href=https://colab.research.google.com/notebooks/data_table.ipynb>data table notebook</a>'\n",
              "            + ' to learn more about interactive tables.';\n",
              "          element.innerHTML = '';\n",
              "          dataTable['output_type'] = 'display_data';\n",
              "          await google.colab.output.renderOutput(dataTable, element);\n",
              "          const docLink = document.createElement('div');\n",
              "          docLink.innerHTML = docLinkHtml;\n",
              "          element.appendChild(docLink);\n",
              "        }\n",
              "      </script>\n",
              "    </div>\n",
              "  </div>\n",
              "  "
            ]
          },
          "metadata": {},
          "execution_count": 14
        }
      ]
    },
    {
      "cell_type": "markdown",
      "source": [
        "## Outlier Detection & Removal"
      ],
      "metadata": {
        "id": "tExWbQtbhVSZ"
      }
    },
    {
      "cell_type": "code",
      "source": [
        "sns.boxplot(x = df['MedInc'])"
      ],
      "metadata": {
        "colab": {
          "base_uri": "https://localhost:8080/",
          "height": 467
        },
        "id": "Fr7UhqjqOlwo",
        "outputId": "18ddec69-44aa-46d4-a6ee-1edaa837aa97"
      },
      "execution_count": null,
      "outputs": [
        {
          "output_type": "execute_result",
          "data": {
            "text/plain": [
              "<Axes: xlabel='MedInc'>"
            ]
          },
          "metadata": {},
          "execution_count": 15
        },
        {
          "output_type": "display_data",
          "data": {
            "text/plain": [
              "<Figure size 640x480 with 1 Axes>"
            ],
            "image/png": "[encoded data removed]"
          },
          "metadata": {}
        }
      ]
    },
    {
      "cell_type": "code",
      "source": [
        "med_inc = df['MedInc'].values\n",
        "target = df['target'].values\n",
        "print(med_inc.shape)"
      ],
      "metadata": {
        "id": "JNkGGTSEJ8j8",
        "colab": {
          "base_uri": "https://localhost:8080/"
        },
        "outputId": "7351adc2-bcf6-42c1-832b-45d6bb862d64"
      },
      "execution_count": null,
      "outputs": [
        {
          "output_type": "stream",
          "name": "stdout",
          "text": [
            "(20640,)\n"
          ]
        }
      ]
    },
    {
      "cell_type": "code",
      "source": [
        "# Sort the arrays\n",
        "sorted_indices = np.argsort(med_inc)\n",
        "med_inc_sorted = med_inc[sorted_indices]\n",
        "y_sorted = target[sorted_indices]\n",
        "\n",
        "q1, q3 = np.percentile(med_inc_sorted, [25, 75])\n",
        "iqr = q3 - q1\n",
        "lower_fence = q1 - (1.5 * iqr)\n",
        "upper_fence = q3 + (2 * iqr)\n",
        "\n",
        "# Remove outliers based on the lower and upper fences\n",
        "filtered_indices = (med_inc_sorted >= lower_fence) & (med_inc_sorted <= upper_fence)\n",
        "x = med_inc_sorted[filtered_indices]\n",
        "Y = y_sorted[filtered_indices]\n",
        "\n",
        "# Print the shapes of the filtered arrays\n",
        "print(\"Filtered MedInc shape:\", x.shape)\n",
        "print(\"Filtered target shape:\", Y.shape)\n",
        "\n",
        "# Assuming sorted_med contains the filtered values\n",
        "sns.boxplot(x = x)\n",
        "plt.xlabel('MedInc')\n",
        "plt.ylabel('Value')\n",
        "plt.title('Box Plot - MedInc')\n",
        "plt.show()\n"
      ],
      "metadata": {
        "colab": {
          "base_uri": "https://localhost:8080/",
          "height": 509
        },
        "id": "BA42A3_JA-la",
        "outputId": "c40dd692-b37d-4182-bcaa-fabd0e548715"
      },
      "execution_count": null,
      "outputs": [
        {
          "output_type": "stream",
          "name": "stdout",
          "text": [
            "Filtered MedInc shape: (20246,)\n",
            "Filtered target shape: (20246,)\n"
          ]
        },
        {
          "output_type": "display_data",
          "data": {
            "text/plain": [
              "<Figure size 640x480 with 1 Axes>"
            ],
            "image/png": "[encoded data removed]"
          },
          "metadata": {}
        }
      ]
    },
    {
      "cell_type": "markdown",
      "source": [
        "## Train Test Split"
      ],
      "metadata": {
        "id": "-KVZ51jshf1H"
      }
    },
    {
      "cell_type": "code",
      "source": [
        "X_train, X_test, y_train, y_test = train_test_split(x, Y, test_size=0.33, random_state=4)\n",
        "print(X_train.shape)"
      ],
      "metadata": {
        "colab": {
          "base_uri": "https://localhost:8080/"
        },
        "id": "zsygWuFBKSSZ",
        "outputId": "82e05972-76d1-4f8e-902b-3bd26b320c73"
      },
      "execution_count": null,
      "outputs": [
        {
          "output_type": "stream",
          "name": "stdout",
          "text": [
            "(13564,)\n"
          ]
        }
      ]
    },
    {
      "cell_type": "code",
      "source": [
        "X_test.shape"
      ],
      "metadata": {
        "colab": {
          "base_uri": "https://localhost:8080/"
        },
        "id": "Y1f7obIGMRHm",
        "outputId": "66ffd266-1261-4a5c-f15b-65ff4abe76fc"
      },
      "execution_count": null,
      "outputs": [
        {
          "output_type": "execute_result",
          "data": {
            "text/plain": [
              "(6682,)"
            ]
          },
          "metadata": {},
          "execution_count": 19
        }
      ]
    },
    {
      "cell_type": "markdown",
      "source": [
        "## Normalization of values"
      ],
      "metadata": {
        "id": "jikpWJJMhngZ"
      }
    },
    {
      "cell_type": "code",
      "source": [
        "scaler = StandardScaler()\n",
        "scaler.fit(X_train.reshape(-1, 1)) # mean, sigma.\n",
        "X_train_normal = scaler.transform(X_train.reshape(-1, 1))\n",
        "print(X_train_normal)\n",
        "X_test_normal = scaler.transform(X_test.reshape(-1, 1))"
      ],
      "metadata": {
        "colab": {
          "base_uri": "https://localhost:8080/"
        },
        "id": "7IVOzDF2NNX7",
        "outputId": "dd86aa51-7b41-41b6-ea83-e9a3bed0f403"
      },
      "execution_count": null,
      "outputs": [
        {
          "output_type": "stream",
          "name": "stdout",
          "text": [
            "[[ 1.60274608]\n",
            " [ 1.29972491]\n",
            " [-1.33908445]\n",
            " ...\n",
            " [ 1.00301668]\n",
            " [-0.36689153]\n",
            " [ 1.13558844]]\n"
          ]
        }
      ]
    },
    {
      "cell_type": "markdown",
      "source": [
        "# Linear Regression Model"
      ],
      "metadata": {
        "id": "gSP4I5HghtOs"
      }
    },
    {
      "cell_type": "code",
      "source": [
        "model = LinearRegression()\n",
        "model.fit(X_train_normal, y_train)\n",
        "y_pred = model.predict(X_test_normal)\n",
        "print(model.coef_)\n",
        "print(model.intercept_)\n",
        "mse = mean_squared_error(y_test, y_pred)\n",
        "print(mse)"
      ],
      "metadata": {
        "colab": {
          "base_uri": "https://localhost:8080/"
        },
        "id": "6DLs3CRON0Kt",
        "outputId": "a092e555-ca8d-4c7b-bfe4-7a71beffb4da"
      },
      "execution_count": null,
      "outputs": [
        {
          "output_type": "stream",
          "name": "stdout",
          "text": [
            "[0.71085143]\n",
            "2.0235196107342968\n",
            "0.6665108402474925\n"
          ]
        }
      ]
    },
    {
      "cell_type": "code",
      "source": [
        "z = int(model.predict(X_test_normal[0].reshape(-1, 1)))\n",
        "print(f\"Dollar : {z * 1000000} $\")"
      ],
      "metadata": {
        "colab": {
          "base_uri": "https://localhost:8080/"
        },
        "id": "9G2YqlvHTsW2",
        "outputId": "551f239a-3b38-42ec-89ab-f7794994d8d9"
      },
      "execution_count": null,
      "outputs": [
        {
          "output_type": "stream",
          "name": "stdout",
          "text": [
            "Dollar : 2000000 $\n"
          ]
        }
      ]
    },
    {
      "cell_type": "code",
      "source": [
        "plt.scatter(X_test, y_test, color='blue', label='Actual', alpha = 0.3)\n",
        "plt.plot(X_test, y_pred, color='red', linewidth=2, label='Predicted')\n",
        "plt.xlabel('Income')\n",
        "plt.ylabel('House Price')\n",
        "plt.title('Linear Regression - California Housing Dataset')\n",
        "plt.show()"
      ],
      "metadata": {
        "colab": {
          "base_uri": "https://localhost:8080/",
          "height": 472
        },
        "id": "85TrI79VPJRf",
        "outputId": "348b7219-ff01-4dc5-da9a-f3a41e42304b"
      },
      "execution_count": null,
      "outputs": [
        {
          "output_type": "display_data",
          "data": {
            "text/plain": [
              "<Figure size 640x480 with 1 Axes>"
            ],
            "image/png": "[encoded data removed]"
          },
          "metadata": {}
        }
      ]
    },
    {
      "cell_type": "code",
      "source": [
        "from sklearn.metrics import mean_squared_error, mean_absolute_error\n",
        "mse = mean_squared_error(y_test, y_pred)\n",
        "mae = mean_absolute_error(y_test, y_pred)\n",
        "\n",
        "print(\"Mean Squared Error (MSE):\", mse)\n",
        "print(\"Mean Absolute Error (MAE):\", mae)"
      ],
      "metadata": {
        "colab": {
          "base_uri": "https://localhost:8080/"
        },
        "id": "_d2BAFL5Q3Wt",
        "outputId": "17f37086-c5df-4f58-cbd2-634155705367"
      },
      "execution_count": null,
      "outputs": [
        {
          "output_type": "stream",
          "name": "stdout",
          "text": [
            "Mean Squared Error (MSE): 0.6665108402474925\n",
            "Mean Absolute Error (MAE): 0.6143632030133679\n"
          ]
        }
      ]
    },
    {
      "cell_type": "markdown",
      "source": [
        "Mathematically Solved Regression Problems\n",
        "\n",
        "https://www.brainkart.com/article/Solved-Example-Problems-for-Regression-Analysis_37036/\n",
        "\n",
        "Outlier detection & removal\n",
        "\n",
        "https://www.vedantu.com/maths/outliers\n",
        "\n",
        "what is difference between Covariance and Correlation?\n",
        "\n",
        "what is difference between Bias and Variance, and how to remove Bias and Variance?\n",
        "\n",
        "what is Cross-Validation and how it helps to trained parameters of model?\n",
        "\n",
        "what is difference between r2, adjusted r2, mse, mae, rmse?\n"
      ],
      "metadata": {
        "id": "hAlYyM07oBdj"
      }
    },
    {
      "cell_type": "code",
      "source": [],
      "metadata": {
        "id": "kZcXXriJP9DN"
      },
      "execution_count": null,
      "outputs": []
    }
  ]
}