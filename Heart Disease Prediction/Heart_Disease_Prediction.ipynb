{
  "nbformat": 4,
  "nbformat_minor": 0,
  "metadata": {
    "colab": {
      "provenance": []
    },
    "kernelspec": {
      "name": "python3",
      "display_name": "Python 3"
    },
    "language_info": {
      "name": "python"
    }
  },
  "cells": [
    {
      "cell_type": "markdown",
      "source": [
        "#**Heart Disease Prediction**"
      ],
      "metadata": {
        "id": "AhW1Ms-H8BpX"
      }
    },
    {
      "cell_type": "markdown",
      "source": [
        "##**Importing Libraries**\n",
        "\n"
      ],
      "metadata": {
        "id": "Q15NQCee8ZzD"
      }
    },
    {
      "cell_type": "code",
      "execution_count": 209,
      "metadata": {
        "id": "oPwsSisL1fLq"
      },
      "outputs": [],
      "source": [
        "import numpy as np\n",
        "import pandas as pd\n",
        "import matplotlib.pyplot as plt\n",
        "from matplotlib import rcParams\n",
        "from matplotlib.cm import rainbow\n",
        "import seaborn as sns"
      ]
    },
    {
      "cell_type": "code",
      "source": [
        "from sklearn.model_selection import train_test_split\n",
        "from sklearn.preprocessing import StandardScaler\n",
        "from sklearn.metrics import accuracy_score"
      ],
      "metadata": {
        "id": "57LV-4YK1z8k"
      },
      "execution_count": 210,
      "outputs": []
    },
    {
      "cell_type": "markdown",
      "source": [
        "##**Importing Models**"
      ],
      "metadata": {
        "id": "9UE2w77vA1EU"
      }
    },
    {
      "cell_type": "code",
      "source": [
        "from sklearn.linear_model import LogisticRegression\n",
        "from sklearn.naive_bayes import GaussianNB\n",
        "from sklearn.neighbors import KNeighborsClassifier\n",
        "from sklearn.svm import SVC\n",
        "from sklearn.tree import DecisionTreeClassifier\n",
        "from sklearn.ensemble import RandomForestClassifier\n",
        "\n",
        "from keras.models import Sequential\n",
        "from keras.layers import Dense"
      ],
      "metadata": {
        "id": "39vyIMdG18Zo"
      },
      "execution_count": 211,
      "outputs": []
    },
    {
      "cell_type": "markdown",
      "source": [
        "Heart disease prediction dataset. Here the link from where I have downloaded this dataset.\n",
        "https://www.kaggle.com/datasets/rishidamarla/heart-disease-prediction"
      ],
      "metadata": {
        "id": "kayLTXC9A65c"
      }
    },
    {
      "cell_type": "code",
      "source": [
        "dataset = pd.read_csv('heart.csv')"
      ],
      "metadata": {
        "id": "0SqM9ak51_H1"
      },
      "execution_count": 212,
      "outputs": []
    },
    {
      "cell_type": "code",
      "source": [
        "type(dataset)"
      ],
      "metadata": {
        "colab": {
          "base_uri": "https://localhost:8080/"
        },
        "id": "DlJUKfsn2fYP",
        "outputId": "b3d12cb2-7f48-43f3-d347-ca5ba81dedad"
      },
      "execution_count": 213,
      "outputs": [
        {
          "output_type": "execute_result",
          "data": {
            "text/plain": [
              "pandas.core.frame.DataFrame"
            ]
          },
          "metadata": {},
          "execution_count": 213
        }
      ]
    },
    {
      "cell_type": "code",
      "source": [
        "dataset.shape"
      ],
      "metadata": {
        "colab": {
          "base_uri": "https://localhost:8080/"
        },
        "id": "NHb_wmlK2lRC",
        "outputId": "b4141282-f7d2-49d5-dff4-9eec5e81192e"
      },
      "execution_count": 214,
      "outputs": [
        {
          "output_type": "execute_result",
          "data": {
            "text/plain": [
              "(1025, 14)"
            ]
          },
          "metadata": {},
          "execution_count": 214
        }
      ]
    },
    {
      "cell_type": "code",
      "source": [
        "dataset.head(10)"
      ],
      "metadata": {
        "colab": {
          "base_uri": "https://localhost:8080/",
          "height": 363
        },
        "id": "8hUJxNUu2nOr",
        "outputId": "3a34302d-212c-4f24-ec1c-eea169aab964"
      },
      "execution_count": 215,
      "outputs": [
        {
          "output_type": "execute_result",
          "data": {
            "text/plain": [
              "   age  sex  cp  trestbps  chol  fbs  restecg  thalach  exang  oldpeak  slope  \\\n",
              "0   52    1   0       125   212    0        1      168      0      1.0      2   \n",
              "1   53    1   0       140   203    1        0      155      1      3.1      0   \n",
              "2   70    1   0       145   174    0        1      125      1      2.6      0   \n",
              "3   61    1   0       148   203    0        1      161      0      0.0      2   \n",
              "4   62    0   0       138   294    1        1      106      0      1.9      1   \n",
              "5   58    0   0       100   248    0        0      122      0      1.0      1   \n",
              "6   58    1   0       114   318    0        2      140      0      4.4      0   \n",
              "7   55    1   0       160   289    0        0      145      1      0.8      1   \n",
              "8   46    1   0       120   249    0        0      144      0      0.8      2   \n",
              "9   54    1   0       122   286    0        0      116      1      3.2      1   \n",
              "\n",
              "   ca  thal  target  \n",
              "0   2     3       0  \n",
              "1   0     3       0  \n",
              "2   0     3       0  \n",
              "3   1     3       0  \n",
              "4   3     2       0  \n",
              "5   0     2       1  \n",
              "6   3     1       0  \n",
              "7   1     3       0  \n",
              "8   0     3       0  \n",
              "9   2     2       0  "
            ],
            "text/html": [
              "\n",
              "  <div id=\"df-be316602-99c2-41ff-83f1-d25ec4c8b788\">\n",
              "    <div class=\"colab-df-container\">\n",
              "      <div>\n",
              "<style scoped>\n",
              "    .dataframe tbody tr th:only-of-type {\n",
              "        vertical-align: middle;\n",
              "    }\n",
              "\n",
              "    .dataframe tbody tr th {\n",
              "        vertical-align: top;\n",
              "    }\n",
              "\n",
              "    .dataframe thead th {\n",
              "        text-align: right;\n",
              "    }\n",
              "</style>\n",
              "<table border=\"1\" class=\"dataframe\">\n",
              "  <thead>\n",
              "    <tr style=\"text-align: right;\">\n",
              "      <th></th>\n",
              "      <th>age</th>\n",
              "      <th>sex</th>\n",
              "      <th>cp</th>\n",
              "      <th>trestbps</th>\n",
              "      <th>chol</th>\n",
              "      <th>fbs</th>\n",
              "      <th>restecg</th>\n",
              "      <th>thalach</th>\n",
              "      <th>exang</th>\n",
              "      <th>oldpeak</th>\n",
              "      <th>slope</th>\n",
              "      <th>ca</th>\n",
              "      <th>thal</th>\n",
              "      <th>target</th>\n",
              "    </tr>\n",
              "  </thead>\n",
              "  <tbody>\n",
              "    <tr>\n",
              "      <th>0</th>\n",
              "      <td>52</td>\n",
              "      <td>1</td>\n",
              "      <td>0</td>\n",
              "      <td>125</td>\n",
              "      <td>212</td>\n",
              "      <td>0</td>\n",
              "      <td>1</td>\n",
              "      <td>168</td>\n",
              "      <td>0</td>\n",
              "      <td>1.0</td>\n",
              "      <td>2</td>\n",
              "      <td>2</td>\n",
              "      <td>3</td>\n",
              "      <td>0</td>\n",
              "    </tr>\n",
              "    <tr>\n",
              "      <th>1</th>\n",
              "      <td>53</td>\n",
              "      <td>1</td>\n",
              "      <td>0</td>\n",
              "      <td>140</td>\n",
              "      <td>203</td>\n",
              "      <td>1</td>\n",
              "      <td>0</td>\n",
              "      <td>155</td>\n",
              "      <td>1</td>\n",
              "      <td>3.1</td>\n",
              "      <td>0</td>\n",
              "      <td>0</td>\n",
              "      <td>3</td>\n",
              "      <td>0</td>\n",
              "    </tr>\n",
              "    <tr>\n",
              "      <th>2</th>\n",
              "      <td>70</td>\n",
              "      <td>1</td>\n",
              "      <td>0</td>\n",
              "      <td>145</td>\n",
              "      <td>174</td>\n",
              "      <td>0</td>\n",
              "      <td>1</td>\n",
              "      <td>125</td>\n",
              "      <td>1</td>\n",
              "      <td>2.6</td>\n",
              "      <td>0</td>\n",
              "      <td>0</td>\n",
              "      <td>3</td>\n",
              "      <td>0</td>\n",
              "    </tr>\n",
              "    <tr>\n",
              "      <th>3</th>\n",
              "      <td>61</td>\n",
              "      <td>1</td>\n",
              "      <td>0</td>\n",
              "      <td>148</td>\n",
              "      <td>203</td>\n",
              "      <td>0</td>\n",
              "      <td>1</td>\n",
              "      <td>161</td>\n",
              "      <td>0</td>\n",
              "      <td>0.0</td>\n",
              "      <td>2</td>\n",
              "      <td>1</td>\n",
              "      <td>3</td>\n",
              "      <td>0</td>\n",
              "    </tr>\n",
              "    <tr>\n",
              "      <th>4</th>\n",
              "      <td>62</td>\n",
              "      <td>0</td>\n",
              "      <td>0</td>\n",
              "      <td>138</td>\n",
              "      <td>294</td>\n",
              "      <td>1</td>\n",
              "      <td>1</td>\n",
              "      <td>106</td>\n",
              "      <td>0</td>\n",
              "      <td>1.9</td>\n",
              "      <td>1</td>\n",
              "      <td>3</td>\n",
              "      <td>2</td>\n",
              "      <td>0</td>\n",
              "    </tr>\n",
              "    <tr>\n",
              "      <th>5</th>\n",
              "      <td>58</td>\n",
              "      <td>0</td>\n",
              "      <td>0</td>\n",
              "      <td>100</td>\n",
              "      <td>248</td>\n",
              "      <td>0</td>\n",
              "      <td>0</td>\n",
              "      <td>122</td>\n",
              "      <td>0</td>\n",
              "      <td>1.0</td>\n",
              "      <td>1</td>\n",
              "      <td>0</td>\n",
              "      <td>2</td>\n",
              "      <td>1</td>\n",
              "    </tr>\n",
              "    <tr>\n",
              "      <th>6</th>\n",
              "      <td>58</td>\n",
              "      <td>1</td>\n",
              "      <td>0</td>\n",
              "      <td>114</td>\n",
              "      <td>318</td>\n",
              "      <td>0</td>\n",
              "      <td>2</td>\n",
              "      <td>140</td>\n",
              "      <td>0</td>\n",
              "      <td>4.4</td>\n",
              "      <td>0</td>\n",
              "      <td>3</td>\n",
              "      <td>1</td>\n",
              "      <td>0</td>\n",
              "    </tr>\n",
              "    <tr>\n",
              "      <th>7</th>\n",
              "      <td>55</td>\n",
              "      <td>1</td>\n",
              "      <td>0</td>\n",
              "      <td>160</td>\n",
              "      <td>289</td>\n",
              "      <td>0</td>\n",
              "      <td>0</td>\n",
              "      <td>145</td>\n",
              "      <td>1</td>\n",
              "      <td>0.8</td>\n",
              "      <td>1</td>\n",
              "      <td>1</td>\n",
              "      <td>3</td>\n",
              "      <td>0</td>\n",
              "    </tr>\n",
              "    <tr>\n",
              "      <th>8</th>\n",
              "      <td>46</td>\n",
              "      <td>1</td>\n",
              "      <td>0</td>\n",
              "      <td>120</td>\n",
              "      <td>249</td>\n",
              "      <td>0</td>\n",
              "      <td>0</td>\n",
              "      <td>144</td>\n",
              "      <td>0</td>\n",
              "      <td>0.8</td>\n",
              "      <td>2</td>\n",
              "      <td>0</td>\n",
              "      <td>3</td>\n",
              "      <td>0</td>\n",
              "    </tr>\n",
              "    <tr>\n",
              "      <th>9</th>\n",
              "      <td>54</td>\n",
              "      <td>1</td>\n",
              "      <td>0</td>\n",
              "      <td>122</td>\n",
              "      <td>286</td>\n",
              "      <td>0</td>\n",
              "      <td>0</td>\n",
              "      <td>116</td>\n",
              "      <td>1</td>\n",
              "      <td>3.2</td>\n",
              "      <td>1</td>\n",
              "      <td>2</td>\n",
              "      <td>2</td>\n",
              "      <td>0</td>\n",
              "    </tr>\n",
              "  </tbody>\n",
              "</table>\n",
              "</div>\n",
              "      <button class=\"colab-df-convert\" onclick=\"convertToInteractive('df-be316602-99c2-41ff-83f1-d25ec4c8b788')\"\n",
              "              title=\"Convert this dataframe to an interactive table.\"\n",
              "              style=\"display:none;\">\n",
              "        \n",
              "  <svg xmlns=\"http://www.w3.org/2000/svg\" height=\"24px\"viewBox=\"0 0 24 24\"\n",
              "       width=\"24px\">\n",
              "    <path d=\"M0 0h24v24H0V0z\" fill=\"none\"/>\n",
              "    <path d=\"M18.56 5.44l.94 2.06.94-2.06 2.06-.94-2.06-.94-.94-2.06-.94 2.06-2.06.94zm-11 1L8.5 8.5l.94-2.06 2.06-.94-2.06-.94L8.5 2.5l-.94 2.06-2.06.94zm10 10l.94 2.06.94-2.06 2.06-.94-2.06-.94-.94-2.06-.94 2.06-2.06.94z\"/><path d=\"M17.41 7.96l-1.37-1.37c-.4-.4-.92-.59-1.43-.59-.52 0-1.04.2-1.43.59L10.3 9.45l-7.72 7.72c-.78.78-.78 2.05 0 2.83L4 21.41c.39.39.9.59 1.41.59.51 0 1.02-.2 1.41-.59l7.78-7.78 2.81-2.81c.8-.78.8-2.07 0-2.86zM5.41 20L4 18.59l7.72-7.72 1.47 1.35L5.41 20z\"/>\n",
              "  </svg>\n",
              "      </button>\n",
              "      \n",
              "  <style>\n",
              "    .colab-df-container {\n",
              "      display:flex;\n",
              "      flex-wrap:wrap;\n",
              "      gap: 12px;\n",
              "    }\n",
              "\n",
              "    .colab-df-convert {\n",
              "      background-color: #E8F0FE;\n",
              "      border: none;\n",
              "      border-radius: 50%;\n",
              "      cursor: pointer;\n",
              "      display: none;\n",
              "      fill: #1967D2;\n",
              "      height: 32px;\n",
              "      padding: 0 0 0 0;\n",
              "      width: 32px;\n",
              "    }\n",
              "\n",
              "    .colab-df-convert:hover {\n",
              "      background-color: #E2EBFA;\n",
              "      box-shadow: 0px 1px 2px rgba(60, 64, 67, 0.3), 0px 1px 3px 1px rgba(60, 64, 67, 0.15);\n",
              "      fill: #174EA6;\n",
              "    }\n",
              "\n",
              "    [theme=dark] .colab-df-convert {\n",
              "      background-color: #3B4455;\n",
              "      fill: #D2E3FC;\n",
              "    }\n",
              "\n",
              "    [theme=dark] .colab-df-convert:hover {\n",
              "      background-color: #434B5C;\n",
              "      box-shadow: 0px 1px 3px 1px rgba(0, 0, 0, 0.15);\n",
              "      filter: drop-shadow(0px 1px 2px rgba(0, 0, 0, 0.3));\n",
              "      fill: #FFFFFF;\n",
              "    }\n",
              "  </style>\n",
              "\n",
              "      <script>\n",
              "        const buttonEl =\n",
              "          document.querySelector('#df-be316602-99c2-41ff-83f1-d25ec4c8b788 button.colab-df-convert');\n",
              "        buttonEl.style.display =\n",
              "          google.colab.kernel.accessAllowed ? 'block' : 'none';\n",
              "\n",
              "        async function convertToInteractive(key) {\n",
              "          const element = document.querySelector('#df-be316602-99c2-41ff-83f1-d25ec4c8b788');\n",
              "          const dataTable =\n",
              "            await google.colab.kernel.invokeFunction('convertToInteractive',\n",
              "                                                     [key], {});\n",
              "          if (!dataTable) return;\n",
              "\n",
              "          const docLinkHtml = 'Like what you see? Visit the ' +\n",
              "            '<a target=\"_blank\" href=https://colab.research.google.com/notebooks/data_table.ipynb>data table notebook</a>'\n",
              "            + ' to learn more about interactive tables.';\n",
              "          element.innerHTML = '';\n",
              "          dataTable['output_type'] = 'display_data';\n",
              "          await google.colab.output.renderOutput(dataTable, element);\n",
              "          const docLink = document.createElement('div');\n",
              "          docLink.innerHTML = docLinkHtml;\n",
              "          element.appendChild(docLink);\n",
              "        }\n",
              "      </script>\n",
              "    </div>\n",
              "  </div>\n",
              "  "
            ]
          },
          "metadata": {},
          "execution_count": 215
        }
      ]
    },
    {
      "cell_type": "code",
      "source": [
        "dataset.sample(5)"
      ],
      "metadata": {
        "colab": {
          "base_uri": "https://localhost:8080/",
          "height": 206
        },
        "id": "dqm5YWax2pgf",
        "outputId": "cf08de0b-32ae-4d16-a063-61e1fbdb197d"
      },
      "execution_count": 216,
      "outputs": [
        {
          "output_type": "execute_result",
          "data": {
            "text/plain": [
              "      age  sex  cp  trestbps  chol  fbs  restecg  thalach  exang  oldpeak  \\\n",
              "131    51    0   2       130   256    0        0      149      0      0.5   \n",
              "84     37    0   2       120   215    0        1      170      0      0.0   \n",
              "1010   51    1   0       140   299    0        1      173      1      1.6   \n",
              "937    64    1   2       140   335    0        1      158      0      0.0   \n",
              "650    62    1   0       120   267    0        1       99      1      1.8   \n",
              "\n",
              "      slope  ca  thal  target  \n",
              "131       2   0     2       1  \n",
              "84        2   0     2       1  \n",
              "1010      2   0     3       0  \n",
              "937       2   0     2       0  \n",
              "650       1   2     3       0  "
            ],
            "text/html": [
              "\n",
              "  <div id=\"df-f5897ba3-b4fd-4abf-b207-dab5e12d8a10\">\n",
              "    <div class=\"colab-df-container\">\n",
              "      <div>\n",
              "<style scoped>\n",
              "    .dataframe tbody tr th:only-of-type {\n",
              "        vertical-align: middle;\n",
              "    }\n",
              "\n",
              "    .dataframe tbody tr th {\n",
              "        vertical-align: top;\n",
              "    }\n",
              "\n",
              "    .dataframe thead th {\n",
              "        text-align: right;\n",
              "    }\n",
              "</style>\n",
              "<table border=\"1\" class=\"dataframe\">\n",
              "  <thead>\n",
              "    <tr style=\"text-align: right;\">\n",
              "      <th></th>\n",
              "      <th>age</th>\n",
              "      <th>sex</th>\n",
              "      <th>cp</th>\n",
              "      <th>trestbps</th>\n",
              "      <th>chol</th>\n",
              "      <th>fbs</th>\n",
              "      <th>restecg</th>\n",
              "      <th>thalach</th>\n",
              "      <th>exang</th>\n",
              "      <th>oldpeak</th>\n",
              "      <th>slope</th>\n",
              "      <th>ca</th>\n",
              "      <th>thal</th>\n",
              "      <th>target</th>\n",
              "    </tr>\n",
              "  </thead>\n",
              "  <tbody>\n",
              "    <tr>\n",
              "      <th>131</th>\n",
              "      <td>51</td>\n",
              "      <td>0</td>\n",
              "      <td>2</td>\n",
              "      <td>130</td>\n",
              "      <td>256</td>\n",
              "      <td>0</td>\n",
              "      <td>0</td>\n",
              "      <td>149</td>\n",
              "      <td>0</td>\n",
              "      <td>0.5</td>\n",
              "      <td>2</td>\n",
              "      <td>0</td>\n",
              "      <td>2</td>\n",
              "      <td>1</td>\n",
              "    </tr>\n",
              "    <tr>\n",
              "      <th>84</th>\n",
              "      <td>37</td>\n",
              "      <td>0</td>\n",
              "      <td>2</td>\n",
              "      <td>120</td>\n",
              "      <td>215</td>\n",
              "      <td>0</td>\n",
              "      <td>1</td>\n",
              "      <td>170</td>\n",
              "      <td>0</td>\n",
              "      <td>0.0</td>\n",
              "      <td>2</td>\n",
              "      <td>0</td>\n",
              "      <td>2</td>\n",
              "      <td>1</td>\n",
              "    </tr>\n",
              "    <tr>\n",
              "      <th>1010</th>\n",
              "      <td>51</td>\n",
              "      <td>1</td>\n",
              "      <td>0</td>\n",
              "      <td>140</td>\n",
              "      <td>299</td>\n",
              "      <td>0</td>\n",
              "      <td>1</td>\n",
              "      <td>173</td>\n",
              "      <td>1</td>\n",
              "      <td>1.6</td>\n",
              "      <td>2</td>\n",
              "      <td>0</td>\n",
              "      <td>3</td>\n",
              "      <td>0</td>\n",
              "    </tr>\n",
              "    <tr>\n",
              "      <th>937</th>\n",
              "      <td>64</td>\n",
              "      <td>1</td>\n",
              "      <td>2</td>\n",
              "      <td>140</td>\n",
              "      <td>335</td>\n",
              "      <td>0</td>\n",
              "      <td>1</td>\n",
              "      <td>158</td>\n",
              "      <td>0</td>\n",
              "      <td>0.0</td>\n",
              "      <td>2</td>\n",
              "      <td>0</td>\n",
              "      <td>2</td>\n",
              "      <td>0</td>\n",
              "    </tr>\n",
              "    <tr>\n",
              "      <th>650</th>\n",
              "      <td>62</td>\n",
              "      <td>1</td>\n",
              "      <td>0</td>\n",
              "      <td>120</td>\n",
              "      <td>267</td>\n",
              "      <td>0</td>\n",
              "      <td>1</td>\n",
              "      <td>99</td>\n",
              "      <td>1</td>\n",
              "      <td>1.8</td>\n",
              "      <td>1</td>\n",
              "      <td>2</td>\n",
              "      <td>3</td>\n",
              "      <td>0</td>\n",
              "    </tr>\n",
              "  </tbody>\n",
              "</table>\n",
              "</div>\n",
              "      <button class=\"colab-df-convert\" onclick=\"convertToInteractive('df-f5897ba3-b4fd-4abf-b207-dab5e12d8a10')\"\n",
              "              title=\"Convert this dataframe to an interactive table.\"\n",
              "              style=\"display:none;\">\n",
              "        \n",
              "  <svg xmlns=\"http://www.w3.org/2000/svg\" height=\"24px\"viewBox=\"0 0 24 24\"\n",
              "       width=\"24px\">\n",
              "    <path d=\"M0 0h24v24H0V0z\" fill=\"none\"/>\n",
              "    <path d=\"M18.56 5.44l.94 2.06.94-2.06 2.06-.94-2.06-.94-.94-2.06-.94 2.06-2.06.94zm-11 1L8.5 8.5l.94-2.06 2.06-.94-2.06-.94L8.5 2.5l-.94 2.06-2.06.94zm10 10l.94 2.06.94-2.06 2.06-.94-2.06-.94-.94-2.06-.94 2.06-2.06.94z\"/><path d=\"M17.41 7.96l-1.37-1.37c-.4-.4-.92-.59-1.43-.59-.52 0-1.04.2-1.43.59L10.3 9.45l-7.72 7.72c-.78.78-.78 2.05 0 2.83L4 21.41c.39.39.9.59 1.41.59.51 0 1.02-.2 1.41-.59l7.78-7.78 2.81-2.81c.8-.78.8-2.07 0-2.86zM5.41 20L4 18.59l7.72-7.72 1.47 1.35L5.41 20z\"/>\n",
              "  </svg>\n",
              "      </button>\n",
              "      \n",
              "  <style>\n",
              "    .colab-df-container {\n",
              "      display:flex;\n",
              "      flex-wrap:wrap;\n",
              "      gap: 12px;\n",
              "    }\n",
              "\n",
              "    .colab-df-convert {\n",
              "      background-color: #E8F0FE;\n",
              "      border: none;\n",
              "      border-radius: 50%;\n",
              "      cursor: pointer;\n",
              "      display: none;\n",
              "      fill: #1967D2;\n",
              "      height: 32px;\n",
              "      padding: 0 0 0 0;\n",
              "      width: 32px;\n",
              "    }\n",
              "\n",
              "    .colab-df-convert:hover {\n",
              "      background-color: #E2EBFA;\n",
              "      box-shadow: 0px 1px 2px rgba(60, 64, 67, 0.3), 0px 1px 3px 1px rgba(60, 64, 67, 0.15);\n",
              "      fill: #174EA6;\n",
              "    }\n",
              "\n",
              "    [theme=dark] .colab-df-convert {\n",
              "      background-color: #3B4455;\n",
              "      fill: #D2E3FC;\n",
              "    }\n",
              "\n",
              "    [theme=dark] .colab-df-convert:hover {\n",
              "      background-color: #434B5C;\n",
              "      box-shadow: 0px 1px 3px 1px rgba(0, 0, 0, 0.15);\n",
              "      filter: drop-shadow(0px 1px 2px rgba(0, 0, 0, 0.3));\n",
              "      fill: #FFFFFF;\n",
              "    }\n",
              "  </style>\n",
              "\n",
              "      <script>\n",
              "        const buttonEl =\n",
              "          document.querySelector('#df-f5897ba3-b4fd-4abf-b207-dab5e12d8a10 button.colab-df-convert');\n",
              "        buttonEl.style.display =\n",
              "          google.colab.kernel.accessAllowed ? 'block' : 'none';\n",
              "\n",
              "        async function convertToInteractive(key) {\n",
              "          const element = document.querySelector('#df-f5897ba3-b4fd-4abf-b207-dab5e12d8a10');\n",
              "          const dataTable =\n",
              "            await google.colab.kernel.invokeFunction('convertToInteractive',\n",
              "                                                     [key], {});\n",
              "          if (!dataTable) return;\n",
              "\n",
              "          const docLinkHtml = 'Like what you see? Visit the ' +\n",
              "            '<a target=\"_blank\" href=https://colab.research.google.com/notebooks/data_table.ipynb>data table notebook</a>'\n",
              "            + ' to learn more about interactive tables.';\n",
              "          element.innerHTML = '';\n",
              "          dataTable['output_type'] = 'display_data';\n",
              "          await google.colab.output.renderOutput(dataTable, element);\n",
              "          const docLink = document.createElement('div');\n",
              "          docLink.innerHTML = docLinkHtml;\n",
              "          element.appendChild(docLink);\n",
              "        }\n",
              "      </script>\n",
              "    </div>\n",
              "  </div>\n",
              "  "
            ]
          },
          "metadata": {},
          "execution_count": 216
        }
      ]
    },
    {
      "cell_type": "code",
      "source": [
        "dataset.info()"
      ],
      "metadata": {
        "colab": {
          "base_uri": "https://localhost:8080/"
        },
        "id": "BcRJQ2xc2xhJ",
        "outputId": "95c0c97e-d60e-4ba9-bff4-26e35b8ab000"
      },
      "execution_count": 217,
      "outputs": [
        {
          "output_type": "stream",
          "name": "stdout",
          "text": [
            "<class 'pandas.core.frame.DataFrame'>\n",
            "RangeIndex: 1025 entries, 0 to 1024\n",
            "Data columns (total 14 columns):\n",
            " #   Column    Non-Null Count  Dtype  \n",
            "---  ------    --------------  -----  \n",
            " 0   age       1025 non-null   int64  \n",
            " 1   sex       1025 non-null   int64  \n",
            " 2   cp        1025 non-null   int64  \n",
            " 3   trestbps  1025 non-null   int64  \n",
            " 4   chol      1025 non-null   int64  \n",
            " 5   fbs       1025 non-null   int64  \n",
            " 6   restecg   1025 non-null   int64  \n",
            " 7   thalach   1025 non-null   int64  \n",
            " 8   exang     1025 non-null   int64  \n",
            " 9   oldpeak   1025 non-null   float64\n",
            " 10  slope     1025 non-null   int64  \n",
            " 11  ca        1025 non-null   int64  \n",
            " 12  thal      1025 non-null   int64  \n",
            " 13  target    1025 non-null   int64  \n",
            "dtypes: float64(1), int64(13)\n",
            "memory usage: 112.2 KB\n"
          ]
        }
      ]
    },
    {
      "cell_type": "code",
      "source": [
        "dataset.describe()"
      ],
      "metadata": {
        "colab": {
          "base_uri": "https://localhost:8080/",
          "height": 364
        },
        "id": "_1k52yxw22wH",
        "outputId": "68706cf9-f9cc-45de-a1c7-78e4df5c398d"
      },
      "execution_count": 218,
      "outputs": [
        {
          "output_type": "execute_result",
          "data": {
            "text/plain": [
              "               age          sex           cp     trestbps        chol  \\\n",
              "count  1025.000000  1025.000000  1025.000000  1025.000000  1025.00000   \n",
              "mean     54.434146     0.695610     0.942439   131.611707   246.00000   \n",
              "std       9.072290     0.460373     1.029641    17.516718    51.59251   \n",
              "min      29.000000     0.000000     0.000000    94.000000   126.00000   \n",
              "25%      48.000000     0.000000     0.000000   120.000000   211.00000   \n",
              "50%      56.000000     1.000000     1.000000   130.000000   240.00000   \n",
              "75%      61.000000     1.000000     2.000000   140.000000   275.00000   \n",
              "max      77.000000     1.000000     3.000000   200.000000   564.00000   \n",
              "\n",
              "               fbs      restecg      thalach        exang      oldpeak  \\\n",
              "count  1025.000000  1025.000000  1025.000000  1025.000000  1025.000000   \n",
              "mean      0.149268     0.529756   149.114146     0.336585     1.071512   \n",
              "std       0.356527     0.527878    23.005724     0.472772     1.175053   \n",
              "min       0.000000     0.000000    71.000000     0.000000     0.000000   \n",
              "25%       0.000000     0.000000   132.000000     0.000000     0.000000   \n",
              "50%       0.000000     1.000000   152.000000     0.000000     0.800000   \n",
              "75%       0.000000     1.000000   166.000000     1.000000     1.800000   \n",
              "max       1.000000     2.000000   202.000000     1.000000     6.200000   \n",
              "\n",
              "             slope           ca         thal       target  \n",
              "count  1025.000000  1025.000000  1025.000000  1025.000000  \n",
              "mean      1.385366     0.754146     2.323902     0.513171  \n",
              "std       0.617755     1.030798     0.620660     0.500070  \n",
              "min       0.000000     0.000000     0.000000     0.000000  \n",
              "25%       1.000000     0.000000     2.000000     0.000000  \n",
              "50%       1.000000     0.000000     2.000000     1.000000  \n",
              "75%       2.000000     1.000000     3.000000     1.000000  \n",
              "max       2.000000     4.000000     3.000000     1.000000  "
            ],
            "text/html": [
              "\n",
              "  <div id=\"df-5e45ea84-0ff4-4ae9-984e-ba2e68c4f17e\">\n",
              "    <div class=\"colab-df-container\">\n",
              "      <div>\n",
              "<style scoped>\n",
              "    .dataframe tbody tr th:only-of-type {\n",
              "        vertical-align: middle;\n",
              "    }\n",
              "\n",
              "    .dataframe tbody tr th {\n",
              "        vertical-align: top;\n",
              "    }\n",
              "\n",
              "    .dataframe thead th {\n",
              "        text-align: right;\n",
              "    }\n",
              "</style>\n",
              "<table border=\"1\" class=\"dataframe\">\n",
              "  <thead>\n",
              "    <tr style=\"text-align: right;\">\n",
              "      <th></th>\n",
              "      <th>age</th>\n",
              "      <th>sex</th>\n",
              "      <th>cp</th>\n",
              "      <th>trestbps</th>\n",
              "      <th>chol</th>\n",
              "      <th>fbs</th>\n",
              "      <th>restecg</th>\n",
              "      <th>thalach</th>\n",
              "      <th>exang</th>\n",
              "      <th>oldpeak</th>\n",
              "      <th>slope</th>\n",
              "      <th>ca</th>\n",
              "      <th>thal</th>\n",
              "      <th>target</th>\n",
              "    </tr>\n",
              "  </thead>\n",
              "  <tbody>\n",
              "    <tr>\n",
              "      <th>count</th>\n",
              "      <td>1025.000000</td>\n",
              "      <td>1025.000000</td>\n",
              "      <td>1025.000000</td>\n",
              "      <td>1025.000000</td>\n",
              "      <td>1025.00000</td>\n",
              "      <td>1025.000000</td>\n",
              "      <td>1025.000000</td>\n",
              "      <td>1025.000000</td>\n",
              "      <td>1025.000000</td>\n",
              "      <td>1025.000000</td>\n",
              "      <td>1025.000000</td>\n",
              "      <td>1025.000000</td>\n",
              "      <td>1025.000000</td>\n",
              "      <td>1025.000000</td>\n",
              "    </tr>\n",
              "    <tr>\n",
              "      <th>mean</th>\n",
              "      <td>54.434146</td>\n",
              "      <td>0.695610</td>\n",
              "      <td>0.942439</td>\n",
              "      <td>131.611707</td>\n",
              "      <td>246.00000</td>\n",
              "      <td>0.149268</td>\n",
              "      <td>0.529756</td>\n",
              "      <td>149.114146</td>\n",
              "      <td>0.336585</td>\n",
              "      <td>1.071512</td>\n",
              "      <td>1.385366</td>\n",
              "      <td>0.754146</td>\n",
              "      <td>2.323902</td>\n",
              "      <td>0.513171</td>\n",
              "    </tr>\n",
              "    <tr>\n",
              "      <th>std</th>\n",
              "      <td>9.072290</td>\n",
              "      <td>0.460373</td>\n",
              "      <td>1.029641</td>\n",
              "      <td>17.516718</td>\n",
              "      <td>51.59251</td>\n",
              "      <td>0.356527</td>\n",
              "      <td>0.527878</td>\n",
              "      <td>23.005724</td>\n",
              "      <td>0.472772</td>\n",
              "      <td>1.175053</td>\n",
              "      <td>0.617755</td>\n",
              "      <td>1.030798</td>\n",
              "      <td>0.620660</td>\n",
              "      <td>0.500070</td>\n",
              "    </tr>\n",
              "    <tr>\n",
              "      <th>min</th>\n",
              "      <td>29.000000</td>\n",
              "      <td>0.000000</td>\n",
              "      <td>0.000000</td>\n",
              "      <td>94.000000</td>\n",
              "      <td>126.00000</td>\n",
              "      <td>0.000000</td>\n",
              "      <td>0.000000</td>\n",
              "      <td>71.000000</td>\n",
              "      <td>0.000000</td>\n",
              "      <td>0.000000</td>\n",
              "      <td>0.000000</td>\n",
              "      <td>0.000000</td>\n",
              "      <td>0.000000</td>\n",
              "      <td>0.000000</td>\n",
              "    </tr>\n",
              "    <tr>\n",
              "      <th>25%</th>\n",
              "      <td>48.000000</td>\n",
              "      <td>0.000000</td>\n",
              "      <td>0.000000</td>\n",
              "      <td>120.000000</td>\n",
              "      <td>211.00000</td>\n",
              "      <td>0.000000</td>\n",
              "      <td>0.000000</td>\n",
              "      <td>132.000000</td>\n",
              "      <td>0.000000</td>\n",
              "      <td>0.000000</td>\n",
              "      <td>1.000000</td>\n",
              "      <td>0.000000</td>\n",
              "      <td>2.000000</td>\n",
              "      <td>0.000000</td>\n",
              "    </tr>\n",
              "    <tr>\n",
              "      <th>50%</th>\n",
              "      <td>56.000000</td>\n",
              "      <td>1.000000</td>\n",
              "      <td>1.000000</td>\n",
              "      <td>130.000000</td>\n",
              "      <td>240.00000</td>\n",
              "      <td>0.000000</td>\n",
              "      <td>1.000000</td>\n",
              "      <td>152.000000</td>\n",
              "      <td>0.000000</td>\n",
              "      <td>0.800000</td>\n",
              "      <td>1.000000</td>\n",
              "      <td>0.000000</td>\n",
              "      <td>2.000000</td>\n",
              "      <td>1.000000</td>\n",
              "    </tr>\n",
              "    <tr>\n",
              "      <th>75%</th>\n",
              "      <td>61.000000</td>\n",
              "      <td>1.000000</td>\n",
              "      <td>2.000000</td>\n",
              "      <td>140.000000</td>\n",
              "      <td>275.00000</td>\n",
              "      <td>0.000000</td>\n",
              "      <td>1.000000</td>\n",
              "      <td>166.000000</td>\n",
              "      <td>1.000000</td>\n",
              "      <td>1.800000</td>\n",
              "      <td>2.000000</td>\n",
              "      <td>1.000000</td>\n",
              "      <td>3.000000</td>\n",
              "      <td>1.000000</td>\n",
              "    </tr>\n",
              "    <tr>\n",
              "      <th>max</th>\n",
              "      <td>77.000000</td>\n",
              "      <td>1.000000</td>\n",
              "      <td>3.000000</td>\n",
              "      <td>200.000000</td>\n",
              "      <td>564.00000</td>\n",
              "      <td>1.000000</td>\n",
              "      <td>2.000000</td>\n",
              "      <td>202.000000</td>\n",
              "      <td>1.000000</td>\n",
              "      <td>6.200000</td>\n",
              "      <td>2.000000</td>\n",
              "      <td>4.000000</td>\n",
              "      <td>3.000000</td>\n",
              "      <td>1.000000</td>\n",
              "    </tr>\n",
              "  </tbody>\n",
              "</table>\n",
              "</div>\n",
              "      <button class=\"colab-df-convert\" onclick=\"convertToInteractive('df-5e45ea84-0ff4-4ae9-984e-ba2e68c4f17e')\"\n",
              "              title=\"Convert this dataframe to an interactive table.\"\n",
              "              style=\"display:none;\">\n",
              "        \n",
              "  <svg xmlns=\"http://www.w3.org/2000/svg\" height=\"24px\"viewBox=\"0 0 24 24\"\n",
              "       width=\"24px\">\n",
              "    <path d=\"M0 0h24v24H0V0z\" fill=\"none\"/>\n",
              "    <path d=\"M18.56 5.44l.94 2.06.94-2.06 2.06-.94-2.06-.94-.94-2.06-.94 2.06-2.06.94zm-11 1L8.5 8.5l.94-2.06 2.06-.94-2.06-.94L8.5 2.5l-.94 2.06-2.06.94zm10 10l.94 2.06.94-2.06 2.06-.94-2.06-.94-.94-2.06-.94 2.06-2.06.94z\"/><path d=\"M17.41 7.96l-1.37-1.37c-.4-.4-.92-.59-1.43-.59-.52 0-1.04.2-1.43.59L10.3 9.45l-7.72 7.72c-.78.78-.78 2.05 0 2.83L4 21.41c.39.39.9.59 1.41.59.51 0 1.02-.2 1.41-.59l7.78-7.78 2.81-2.81c.8-.78.8-2.07 0-2.86zM5.41 20L4 18.59l7.72-7.72 1.47 1.35L5.41 20z\"/>\n",
              "  </svg>\n",
              "      </button>\n",
              "      \n",
              "  <style>\n",
              "    .colab-df-container {\n",
              "      display:flex;\n",
              "      flex-wrap:wrap;\n",
              "      gap: 12px;\n",
              "    }\n",
              "\n",
              "    .colab-df-convert {\n",
              "      background-color: #E8F0FE;\n",
              "      border: none;\n",
              "      border-radius: 50%;\n",
              "      cursor: pointer;\n",
              "      display: none;\n",
              "      fill: #1967D2;\n",
              "      height: 32px;\n",
              "      padding: 0 0 0 0;\n",
              "      width: 32px;\n",
              "    }\n",
              "\n",
              "    .colab-df-convert:hover {\n",
              "      background-color: #E2EBFA;\n",
              "      box-shadow: 0px 1px 2px rgba(60, 64, 67, 0.3), 0px 1px 3px 1px rgba(60, 64, 67, 0.15);\n",
              "      fill: #174EA6;\n",
              "    }\n",
              "\n",
              "    [theme=dark] .colab-df-convert {\n",
              "      background-color: #3B4455;\n",
              "      fill: #D2E3FC;\n",
              "    }\n",
              "\n",
              "    [theme=dark] .colab-df-convert:hover {\n",
              "      background-color: #434B5C;\n",
              "      box-shadow: 0px 1px 3px 1px rgba(0, 0, 0, 0.15);\n",
              "      filter: drop-shadow(0px 1px 2px rgba(0, 0, 0, 0.3));\n",
              "      fill: #FFFFFF;\n",
              "    }\n",
              "  </style>\n",
              "\n",
              "      <script>\n",
              "        const buttonEl =\n",
              "          document.querySelector('#df-5e45ea84-0ff4-4ae9-984e-ba2e68c4f17e button.colab-df-convert');\n",
              "        buttonEl.style.display =\n",
              "          google.colab.kernel.accessAllowed ? 'block' : 'none';\n",
              "\n",
              "        async function convertToInteractive(key) {\n",
              "          const element = document.querySelector('#df-5e45ea84-0ff4-4ae9-984e-ba2e68c4f17e');\n",
              "          const dataTable =\n",
              "            await google.colab.kernel.invokeFunction('convertToInteractive',\n",
              "                                                     [key], {});\n",
              "          if (!dataTable) return;\n",
              "\n",
              "          const docLinkHtml = 'Like what you see? Visit the ' +\n",
              "            '<a target=\"_blank\" href=https://colab.research.google.com/notebooks/data_table.ipynb>data table notebook</a>'\n",
              "            + ' to learn more about interactive tables.';\n",
              "          element.innerHTML = '';\n",
              "          dataTable['output_type'] = 'display_data';\n",
              "          await google.colab.output.renderOutput(dataTable, element);\n",
              "          const docLink = document.createElement('div');\n",
              "          docLink.innerHTML = docLinkHtml;\n",
              "          element.appendChild(docLink);\n",
              "        }\n",
              "      </script>\n",
              "    </div>\n",
              "  </div>\n",
              "  "
            ]
          },
          "metadata": {},
          "execution_count": 218
        }
      ]
    },
    {
      "cell_type": "code",
      "source": [
        "rcParams['figure.figsize'] = 20, 14\n",
        "plt.matshow(dataset.corr())\n",
        "plt.yticks(np.arange(dataset.shape[1]), dataset.columns)\n",
        "plt.xticks(np.arange(dataset.shape[1]), dataset.columns)\n",
        "plt.colorbar()"
      ],
      "metadata": {
        "colab": {
          "base_uri": "https://localhost:8080/",
          "height": 920
        },
        "id": "6pRRwHdg4aCm",
        "outputId": "bafb6753-d123-426c-f6ab-eec32b5dcc16"
      },
      "execution_count": 219,
      "outputs": [
        {
          "output_type": "execute_result",
          "data": {
            "text/plain": [
              "<matplotlib.colorbar.Colorbar at 0x7ff9e11492a0>"
            ]
          },
          "metadata": {},
          "execution_count": 219
        },
        {
          "output_type": "display_data",
          "data": {
            "text/plain": [
              "<Figure size 1400x1400 with 2 Axes>"
            ],
            "image/png": "[encoded data removed]"
          },
          "metadata": {}
        }
      ]
    },
    {
      "cell_type": "markdown",
      "source": [
        "##**Analysis of Columns**"
      ],
      "metadata": {
        "id": "WrfDjD3SC_-z"
      }
    },
    {
      "cell_type": "code",
      "source": [
        "info = [\"age\", \"1: male, 0: female\", \"chest pain type, 1: typical angina, 2: atypical angina, 3: non-anginal pain, 4: asymptomatic\", \"resting blood pressure\", \"serum cholestoral in mg/dl\", \"fasting blood sugar > 120 mg/dl\", \"resting electrocardiographic results (values 0,1,2)\", \"maximum heart rate achieved\", \"exercise induced angina\", \"oldpeak = ST depression induced by exercise relative to rest\", \"the slope of the peak exercise ST segment\", \"number of major vessels (0-3) colored by flourosopy\", \"thal: 3 = normal; 6 = fixed defect; 7 = reversible defect\"]\n",
        "\n",
        "for column_name, column_info in zip(dataset.columns, info):\n",
        "    print(column_name + \":\\t\\t\\t\" + column_info)\n"
      ],
      "metadata": {
        "colab": {
          "base_uri": "https://localhost:8080/"
        },
        "id": "DrRYcN5s25a2",
        "outputId": "034c57ba-3128-41d8-f863-3d4a7ebfe955"
      },
      "execution_count": 220,
      "outputs": [
        {
          "output_type": "stream",
          "name": "stdout",
          "text": [
            "age:\t\t\tage\n",
            "sex:\t\t\t1: male, 0: female\n",
            "cp:\t\t\tchest pain type, 1: typical angina, 2: atypical angina, 3: non-anginal pain, 4: asymptomatic\n",
            "trestbps:\t\t\tresting blood pressure\n",
            "chol:\t\t\tserum cholestoral in mg/dl\n",
            "fbs:\t\t\tfasting blood sugar > 120 mg/dl\n",
            "restecg:\t\t\tresting electrocardiographic results (values 0,1,2)\n",
            "thalach:\t\t\tmaximum heart rate achieved\n",
            "exang:\t\t\texercise induced angina\n",
            "oldpeak:\t\t\toldpeak = ST depression induced by exercise relative to rest\n",
            "slope:\t\t\tthe slope of the peak exercise ST segment\n",
            "ca:\t\t\tnumber of major vessels (0-3) colored by flourosopy\n",
            "thal:\t\t\tthal: 3 = normal; 6 = fixed defect; 7 = reversible defect\n"
          ]
        }
      ]
    },
    {
      "cell_type": "markdown",
      "source": [
        "##**Information about target variable**"
      ],
      "metadata": {
        "id": "JfHicJIKC2v_"
      }
    },
    {
      "cell_type": "code",
      "source": [
        "dataset[\"target\"].describe()"
      ],
      "metadata": {
        "colab": {
          "base_uri": "https://localhost:8080/"
        },
        "id": "J2-xkuAD376h",
        "outputId": "b5cc8baa-acd8-4083-d8b0-65bdd52229b9"
      },
      "execution_count": 221,
      "outputs": [
        {
          "output_type": "execute_result",
          "data": {
            "text/plain": [
              "count    1025.000000\n",
              "mean        0.513171\n",
              "std         0.500070\n",
              "min         0.000000\n",
              "25%         0.000000\n",
              "50%         1.000000\n",
              "75%         1.000000\n",
              "max         1.000000\n",
              "Name: target, dtype: float64"
            ]
          },
          "metadata": {},
          "execution_count": 221
        }
      ]
    },
    {
      "cell_type": "markdown",
      "source": [
        "##**Checking the correlation between Columns**"
      ],
      "metadata": {
        "id": "R1IHQOiYDXA8"
      }
    },
    {
      "cell_type": "code",
      "source": [
        "print(dataset.corr()[\"target\"].abs().sort_values(ascending=False))"
      ],
      "metadata": {
        "colab": {
          "base_uri": "https://localhost:8080/"
        },
        "id": "QBN4IoX0DU8W",
        "outputId": "ee7e89c5-8c01-4c91-8af8-6b743d7e4b04"
      },
      "execution_count": 222,
      "outputs": [
        {
          "output_type": "stream",
          "name": "stdout",
          "text": [
            "target      1.000000\n",
            "oldpeak     0.438441\n",
            "exang       0.438029\n",
            "cp          0.434854\n",
            "thalach     0.422895\n",
            "ca          0.382085\n",
            "slope       0.345512\n",
            "thal        0.337838\n",
            "sex         0.279501\n",
            "age         0.229324\n",
            "trestbps    0.138772\n",
            "restecg     0.134468\n",
            "chol        0.099966\n",
            "fbs         0.041164\n",
            "Name: target, dtype: float64\n"
          ]
        }
      ]
    },
    {
      "cell_type": "markdown",
      "source": [
        "##**Explorately Data Analysis EDA**"
      ],
      "metadata": {
        "id": "ill9YmupDjkz"
      }
    },
    {
      "cell_type": "markdown",
      "source": [
        "###**Analysing Target Variable**"
      ],
      "metadata": {
        "id": "ZuhiU3kUD7IW"
      }
    },
    {
      "cell_type": "code",
      "source": [
        "dataset[\"target\"].unique()"
      ],
      "metadata": {
        "colab": {
          "base_uri": "https://localhost:8080/"
        },
        "id": "lkz1vPQT4xU5",
        "outputId": "9a1408e0-f01e-47b5-953a-fcc2d0aa5b28"
      },
      "execution_count": 223,
      "outputs": [
        {
          "output_type": "execute_result",
          "data": {
            "text/plain": [
              "array([0, 1])"
            ]
          },
          "metadata": {},
          "execution_count": 223
        }
      ]
    },
    {
      "cell_type": "code",
      "source": [
        "dataset[\"target\"].dtype"
      ],
      "metadata": {
        "colab": {
          "base_uri": "https://localhost:8080/"
        },
        "id": "UHGuHLLs40j7",
        "outputId": "7f917fbb-963f-4044-a5ba-8b4dec99619b"
      },
      "execution_count": 224,
      "outputs": [
        {
          "output_type": "execute_result",
          "data": {
            "text/plain": [
              "dtype('int64')"
            ]
          },
          "metadata": {},
          "execution_count": 224
        }
      ]
    },
    {
      "cell_type": "code",
      "source": [
        "y = dataset[\"target\"]\n",
        "\n",
        "sns.set(rc={'figure.figsize':(5, 5)})  # Adjust the figure size as per your preference\n",
        "sns.countplot(x='target', data= dataset)\n",
        "\n",
        "\n",
        "target_temp = dataset.target.value_counts()\n",
        "\n",
        "print(target_temp)"
      ],
      "metadata": {
        "colab": {
          "base_uri": "https://localhost:8080/",
          "height": 528
        },
        "id": "zHzWx8--4_Lh",
        "outputId": "f0700260-f924-4152-be62-c568728b38af"
      },
      "execution_count": 225,
      "outputs": [
        {
          "output_type": "stream",
          "name": "stdout",
          "text": [
            "1    526\n",
            "0    499\n",
            "Name: target, dtype: int64\n"
          ]
        },
        {
          "output_type": "display_data",
          "data": {
            "text/plain": [
              "<Figure size 500x500 with 1 Axes>"
            ],
            "image/png": "[encoded data removed]"
          },
          "metadata": {}
        }
      ]
    },
    {
      "cell_type": "code",
      "source": [
        "print(\"Percentage of patient without heart problems: \"+str(round((target_temp[0]*100)/1025, 2)))\n",
        "print(\"Percentage of patient with heart problems: \"+str(round(target_temp[1]*100/1025,2)))"
      ],
      "metadata": {
        "colab": {
          "base_uri": "https://localhost:8080/"
        },
        "id": "7rNnsJGs6Oz-",
        "outputId": "f7327a3e-f997-4b9d-d5a4-0c60676c7bdf"
      },
      "execution_count": 226,
      "outputs": [
        {
          "output_type": "stream",
          "name": "stdout",
          "text": [
            "Percentage of patient without heart problems: 48.68\n",
            "Percentage of patient with heart problems: 51.32\n"
          ]
        }
      ]
    },
    {
      "cell_type": "markdown",
      "source": [
        "### **Analysing Sex Feature**"
      ],
      "metadata": {
        "id": "jfzkShxkEEGI"
      }
    },
    {
      "cell_type": "code",
      "source": [
        "dataset[\"sex\"].unique()"
      ],
      "metadata": {
        "colab": {
          "base_uri": "https://localhost:8080/"
        },
        "id": "xLm5OtfZ7vV-",
        "outputId": "d11899cc-7024-4db2-d501-96561de567fd"
      },
      "execution_count": 227,
      "outputs": [
        {
          "output_type": "execute_result",
          "data": {
            "text/plain": [
              "array([1, 0])"
            ]
          },
          "metadata": {},
          "execution_count": 227
        }
      ]
    },
    {
      "cell_type": "code",
      "source": [
        "sns.barplot(x=\"sex\", y=\"target\", data=dataset)"
      ],
      "metadata": {
        "colab": {
          "base_uri": "https://localhost:8080/",
          "height": 491
        },
        "id": "DnQSvvdM8PF2",
        "outputId": "6c11210b-9727-4148-de86-7c8a5e92773f"
      },
      "execution_count": 228,
      "outputs": [
        {
          "output_type": "execute_result",
          "data": {
            "text/plain": [
              "<Axes: xlabel='sex', ylabel='target'>"
            ]
          },
          "metadata": {},
          "execution_count": 228
        },
        {
          "output_type": "display_data",
          "data": {
            "text/plain": [
              "<Figure size 500x500 with 1 Axes>"
            ],
            "image/png": "[encoded data removed]"
          },
          "metadata": {}
        }
      ]
    },
    {
      "cell_type": "markdown",
      "source": [
        "### **Analysing cp Feature**"
      ],
      "metadata": {
        "id": "0qCmAFvLEMAK"
      }
    },
    {
      "cell_type": "code",
      "source": [
        "dataset[\"cp\"].unique()"
      ],
      "metadata": {
        "colab": {
          "base_uri": "https://localhost:8080/"
        },
        "id": "2IRjvcTH8TcV",
        "outputId": "ee39f456-bda1-403d-8195-1b17ffe36d16"
      },
      "execution_count": 229,
      "outputs": [
        {
          "output_type": "execute_result",
          "data": {
            "text/plain": [
              "array([0, 1, 2, 3])"
            ]
          },
          "metadata": {},
          "execution_count": 229
        }
      ]
    },
    {
      "cell_type": "code",
      "source": [
        "sns.barplot(x=\"cp\", y=\"target\", data=dataset)\n"
      ],
      "metadata": {
        "colab": {
          "base_uri": "https://localhost:8080/",
          "height": 491
        },
        "id": "4Ymmp2Fv8_nW",
        "outputId": "5edf5a8d-d441-4ef8-b2e2-26a16a96e513"
      },
      "execution_count": 230,
      "outputs": [
        {
          "output_type": "execute_result",
          "data": {
            "text/plain": [
              "<Axes: xlabel='cp', ylabel='target'>"
            ]
          },
          "metadata": {},
          "execution_count": 230
        },
        {
          "output_type": "display_data",
          "data": {
            "text/plain": [
              "<Figure size 500x500 with 1 Axes>"
            ],
            "image/png": "[encoded data removed]"
          },
          "metadata": {}
        }
      ]
    },
    {
      "cell_type": "markdown",
      "source": [
        "### **Analysing fbs Feature**"
      ],
      "metadata": {
        "id": "JnZuecjKEYyn"
      }
    },
    {
      "cell_type": "code",
      "source": [
        "dataset[\"fbs\"].describe()"
      ],
      "metadata": {
        "colab": {
          "base_uri": "https://localhost:8080/"
        },
        "id": "_UKSp0Jq9JMk",
        "outputId": "42862e26-f23c-4532-a8b6-07b80249968f"
      },
      "execution_count": 231,
      "outputs": [
        {
          "output_type": "execute_result",
          "data": {
            "text/plain": [
              "count    1025.000000\n",
              "mean        0.149268\n",
              "std         0.356527\n",
              "min         0.000000\n",
              "25%         0.000000\n",
              "50%         0.000000\n",
              "75%         0.000000\n",
              "max         1.000000\n",
              "Name: fbs, dtype: float64"
            ]
          },
          "metadata": {},
          "execution_count": 231
        }
      ]
    },
    {
      "cell_type": "code",
      "source": [
        "dataset[\"fbs\"].unique()"
      ],
      "metadata": {
        "colab": {
          "base_uri": "https://localhost:8080/"
        },
        "id": "5lUBsg4v9cWt",
        "outputId": "328d3266-06b4-4665-be37-984caab1af4f"
      },
      "execution_count": 232,
      "outputs": [
        {
          "output_type": "execute_result",
          "data": {
            "text/plain": [
              "array([0, 1])"
            ]
          },
          "metadata": {},
          "execution_count": 232
        }
      ]
    },
    {
      "cell_type": "code",
      "source": [
        "sns.barplot(x=\"cp\", y=\"target\", data=dataset)"
      ],
      "metadata": {
        "colab": {
          "base_uri": "https://localhost:8080/",
          "height": 491
        },
        "id": "XS5gcz2I9fL8",
        "outputId": "fb0e6de3-e65f-4086-a28c-3f90cd97e46c"
      },
      "execution_count": 233,
      "outputs": [
        {
          "output_type": "execute_result",
          "data": {
            "text/plain": [
              "<Axes: xlabel='cp', ylabel='target'>"
            ]
          },
          "metadata": {},
          "execution_count": 233
        },
        {
          "output_type": "display_data",
          "data": {
            "text/plain": [
              "<Figure size 500x500 with 1 Axes>"
            ],
            "image/png": "[encoded data removed]"
          },
          "metadata": {}
        }
      ]
    },
    {
      "cell_type": "markdown",
      "source": [
        "### **Analysing restecg Feature**\n"
      ],
      "metadata": {
        "id": "Zfwu0trNEh3Y"
      }
    },
    {
      "cell_type": "code",
      "source": [
        "dataset[\"restecg\"].unique()"
      ],
      "metadata": {
        "colab": {
          "base_uri": "https://localhost:8080/"
        },
        "id": "TYOfA4wh9oCF",
        "outputId": "df44e0f7-39b7-4976-ce1d-66d6072e34d3"
      },
      "execution_count": 234,
      "outputs": [
        {
          "output_type": "execute_result",
          "data": {
            "text/plain": [
              "array([1, 0, 2])"
            ]
          },
          "metadata": {},
          "execution_count": 234
        }
      ]
    },
    {
      "cell_type": "code",
      "source": [
        "sns.barplot(x=\"restecg\",y=\"target\", data=dataset)"
      ],
      "metadata": {
        "colab": {
          "base_uri": "https://localhost:8080/",
          "height": 491
        },
        "id": "yIF1PEIQ9-RS",
        "outputId": "abeb32fd-124d-422e-a71f-cca0e04675ed"
      },
      "execution_count": 235,
      "outputs": [
        {
          "output_type": "execute_result",
          "data": {
            "text/plain": [
              "<Axes: xlabel='restecg', ylabel='target'>"
            ]
          },
          "metadata": {},
          "execution_count": 235
        },
        {
          "output_type": "display_data",
          "data": {
            "text/plain": [
              "<Figure size 500x500 with 1 Axes>"
            ],
            "image/png": "[encoded data removed]"
          },
          "metadata": {}
        }
      ]
    },
    {
      "cell_type": "markdown",
      "source": [
        "### **Analysing exang Feature**"
      ],
      "metadata": {
        "id": "Gb2YtkcWEo67"
      }
    },
    {
      "cell_type": "code",
      "source": [
        "dataset[\"exang\"].unique()"
      ],
      "metadata": {
        "colab": {
          "base_uri": "https://localhost:8080/"
        },
        "id": "cNxM-6Q5-FJ9",
        "outputId": "bc237d1f-0097-4533-e6d4-c2612cd1e35c"
      },
      "execution_count": 236,
      "outputs": [
        {
          "output_type": "execute_result",
          "data": {
            "text/plain": [
              "array([0, 1])"
            ]
          },
          "metadata": {},
          "execution_count": 236
        }
      ]
    },
    {
      "cell_type": "code",
      "source": [
        "sns.barplot(x=\"exang\",y=\"target\", data=dataset)"
      ],
      "metadata": {
        "colab": {
          "base_uri": "https://localhost:8080/",
          "height": 491
        },
        "id": "lmPdTWrW-Jso",
        "outputId": "30e4ba55-16c2-4888-f6f8-e00aa7e9d501"
      },
      "execution_count": 237,
      "outputs": [
        {
          "output_type": "execute_result",
          "data": {
            "text/plain": [
              "<Axes: xlabel='exang', ylabel='target'>"
            ]
          },
          "metadata": {},
          "execution_count": 237
        },
        {
          "output_type": "display_data",
          "data": {
            "text/plain": [
              "<Figure size 500x500 with 1 Axes>"
            ],
            "image/png": "[encoded data removed]"
          },
          "metadata": {}
        }
      ]
    },
    {
      "cell_type": "markdown",
      "source": [
        "### **Analysing slope Feature**"
      ],
      "metadata": {
        "id": "ljbrIKrfEw_U"
      }
    },
    {
      "cell_type": "code",
      "source": [
        "dataset[\"slope\"].unique()"
      ],
      "metadata": {
        "colab": {
          "base_uri": "https://localhost:8080/"
        },
        "id": "MKKAZr1G-P0i",
        "outputId": "843c3a76-0a7a-43b8-d7f6-20f6a9d0553f"
      },
      "execution_count": 238,
      "outputs": [
        {
          "output_type": "execute_result",
          "data": {
            "text/plain": [
              "array([2, 0, 1])"
            ]
          },
          "metadata": {},
          "execution_count": 238
        }
      ]
    },
    {
      "cell_type": "code",
      "source": [
        "sns.barplot(x=\"slope\",y=\"target\", data=dataset)"
      ],
      "metadata": {
        "colab": {
          "base_uri": "https://localhost:8080/",
          "height": 497
        },
        "id": "Dj2pE8-r-UDv",
        "outputId": "7d7b314f-9e73-4878-f6fc-3e02724cdfa2"
      },
      "execution_count": 239,
      "outputs": [
        {
          "output_type": "execute_result",
          "data": {
            "text/plain": [
              "<Axes: xlabel='slope', ylabel='target'>"
            ]
          },
          "metadata": {},
          "execution_count": 239
        },
        {
          "output_type": "display_data",
          "data": {
            "text/plain": [
              "<Figure size 500x500 with 1 Axes>"
            ],
            "image/png": "[encoded data removed]"
          },
          "metadata": {}
        }
      ]
    },
    {
      "cell_type": "markdown",
      "source": [
        "### **Analysing ca Feature**"
      ],
      "metadata": {
        "id": "vwa4t-YFE2Nl"
      }
    },
    {
      "cell_type": "code",
      "source": [
        "dataset[\"ca\"].unique()"
      ],
      "metadata": {
        "colab": {
          "base_uri": "https://localhost:8080/"
        },
        "id": "-cy7Jt2b-WJn",
        "outputId": "f77fb712-3302-4cad-8beb-fb3737a3bbc5"
      },
      "execution_count": 240,
      "outputs": [
        {
          "output_type": "execute_result",
          "data": {
            "text/plain": [
              "array([2, 0, 1, 3, 4])"
            ]
          },
          "metadata": {},
          "execution_count": 240
        }
      ]
    },
    {
      "cell_type": "code",
      "source": [
        "sns.barplot(x=\"ca\",y=\"target\", data=dataset)"
      ],
      "metadata": {
        "colab": {
          "base_uri": "https://localhost:8080/",
          "height": 491
        },
        "id": "WEz7Cw5W-d3V",
        "outputId": "130f48eb-9bf9-4b6f-b9d3-4c6ff64e388b"
      },
      "execution_count": 241,
      "outputs": [
        {
          "output_type": "execute_result",
          "data": {
            "text/plain": [
              "<Axes: xlabel='ca', ylabel='target'>"
            ]
          },
          "metadata": {},
          "execution_count": 241
        },
        {
          "output_type": "display_data",
          "data": {
            "text/plain": [
              "<Figure size 500x500 with 1 Axes>"
            ],
            "image/png": "[encoded data removed]"
          },
          "metadata": {}
        }
      ]
    },
    {
      "cell_type": "markdown",
      "source": [
        "### **Analysing thal Feature**"
      ],
      "metadata": {
        "id": "SxGSjqznE93Q"
      }
    },
    {
      "cell_type": "code",
      "source": [
        "dataset[\"thal\"].unique()"
      ],
      "metadata": {
        "colab": {
          "base_uri": "https://localhost:8080/"
        },
        "id": "YdwrUXmf-lko",
        "outputId": "cd3f7da5-5aa8-4f8f-ee7c-3356363fc14d"
      },
      "execution_count": 242,
      "outputs": [
        {
          "output_type": "execute_result",
          "data": {
            "text/plain": [
              "array([3, 2, 1, 0])"
            ]
          },
          "metadata": {},
          "execution_count": 242
        }
      ]
    },
    {
      "cell_type": "code",
      "source": [
        "sns.barplot(x=\"thal\" ,y= \"target\", data = dataset)"
      ],
      "metadata": {
        "colab": {
          "base_uri": "https://localhost:8080/",
          "height": 497
        },
        "id": "uoASxoc9-3gy",
        "outputId": "ea86f35a-ea02-4fab-b013-0fdb947508e0"
      },
      "execution_count": 243,
      "outputs": [
        {
          "output_type": "execute_result",
          "data": {
            "text/plain": [
              "<Axes: xlabel='thal', ylabel='target'>"
            ]
          },
          "metadata": {},
          "execution_count": 243
        },
        {
          "output_type": "display_data",
          "data": {
            "text/plain": [
              "<Figure size 500x500 with 1 Axes>"
            ],
            "image/png": "[encoded data removed]"
          },
          "metadata": {}
        }
      ]
    },
    {
      "cell_type": "code",
      "source": [
        "sns.distplot(dataset[\"thal\"])"
      ],
      "metadata": {
        "colab": {
          "base_uri": "https://localhost:8080/",
          "height": 692
        },
        "id": "z6R_3DLY-5gm",
        "outputId": "92cbaaff-71bf-4cc8-f7cb-3c5fb125dbf3"
      },
      "execution_count": 244,
      "outputs": [
        {
          "output_type": "stream",
          "name": "stderr",
          "text": [
            "<ipython-input-244-a881bffaf3de>:1: UserWarning: \n",
            "\n",
            "`distplot` is a deprecated function and will be removed in seaborn v0.14.0.\n",
            "\n",
            "Please adapt your code to use either `displot` (a figure-level function with\n",
            "similar flexibility) or `histplot` (an axes-level function for histograms).\n",
            "\n",
            "For a guide to updating your code to use the new functions, please see\n",
            "https://gist.github.com/mwaskom/de44147ed2974457ad6372750bbe5751\n",
            "\n",
            "  sns.distplot(dataset[\"thal\"])\n"
          ]
        },
        {
          "output_type": "execute_result",
          "data": {
            "text/plain": [
              "<Axes: xlabel='thal', ylabel='Density'>"
            ]
          },
          "metadata": {},
          "execution_count": 244
        },
        {
          "output_type": "display_data",
          "data": {
            "text/plain": [
              "<Figure size 500x500 with 1 Axes>"
            ],
            "image/png": "[encoded data removed]"
          },
          "metadata": {}
        }
      ]
    },
    {
      "cell_type": "markdown",
      "source": [
        "### **Dividing Data into X and target variable y**"
      ],
      "metadata": {
        "id": "L-rFq3qkFPB5"
      }
    },
    {
      "cell_type": "code",
      "source": [
        "X = dataset.drop(['target'], axis=1)\n",
        "y = dataset['target']"
      ],
      "metadata": {
        "id": "DANx1XQL_BW7"
      },
      "execution_count": 245,
      "outputs": []
    },
    {
      "cell_type": "code",
      "source": [
        "X.shape"
      ],
      "metadata": {
        "colab": {
          "base_uri": "https://localhost:8080/"
        },
        "id": "yhk72ymQaXI8",
        "outputId": "9eb75e8b-38d8-4f51-d22b-872da488a6fa"
      },
      "execution_count": 246,
      "outputs": [
        {
          "output_type": "execute_result",
          "data": {
            "text/plain": [
              "(1025, 13)"
            ]
          },
          "metadata": {},
          "execution_count": 246
        }
      ]
    },
    {
      "cell_type": "code",
      "source": [
        "y.shape"
      ],
      "metadata": {
        "colab": {
          "base_uri": "https://localhost:8080/"
        },
        "id": "HmSwh5Fxa4Tr",
        "outputId": "eadb0c3f-e633-45e2-f73b-e8de35a328c3"
      },
      "execution_count": 247,
      "outputs": [
        {
          "output_type": "execute_result",
          "data": {
            "text/plain": [
              "(1025,)"
            ]
          },
          "metadata": {},
          "execution_count": 247
        }
      ]
    },
    {
      "cell_type": "markdown",
      "source": [
        "### **Train Test Split**"
      ],
      "metadata": {
        "id": "r3O7dwJ8HKA3"
      }
    },
    {
      "cell_type": "code",
      "source": [
        "X_train, X_test, y_train, y_test = train_test_split(X, y, test_size = 0.33, random_state = 0)"
      ],
      "metadata": {
        "id": "8y9H7TI6bLT1"
      },
      "execution_count": 248,
      "outputs": []
    },
    {
      "cell_type": "code",
      "source": [
        "X_train.shape"
      ],
      "metadata": {
        "colab": {
          "base_uri": "https://localhost:8080/"
        },
        "id": "xWBdzzj7cueG",
        "outputId": "cfe12e87-45e3-4765-ffc7-a9c5fa616432"
      },
      "execution_count": 249,
      "outputs": [
        {
          "output_type": "execute_result",
          "data": {
            "text/plain": [
              "(686, 13)"
            ]
          },
          "metadata": {},
          "execution_count": 249
        }
      ]
    },
    {
      "cell_type": "code",
      "source": [
        "X_test.shape"
      ],
      "metadata": {
        "colab": {
          "base_uri": "https://localhost:8080/"
        },
        "id": "MGIMI3XQcxIj",
        "outputId": "f1dd290c-3bb3-4dc4-e19f-18b0ace090d7"
      },
      "execution_count": 250,
      "outputs": [
        {
          "output_type": "execute_result",
          "data": {
            "text/plain": [
              "(339, 13)"
            ]
          },
          "metadata": {},
          "execution_count": 250
        }
      ]
    },
    {
      "cell_type": "code",
      "source": [
        "y_train.shape"
      ],
      "metadata": {
        "colab": {
          "base_uri": "https://localhost:8080/"
        },
        "id": "tk7o1lY8c0KY",
        "outputId": "626cbb9f-a5e8-4807-c56d-7c18c5684e19"
      },
      "execution_count": 251,
      "outputs": [
        {
          "output_type": "execute_result",
          "data": {
            "text/plain": [
              "(686,)"
            ]
          },
          "metadata": {},
          "execution_count": 251
        }
      ]
    },
    {
      "cell_type": "code",
      "source": [
        "y_test.shape"
      ],
      "metadata": {
        "colab": {
          "base_uri": "https://localhost:8080/"
        },
        "id": "OOC7UaoYdDB_",
        "outputId": "e25364de-fc97-4f15-b6a7-76ae4f9323f8"
      },
      "execution_count": 252,
      "outputs": [
        {
          "output_type": "execute_result",
          "data": {
            "text/plain": [
              "(339,)"
            ]
          },
          "metadata": {},
          "execution_count": 252
        }
      ]
    },
    {
      "cell_type": "markdown",
      "source": [
        "### **Normalize the Data**"
      ],
      "metadata": {
        "id": "R3L3Dge7HRFi"
      }
    },
    {
      "cell_type": "code",
      "source": [
        "# Create a StandardScaler object\n",
        "scaler = StandardScaler()\n",
        "\n",
        "# Fit the scaler to the data\n",
        "scaler.fit(X_train)\n",
        "\n",
        "# Transform the data\n",
        "normalized_train_data = scaler.transform(X_train)"
      ],
      "metadata": {
        "id": "_EqcMIc9dGIl"
      },
      "execution_count": 253,
      "outputs": []
    },
    {
      "cell_type": "code",
      "source": [
        "normalized_train_data[0,0]"
      ],
      "metadata": {
        "colab": {
          "base_uri": "https://localhost:8080/"
        },
        "id": "mvNwSpOCdzlx",
        "outputId": "c6a17b34-c214-40dc-e74c-6f43ccb6319d"
      },
      "execution_count": 254,
      "outputs": [
        {
          "output_type": "execute_result",
          "data": {
            "text/plain": [
              "0.7313310418681024"
            ]
          },
          "metadata": {},
          "execution_count": 254
        }
      ]
    },
    {
      "cell_type": "code",
      "source": [
        "normalized_test_data = scaler.transform(X_test)"
      ],
      "metadata": {
        "id": "7eeb17QAd4-b"
      },
      "execution_count": 255,
      "outputs": []
    },
    {
      "cell_type": "code",
      "source": [
        "normalized_test_data[0,0]"
      ],
      "metadata": {
        "colab": {
          "base_uri": "https://localhost:8080/"
        },
        "id": "0WGehoHxeYzq",
        "outputId": "abc6342d-d377-49aa-e800-d03372a2bdae"
      },
      "execution_count": 256,
      "outputs": [
        {
          "output_type": "execute_result",
          "data": {
            "text/plain": [
              "-1.1605905664428586"
            ]
          },
          "metadata": {},
          "execution_count": 256
        }
      ]
    },
    {
      "cell_type": "markdown",
      "source": [
        "## **Logistic Regression**"
      ],
      "metadata": {
        "id": "TzUdt1YNHVg2"
      }
    },
    {
      "cell_type": "code",
      "source": [
        "logistic = LogisticRegression()\n",
        "\n",
        "logistic.fit(X_train,y_train)\n",
        "\n",
        "logistic_pred = logistic.predict(X_test)"
      ],
      "metadata": {
        "colab": {
          "base_uri": "https://localhost:8080/"
        },
        "id": "_Hrn7jQYecbQ",
        "outputId": "27654c3d-3b25-4e5f-afac-75a1572f989e"
      },
      "execution_count": 257,
      "outputs": [
        {
          "output_type": "stream",
          "name": "stderr",
          "text": [
            "/usr/local/lib/python3.10/dist-packages/sklearn/linear_model/_logistic.py:458: ConvergenceWarning: lbfgs failed to converge (status=1):\n",
            "STOP: TOTAL NO. of ITERATIONS REACHED LIMIT.\n",
            "\n",
            "Increase the number of iterations (max_iter) or scale the data as shown in:\n",
            "    https://scikit-learn.org/stable/modules/preprocessing.html\n",
            "Please also refer to the documentation for alternative solver options:\n",
            "    https://scikit-learn.org/stable/modules/linear_model.html#logistic-regression\n",
            "  n_iter_i = _check_optimize_result(\n"
          ]
        }
      ]
    },
    {
      "cell_type": "code",
      "source": [
        "score_logistic = round(accuracy_score(logistic_pred,y_test)*100,2)\n",
        "\n",
        "print(\"The accuracy score achieved using Logistic Regression is: \"+str(score_logistic)+\" %\")"
      ],
      "metadata": {
        "colab": {
          "base_uri": "https://localhost:8080/"
        },
        "id": "kfypURRWgIV5",
        "outputId": "471f9549-b84b-41f9-ed6e-60fc6396b9e2"
      },
      "execution_count": 258,
      "outputs": [
        {
          "output_type": "stream",
          "name": "stdout",
          "text": [
            "The accuracy score achieved using Logistic Regression is: 87.02 %\n"
          ]
        }
      ]
    },
    {
      "cell_type": "markdown",
      "source": [
        "## **Gaussian Naive Bayes**"
      ],
      "metadata": {
        "id": "yWcx8QZRHozF"
      }
    },
    {
      "cell_type": "code",
      "source": [
        "nb = GaussianNB()\n",
        "\n",
        "nb.fit(X_train,y_train)\n",
        "\n",
        "nb_pred = nb.predict(X_test)"
      ],
      "metadata": {
        "id": "NYfWG9TNgX34"
      },
      "execution_count": 259,
      "outputs": []
    },
    {
      "cell_type": "code",
      "source": [
        "score_nb = round(accuracy_score(nb_pred,y_test)*100,2)\n",
        "\n",
        "print(\"The accuracy score achieved using Logistic Regression is: \"+str(score_nb)+\" %\")"
      ],
      "metadata": {
        "colab": {
          "base_uri": "https://localhost:8080/"
        },
        "id": "-mc97Jotgl-w",
        "outputId": "afac4f99-4e87-49d2-8e82-3e15240dc4a0"
      },
      "execution_count": 260,
      "outputs": [
        {
          "output_type": "stream",
          "name": "stdout",
          "text": [
            "The accuracy score achieved using Logistic Regression is: 84.37 %\n"
          ]
        }
      ]
    },
    {
      "cell_type": "markdown",
      "source": [
        "## **Support Vector Machine SVM**"
      ],
      "metadata": {
        "id": "FMkH4fUhHwTe"
      }
    },
    {
      "cell_type": "markdown",
      "source": [
        "### **Linear Kernel**"
      ],
      "metadata": {
        "id": "P6USt4BgH-BT"
      }
    },
    {
      "cell_type": "code",
      "source": [
        "from sklearn import svm\n",
        "\n",
        "sm = svm.SVC(kernel='linear')\n",
        "\n",
        "sm.fit(X_train, y_train)\n",
        "\n",
        "sm_pred = sm.predict(X_test)"
      ],
      "metadata": {
        "id": "BiGqF21CgubU"
      },
      "execution_count": 261,
      "outputs": []
    },
    {
      "cell_type": "code",
      "source": [
        "score_sm1 = round(accuracy_score(sm_pred,y_test)*100,2)\n",
        "\n",
        "print(\"The accuracy score achieved using Logistic Regression is: \"+str(score_sm1)+\" %\")"
      ],
      "metadata": {
        "colab": {
          "base_uri": "https://localhost:8080/"
        },
        "id": "Q10XPq5Ig-NV",
        "outputId": "77855b14-d2ee-4102-e078-5fdc1ab63f98"
      },
      "execution_count": 262,
      "outputs": [
        {
          "output_type": "stream",
          "name": "stdout",
          "text": [
            "The accuracy score achieved using Logistic Regression is: 86.73 %\n"
          ]
        }
      ]
    },
    {
      "cell_type": "markdown",
      "source": [
        "### **Radial Basis Kernel rbf**"
      ],
      "metadata": {
        "id": "SCwAjUnLIFd3"
      }
    },
    {
      "cell_type": "code",
      "source": [
        "sm = svm.SVC(kernel='rbf')\n",
        "\n",
        "sm.fit(X_train, y_train)\n",
        "\n",
        "sm_pred = sm.predict(X_test)"
      ],
      "metadata": {
        "id": "qY5mcbcoh2ep"
      },
      "execution_count": 263,
      "outputs": []
    },
    {
      "cell_type": "code",
      "source": [
        "score_sm2 = round(accuracy_score(sm_pred,y_test)*100,2)\n",
        "\n",
        "print(\"The accuracy score achieved using Logistic Regression is: \"+str(score_sm2)+\" %\")"
      ],
      "metadata": {
        "colab": {
          "base_uri": "https://localhost:8080/"
        },
        "id": "f_7Gh0o6iSM7",
        "outputId": "d78cf235-905e-481c-ac73-d56c5cbd67c2"
      },
      "execution_count": 264,
      "outputs": [
        {
          "output_type": "stream",
          "name": "stdout",
          "text": [
            "The accuracy score achieved using Logistic Regression is: 74.34 %\n"
          ]
        }
      ]
    },
    {
      "cell_type": "markdown",
      "source": [
        "### **Polynomial Kernel**"
      ],
      "metadata": {
        "id": "-OMbRO15IZT1"
      }
    },
    {
      "cell_type": "code",
      "source": [
        "sm = svm.SVC(kernel='poly')\n",
        "\n",
        "sm.fit(X_train, y_train)\n",
        "\n",
        "sm_pred = sm.predict(X_test)"
      ],
      "metadata": {
        "id": "sPQ3oW-0ibO9"
      },
      "execution_count": 265,
      "outputs": []
    },
    {
      "cell_type": "code",
      "source": [
        "score_sm3 = round(accuracy_score(sm_pred,y_test)*100,2)\n",
        "\n",
        "print(\"The accuracy score achieved using Logistic Regression is: \"+str(score_sm3)+\" %\")"
      ],
      "metadata": {
        "colab": {
          "base_uri": "https://localhost:8080/"
        },
        "id": "cNbl1Q0qig8r",
        "outputId": "074e8ca6-1add-42b7-92a6-98428291d9a0"
      },
      "execution_count": 266,
      "outputs": [
        {
          "output_type": "stream",
          "name": "stdout",
          "text": [
            "The accuracy score achieved using Logistic Regression is: 73.16 %\n"
          ]
        }
      ]
    },
    {
      "cell_type": "markdown",
      "source": [
        "## **k Nearest Neighbour**"
      ],
      "metadata": {
        "id": "l3VoC0b9Inf3"
      }
    },
    {
      "cell_type": "code",
      "source": [
        "knn_scores = []\n",
        "for k in range(1,21):\n",
        "    knn_classifier = KNeighborsClassifier(n_neighbors = k)\n",
        "    knn_classifier.fit(X_train, y_train)\n",
        "    knn_scores.append(knn_classifier.score(X_test, y_test))"
      ],
      "metadata": {
        "id": "okznVOP5ijQD"
      },
      "execution_count": 267,
      "outputs": []
    },
    {
      "cell_type": "code",
      "source": [
        "knn_scores"
      ],
      "metadata": {
        "colab": {
          "base_uri": "https://localhost:8080/"
        },
        "id": "vlNJVcRKi6DD",
        "outputId": "3195e7e3-dc69-41b9-ca70-48999f1739e4"
      },
      "execution_count": 268,
      "outputs": [
        {
          "output_type": "execute_result",
          "data": {
            "text/plain": [
              "[0.9911504424778761,\n",
              " 0.9174041297935103,\n",
              " 0.8761061946902655,\n",
              " 0.7876106194690266,\n",
              " 0.7197640117994101,\n",
              " 0.7315634218289085,\n",
              " 0.7551622418879056,\n",
              " 0.7227138643067846,\n",
              " 0.7404129793510325,\n",
              " 0.7610619469026548,\n",
              " 0.7551622418879056,\n",
              " 0.7522123893805309,\n",
              " 0.7581120943952803,\n",
              " 0.7492625368731564,\n",
              " 0.7463126843657817,\n",
              " 0.7227138643067846,\n",
              " 0.7286135693215339,\n",
              " 0.7433628318584071,\n",
              " 0.7168141592920354,\n",
              " 0.6991150442477876]"
            ]
          },
          "metadata": {},
          "execution_count": 268
        }
      ]
    },
    {
      "cell_type": "code",
      "source": [
        "scores = []\n",
        "\n",
        "for i in knn_scores:\n",
        "  scores.append(round(i * 100, 2))"
      ],
      "metadata": {
        "id": "PqfEUKExjKug"
      },
      "execution_count": 269,
      "outputs": []
    },
    {
      "cell_type": "code",
      "source": [
        "scores"
      ],
      "metadata": {
        "colab": {
          "base_uri": "https://localhost:8080/"
        },
        "id": "ju2VwEBHj-tU",
        "outputId": "2ffad717-7f87-4d5f-f627-54fc6b827183"
      },
      "execution_count": 270,
      "outputs": [
        {
          "output_type": "execute_result",
          "data": {
            "text/plain": [
              "[99.12,\n",
              " 91.74,\n",
              " 87.61,\n",
              " 78.76,\n",
              " 71.98,\n",
              " 73.16,\n",
              " 75.52,\n",
              " 72.27,\n",
              " 74.04,\n",
              " 76.11,\n",
              " 75.52,\n",
              " 75.22,\n",
              " 75.81,\n",
              " 74.93,\n",
              " 74.63,\n",
              " 72.27,\n",
              " 72.86,\n",
              " 74.34,\n",
              " 71.68,\n",
              " 69.91]"
            ]
          },
          "metadata": {},
          "execution_count": 270
        }
      ]
    },
    {
      "cell_type": "code",
      "source": [
        "max = 0\n",
        "for i, number in enumerate(scores):\n",
        "  print(f\"k value : {i + 1}, Accuracy : {number}%\")\n",
        "  if number > max:\n",
        "    max = number\n",
        "score_knn = max\n",
        "print(\"Maximum score : \", score_knn)"
      ],
      "metadata": {
        "colab": {
          "base_uri": "https://localhost:8080/"
        },
        "id": "HwBHWLHllRLs",
        "outputId": "50f7adf3-0fd0-47f2-e171-bd345e0ba75b"
      },
      "execution_count": 271,
      "outputs": [
        {
          "output_type": "stream",
          "name": "stdout",
          "text": [
            "k value : 1, Accuracy : 99.12%\n",
            "k value : 2, Accuracy : 91.74%\n",
            "k value : 3, Accuracy : 87.61%\n",
            "k value : 4, Accuracy : 78.76%\n",
            "k value : 5, Accuracy : 71.98%\n",
            "k value : 6, Accuracy : 73.16%\n",
            "k value : 7, Accuracy : 75.52%\n",
            "k value : 8, Accuracy : 72.27%\n",
            "k value : 9, Accuracy : 74.04%\n",
            "k value : 10, Accuracy : 76.11%\n",
            "k value : 11, Accuracy : 75.52%\n",
            "k value : 12, Accuracy : 75.22%\n",
            "k value : 13, Accuracy : 75.81%\n",
            "k value : 14, Accuracy : 74.93%\n",
            "k value : 15, Accuracy : 74.63%\n",
            "k value : 16, Accuracy : 72.27%\n",
            "k value : 17, Accuracy : 72.86%\n",
            "k value : 18, Accuracy : 74.34%\n",
            "k value : 19, Accuracy : 71.68%\n",
            "k value : 20, Accuracy : 69.91%\n",
            "Maximum score :  99.12\n"
          ]
        }
      ]
    },
    {
      "cell_type": "markdown",
      "source": [
        "## **Decision Tree**"
      ],
      "metadata": {
        "id": "F0-zc0HXI_wb"
      }
    },
    {
      "cell_type": "code",
      "source": [
        "max_accuracy = 0\n",
        "\n",
        "\n",
        "for x in range(200):\n",
        "    dt = DecisionTreeClassifier(random_state=x)\n",
        "    dt.fit(X_train,y_train)\n",
        "    Y_pred_dt = dt.predict(X_test)\n",
        "    current_accuracy = round(accuracy_score(Y_pred_dt,y_test)*100,2)\n",
        "    if(current_accuracy>max_accuracy):\n",
        "        max_accuracy = current_accuracy\n",
        "        best_x = x\n",
        "        \n",
        "#print(max_accuracy)\n",
        "#print(best_x)\n",
        "\n",
        "\n",
        "dt = DecisionTreeClassifier(random_state=best_x)\n",
        "dt.fit(X_train,y_train)\n",
        "dt_pred = dt.predict(X_test)"
      ],
      "metadata": {
        "id": "pfdIzlYclxs3"
      },
      "execution_count": 272,
      "outputs": []
    },
    {
      "cell_type": "code",
      "source": [
        "score_dt = round(accuracy_score(dt_pred,y_test)*100,2)\n",
        "\n",
        "print(\"The accuracy score achieved using Logistic Regression is: \"+str(score_dt)+\" %\")"
      ],
      "metadata": {
        "colab": {
          "base_uri": "https://localhost:8080/"
        },
        "id": "UZeQQ2sWmaKR",
        "outputId": "b6d45035-cf07-4023-e33e-d7ee5148b996"
      },
      "execution_count": 273,
      "outputs": [
        {
          "output_type": "stream",
          "name": "stdout",
          "text": [
            "The accuracy score achieved using Logistic Regression is: 100.0 %\n"
          ]
        }
      ]
    },
    {
      "cell_type": "markdown",
      "source": [
        "## **Random Forest**"
      ],
      "metadata": {
        "id": "whA4KFZKJE0l"
      }
    },
    {
      "cell_type": "code",
      "source": [
        "max_accuracy = 0\n",
        "\n",
        "for x in range(200):\n",
        "    rf = RandomForestClassifier(random_state=x)\n",
        "    rf.fit(X_train,y_train)\n",
        "    Y_pred_rf = rf.predict(X_test)\n",
        "    current_accuracy = round(accuracy_score(Y_pred_rf,y_test)*100,2)\n",
        "    if(current_accuracy>max_accuracy):\n",
        "        max_accuracy = current_accuracy\n",
        "        best_x = x\n",
        "        \n",
        "#print(max_accuracy)\n",
        "#print(best_x)\n",
        "\n",
        "rf = RandomForestClassifier(random_state=best_x)\n",
        "rf.fit(X_train,y_train)\n",
        "rf_pred = rf.predict(X_test)"
      ],
      "metadata": {
        "id": "q9XpD-bumrtv"
      },
      "execution_count": 274,
      "outputs": []
    },
    {
      "cell_type": "code",
      "source": [
        "score_rf = round(accuracy_score(rf_pred,y_test)*100,2)\n",
        "\n",
        "print(\"The accuracy score achieved using Logistic Regression is: \"+str(score_rf)+\" %\")"
      ],
      "metadata": {
        "colab": {
          "base_uri": "https://localhost:8080/"
        },
        "id": "cM2X8t7am6gh",
        "outputId": "a790d64b-fc38-4f72-e1eb-16eb0bfbc5df"
      },
      "execution_count": 275,
      "outputs": [
        {
          "output_type": "stream",
          "name": "stdout",
          "text": [
            "The accuracy score achieved using Logistic Regression is: 100.0 %\n"
          ]
        }
      ]
    },
    {
      "cell_type": "markdown",
      "source": [
        "## **Neural Networks**"
      ],
      "metadata": {
        "id": "7VZw4afOJWTL"
      }
    },
    {
      "cell_type": "code",
      "source": [
        "model = Sequential()\n",
        "model.add(Dense(10,activation='relu',input_dim=13))\n",
        "model.add(Dense(1,activation='sigmoid'))\n",
        "\n",
        "model.compile(loss='binary_crossentropy',optimizer='adam',metrics=['accuracy'])"
      ],
      "metadata": {
        "id": "1U-8dXcloukj"
      },
      "execution_count": 276,
      "outputs": []
    },
    {
      "cell_type": "code",
      "source": [
        "model.fit(X_train,y_train,epochs=300)"
      ],
      "metadata": {
        "colab": {
          "base_uri": "https://localhost:8080/"
        },
        "id": "McPBxfs4o3Pk",
        "outputId": "8a3e6878-9c9b-4dc4-d27b-09638a30e1ad"
      },
      "execution_count": 277,
      "outputs": [
        {
          "output_type": "stream",
          "name": "stdout",
          "text": [
            "Epoch 1/300\n",
            "22/22 [==============================] - 1s 2ms/step - loss: 22.3558 - accuracy: 0.5029\n",
            "Epoch 2/300\n",
            "22/22 [==============================] - 0s 2ms/step - loss: 7.3005 - accuracy: 0.4679\n",
            "Epoch 3/300\n",
            "22/22 [==============================] - 0s 2ms/step - loss: 3.7015 - accuracy: 0.4504\n",
            "Epoch 4/300\n",
            "22/22 [==============================] - 0s 2ms/step - loss: 2.5404 - accuracy: 0.5262\n",
            "Epoch 5/300\n",
            "22/22 [==============================] - 0s 2ms/step - loss: 1.6066 - accuracy: 0.5787\n",
            "Epoch 6/300\n",
            "22/22 [==============================] - 0s 2ms/step - loss: 1.2115 - accuracy: 0.5904\n",
            "Epoch 7/300\n",
            "22/22 [==============================] - 0s 2ms/step - loss: 0.9736 - accuracy: 0.6079\n",
            "Epoch 8/300\n",
            "22/22 [==============================] - 0s 2ms/step - loss: 0.8189 - accuracy: 0.6385\n",
            "Epoch 9/300\n",
            "22/22 [==============================] - 0s 2ms/step - loss: 0.7264 - accuracy: 0.6589\n",
            "Epoch 10/300\n",
            "22/22 [==============================] - 0s 2ms/step - loss: 0.6487 - accuracy: 0.6822\n",
            "Epoch 11/300\n",
            "22/22 [==============================] - 0s 2ms/step - loss: 0.6164 - accuracy: 0.7157\n",
            "Epoch 12/300\n",
            "22/22 [==============================] - 0s 2ms/step - loss: 0.5954 - accuracy: 0.7099\n",
            "Epoch 13/300\n",
            "22/22 [==============================] - 0s 2ms/step - loss: 0.5492 - accuracy: 0.7230\n",
            "Epoch 14/300\n",
            "22/22 [==============================] - 0s 2ms/step - loss: 0.5554 - accuracy: 0.7347\n",
            "Epoch 15/300\n",
            "22/22 [==============================] - 0s 2ms/step - loss: 0.5237 - accuracy: 0.7289\n",
            "Epoch 16/300\n",
            "22/22 [==============================] - 0s 2ms/step - loss: 0.5050 - accuracy: 0.7536\n",
            "Epoch 17/300\n",
            "22/22 [==============================] - 0s 2ms/step - loss: 0.5079 - accuracy: 0.7478\n",
            "Epoch 18/300\n",
            "22/22 [==============================] - 0s 2ms/step - loss: 0.5007 - accuracy: 0.7580\n",
            "Epoch 19/300\n",
            "22/22 [==============================] - 0s 2ms/step - loss: 0.4929 - accuracy: 0.7697\n",
            "Epoch 20/300\n",
            "22/22 [==============================] - 0s 2ms/step - loss: 0.4799 - accuracy: 0.7536\n",
            "Epoch 21/300\n",
            "22/22 [==============================] - 0s 2ms/step - loss: 0.4643 - accuracy: 0.7682\n",
            "Epoch 22/300\n",
            "22/22 [==============================] - 0s 2ms/step - loss: 0.4556 - accuracy: 0.7770\n",
            "Epoch 23/300\n",
            "22/22 [==============================] - 0s 2ms/step - loss: 0.4530 - accuracy: 0.7741\n",
            "Epoch 24/300\n",
            "22/22 [==============================] - 0s 2ms/step - loss: 0.4456 - accuracy: 0.7945\n",
            "Epoch 25/300\n",
            "22/22 [==============================] - 0s 2ms/step - loss: 0.4778 - accuracy: 0.7741\n",
            "Epoch 26/300\n",
            "22/22 [==============================] - 0s 2ms/step - loss: 0.4482 - accuracy: 0.7901\n",
            "Epoch 27/300\n",
            "22/22 [==============================] - 0s 2ms/step - loss: 0.4587 - accuracy: 0.7653\n",
            "Epoch 28/300\n",
            "22/22 [==============================] - 0s 2ms/step - loss: 0.4482 - accuracy: 0.7813\n",
            "Epoch 29/300\n",
            "22/22 [==============================] - 0s 2ms/step - loss: 0.4325 - accuracy: 0.7945\n",
            "Epoch 30/300\n",
            "22/22 [==============================] - 0s 2ms/step - loss: 0.4253 - accuracy: 0.8090\n",
            "Epoch 31/300\n",
            "22/22 [==============================] - 0s 2ms/step - loss: 0.4229 - accuracy: 0.8120\n",
            "Epoch 32/300\n",
            "22/22 [==============================] - 0s 2ms/step - loss: 0.4382 - accuracy: 0.7813\n",
            "Epoch 33/300\n",
            "22/22 [==============================] - 0s 2ms/step - loss: 0.4337 - accuracy: 0.8105\n",
            "Epoch 34/300\n",
            "22/22 [==============================] - 0s 2ms/step - loss: 0.4157 - accuracy: 0.8178\n",
            "Epoch 35/300\n",
            "22/22 [==============================] - 0s 2ms/step - loss: 0.4208 - accuracy: 0.8076\n",
            "Epoch 36/300\n",
            "22/22 [==============================] - 0s 2ms/step - loss: 0.4163 - accuracy: 0.8192\n",
            "Epoch 37/300\n",
            "22/22 [==============================] - 0s 2ms/step - loss: 0.4279 - accuracy: 0.8120\n",
            "Epoch 38/300\n",
            "22/22 [==============================] - 0s 2ms/step - loss: 0.4231 - accuracy: 0.8149\n",
            "Epoch 39/300\n",
            "22/22 [==============================] - 0s 2ms/step - loss: 0.4367 - accuracy: 0.8076\n",
            "Epoch 40/300\n",
            "22/22 [==============================] - 0s 2ms/step - loss: 0.4225 - accuracy: 0.7930\n",
            "Epoch 41/300\n",
            "22/22 [==============================] - 0s 2ms/step - loss: 0.4036 - accuracy: 0.8265\n",
            "Epoch 42/300\n",
            "22/22 [==============================] - 0s 2ms/step - loss: 0.4174 - accuracy: 0.8061\n",
            "Epoch 43/300\n",
            "22/22 [==============================] - 0s 2ms/step - loss: 0.4152 - accuracy: 0.8120\n",
            "Epoch 44/300\n",
            "22/22 [==============================] - 0s 2ms/step - loss: 0.4130 - accuracy: 0.8105\n",
            "Epoch 45/300\n",
            "22/22 [==============================] - 0s 2ms/step - loss: 0.4030 - accuracy: 0.8338\n",
            "Epoch 46/300\n",
            "22/22 [==============================] - 0s 2ms/step - loss: 0.4024 - accuracy: 0.8134\n",
            "Epoch 47/300\n",
            "22/22 [==============================] - 0s 2ms/step - loss: 0.4221 - accuracy: 0.8017\n",
            "Epoch 48/300\n",
            "22/22 [==============================] - 0s 2ms/step - loss: 0.4691 - accuracy: 0.7668\n",
            "Epoch 49/300\n",
            "22/22 [==============================] - 0s 2ms/step - loss: 0.4246 - accuracy: 0.8061\n",
            "Epoch 50/300\n",
            "22/22 [==============================] - 0s 2ms/step - loss: 0.4389 - accuracy: 0.8047\n",
            "Epoch 51/300\n",
            "22/22 [==============================] - 0s 2ms/step - loss: 0.3932 - accuracy: 0.8251\n",
            "Epoch 52/300\n",
            "22/22 [==============================] - 0s 2ms/step - loss: 0.4265 - accuracy: 0.7974\n",
            "Epoch 53/300\n",
            "22/22 [==============================] - 0s 2ms/step - loss: 0.4390 - accuracy: 0.8061\n",
            "Epoch 54/300\n",
            "22/22 [==============================] - 0s 2ms/step - loss: 0.4047 - accuracy: 0.8207\n",
            "Epoch 55/300\n",
            "22/22 [==============================] - 0s 2ms/step - loss: 0.4170 - accuracy: 0.8105\n",
            "Epoch 56/300\n",
            "22/22 [==============================] - 0s 2ms/step - loss: 0.4041 - accuracy: 0.8265\n",
            "Epoch 57/300\n",
            "22/22 [==============================] - 0s 2ms/step - loss: 0.3969 - accuracy: 0.8192\n",
            "Epoch 58/300\n",
            "22/22 [==============================] - 0s 2ms/step - loss: 0.3907 - accuracy: 0.8309\n",
            "Epoch 59/300\n",
            "22/22 [==============================] - 0s 2ms/step - loss: 0.3956 - accuracy: 0.8324\n",
            "Epoch 60/300\n",
            "22/22 [==============================] - 0s 2ms/step - loss: 0.3950 - accuracy: 0.8294\n",
            "Epoch 61/300\n",
            "22/22 [==============================] - 0s 2ms/step - loss: 0.4040 - accuracy: 0.8236\n",
            "Epoch 62/300\n",
            "22/22 [==============================] - 0s 2ms/step - loss: 0.4411 - accuracy: 0.7930\n",
            "Epoch 63/300\n",
            "22/22 [==============================] - 0s 2ms/step - loss: 0.4085 - accuracy: 0.8222\n",
            "Epoch 64/300\n",
            "22/22 [==============================] - 0s 2ms/step - loss: 0.3972 - accuracy: 0.8382\n",
            "Epoch 65/300\n",
            "22/22 [==============================] - 0s 2ms/step - loss: 0.4158 - accuracy: 0.7959\n",
            "Epoch 66/300\n",
            "22/22 [==============================] - 0s 2ms/step - loss: 0.3838 - accuracy: 0.8265\n",
            "Epoch 67/300\n",
            "22/22 [==============================] - 0s 2ms/step - loss: 0.3942 - accuracy: 0.8324\n",
            "Epoch 68/300\n",
            "22/22 [==============================] - 0s 2ms/step - loss: 0.3998 - accuracy: 0.8236\n",
            "Epoch 69/300\n",
            "22/22 [==============================] - 0s 3ms/step - loss: 0.3957 - accuracy: 0.8265\n",
            "Epoch 70/300\n",
            "22/22 [==============================] - 0s 2ms/step - loss: 0.3866 - accuracy: 0.8265\n",
            "Epoch 71/300\n",
            "22/22 [==============================] - 0s 3ms/step - loss: 0.3997 - accuracy: 0.8236\n",
            "Epoch 72/300\n",
            "22/22 [==============================] - 0s 3ms/step - loss: 0.3872 - accuracy: 0.8280\n",
            "Epoch 73/300\n",
            "22/22 [==============================] - 0s 2ms/step - loss: 0.4081 - accuracy: 0.8265\n",
            "Epoch 74/300\n",
            "22/22 [==============================] - 0s 2ms/step - loss: 0.4078 - accuracy: 0.8324\n",
            "Epoch 75/300\n",
            "22/22 [==============================] - 0s 2ms/step - loss: 0.3964 - accuracy: 0.8236\n",
            "Epoch 76/300\n",
            "22/22 [==============================] - 0s 2ms/step - loss: 0.3962 - accuracy: 0.8207\n",
            "Epoch 77/300\n",
            "22/22 [==============================] - 0s 3ms/step - loss: 0.3815 - accuracy: 0.8353\n",
            "Epoch 78/300\n",
            "22/22 [==============================] - 0s 2ms/step - loss: 0.3901 - accuracy: 0.8222\n",
            "Epoch 79/300\n",
            "22/22 [==============================] - 0s 2ms/step - loss: 0.3921 - accuracy: 0.8207\n",
            "Epoch 80/300\n",
            "22/22 [==============================] - 0s 2ms/step - loss: 0.3986 - accuracy: 0.8090\n",
            "Epoch 81/300\n",
            "22/22 [==============================] - 0s 3ms/step - loss: 0.3930 - accuracy: 0.8280\n",
            "Epoch 82/300\n",
            "22/22 [==============================] - 0s 2ms/step - loss: 0.4128 - accuracy: 0.8149\n",
            "Epoch 83/300\n",
            "22/22 [==============================] - 0s 2ms/step - loss: 0.3869 - accuracy: 0.8236\n",
            "Epoch 84/300\n",
            "22/22 [==============================] - 0s 2ms/step - loss: 0.3878 - accuracy: 0.8324\n",
            "Epoch 85/300\n",
            "22/22 [==============================] - 0s 2ms/step - loss: 0.3891 - accuracy: 0.8426\n",
            "Epoch 86/300\n",
            "22/22 [==============================] - 0s 2ms/step - loss: 0.3974 - accuracy: 0.8163\n",
            "Epoch 87/300\n",
            "22/22 [==============================] - 0s 2ms/step - loss: 0.4258 - accuracy: 0.8090\n",
            "Epoch 88/300\n",
            "22/22 [==============================] - 0s 2ms/step - loss: 0.4032 - accuracy: 0.8251\n",
            "Epoch 89/300\n",
            "22/22 [==============================] - 0s 2ms/step - loss: 0.3848 - accuracy: 0.8367\n",
            "Epoch 90/300\n",
            "22/22 [==============================] - 0s 2ms/step - loss: 0.3948 - accuracy: 0.8382\n",
            "Epoch 91/300\n",
            "22/22 [==============================] - 0s 2ms/step - loss: 0.3901 - accuracy: 0.8265\n",
            "Epoch 92/300\n",
            "22/22 [==============================] - 0s 2ms/step - loss: 0.4165 - accuracy: 0.8032\n",
            "Epoch 93/300\n",
            "22/22 [==============================] - 0s 2ms/step - loss: 0.4061 - accuracy: 0.8178\n",
            "Epoch 94/300\n",
            "22/22 [==============================] - 0s 2ms/step - loss: 0.4239 - accuracy: 0.8105\n",
            "Epoch 95/300\n",
            "22/22 [==============================] - 0s 3ms/step - loss: 0.3808 - accuracy: 0.8294\n",
            "Epoch 96/300\n",
            "22/22 [==============================] - 0s 2ms/step - loss: 0.4086 - accuracy: 0.8149\n",
            "Epoch 97/300\n",
            "22/22 [==============================] - 0s 3ms/step - loss: 0.3820 - accuracy: 0.8251\n",
            "Epoch 98/300\n",
            "22/22 [==============================] - 0s 3ms/step - loss: 0.3957 - accuracy: 0.8426\n",
            "Epoch 99/300\n",
            "22/22 [==============================] - 0s 2ms/step - loss: 0.4117 - accuracy: 0.8149\n",
            "Epoch 100/300\n",
            "22/22 [==============================] - 0s 2ms/step - loss: 0.4023 - accuracy: 0.8353\n",
            "Epoch 101/300\n",
            "22/22 [==============================] - 0s 2ms/step - loss: 0.3849 - accuracy: 0.8397\n",
            "Epoch 102/300\n",
            "22/22 [==============================] - 0s 2ms/step - loss: 0.3840 - accuracy: 0.8251\n",
            "Epoch 103/300\n",
            "22/22 [==============================] - 0s 2ms/step - loss: 0.3849 - accuracy: 0.8324\n",
            "Epoch 104/300\n",
            "22/22 [==============================] - 0s 2ms/step - loss: 0.3831 - accuracy: 0.8338\n",
            "Epoch 105/300\n",
            "22/22 [==============================] - 0s 2ms/step - loss: 0.3902 - accuracy: 0.8251\n",
            "Epoch 106/300\n",
            "22/22 [==============================] - 0s 3ms/step - loss: 0.4038 - accuracy: 0.8192\n",
            "Epoch 107/300\n",
            "22/22 [==============================] - 0s 2ms/step - loss: 0.4030 - accuracy: 0.8294\n",
            "Epoch 108/300\n",
            "22/22 [==============================] - 0s 2ms/step - loss: 0.3919 - accuracy: 0.8251\n",
            "Epoch 109/300\n",
            "22/22 [==============================] - 0s 2ms/step - loss: 0.3915 - accuracy: 0.8280\n",
            "Epoch 110/300\n",
            "22/22 [==============================] - 0s 2ms/step - loss: 0.4075 - accuracy: 0.8280\n",
            "Epoch 111/300\n",
            "22/22 [==============================] - 0s 2ms/step - loss: 0.3927 - accuracy: 0.8280\n",
            "Epoch 112/300\n",
            "22/22 [==============================] - 0s 2ms/step - loss: 0.3909 - accuracy: 0.8294\n",
            "Epoch 113/300\n",
            "22/22 [==============================] - 0s 2ms/step - loss: 0.3917 - accuracy: 0.8324\n",
            "Epoch 114/300\n",
            "22/22 [==============================] - 0s 2ms/step - loss: 0.3894 - accuracy: 0.8280\n",
            "Epoch 115/300\n",
            "22/22 [==============================] - 0s 3ms/step - loss: 0.3786 - accuracy: 0.8338\n",
            "Epoch 116/300\n",
            "22/22 [==============================] - 0s 3ms/step - loss: 0.3895 - accuracy: 0.8294\n",
            "Epoch 117/300\n",
            "22/22 [==============================] - 0s 2ms/step - loss: 0.4089 - accuracy: 0.8178\n",
            "Epoch 118/300\n",
            "22/22 [==============================] - 0s 2ms/step - loss: 0.3899 - accuracy: 0.8324\n",
            "Epoch 119/300\n",
            "22/22 [==============================] - 0s 2ms/step - loss: 0.4150 - accuracy: 0.8163\n",
            "Epoch 120/300\n",
            "22/22 [==============================] - 0s 2ms/step - loss: 0.3782 - accuracy: 0.8426\n",
            "Epoch 121/300\n",
            "22/22 [==============================] - 0s 3ms/step - loss: 0.4008 - accuracy: 0.8236\n",
            "Epoch 122/300\n",
            "22/22 [==============================] - 0s 2ms/step - loss: 0.3909 - accuracy: 0.8309\n",
            "Epoch 123/300\n",
            "22/22 [==============================] - 0s 3ms/step - loss: 0.4011 - accuracy: 0.8178\n",
            "Epoch 124/300\n",
            "22/22 [==============================] - 0s 2ms/step - loss: 0.3896 - accuracy: 0.8353\n",
            "Epoch 125/300\n",
            "22/22 [==============================] - 0s 2ms/step - loss: 0.3784 - accuracy: 0.8280\n",
            "Epoch 126/300\n",
            "22/22 [==============================] - 0s 2ms/step - loss: 0.3895 - accuracy: 0.8280\n",
            "Epoch 127/300\n",
            "22/22 [==============================] - 0s 2ms/step - loss: 0.3934 - accuracy: 0.8178\n",
            "Epoch 128/300\n",
            "22/22 [==============================] - 0s 2ms/step - loss: 0.4193 - accuracy: 0.7988\n",
            "Epoch 129/300\n",
            "22/22 [==============================] - 0s 2ms/step - loss: 0.3829 - accuracy: 0.8338\n",
            "Epoch 130/300\n",
            "22/22 [==============================] - 0s 2ms/step - loss: 0.3795 - accuracy: 0.8324\n",
            "Epoch 131/300\n",
            "22/22 [==============================] - 0s 2ms/step - loss: 0.3981 - accuracy: 0.8324\n",
            "Epoch 132/300\n",
            "22/22 [==============================] - 0s 2ms/step - loss: 0.3999 - accuracy: 0.8120\n",
            "Epoch 133/300\n",
            "22/22 [==============================] - 0s 2ms/step - loss: 0.3919 - accuracy: 0.8324\n",
            "Epoch 134/300\n",
            "22/22 [==============================] - 0s 2ms/step - loss: 0.3996 - accuracy: 0.8265\n",
            "Epoch 135/300\n",
            "22/22 [==============================] - 0s 2ms/step - loss: 0.3764 - accuracy: 0.8484\n",
            "Epoch 136/300\n",
            "22/22 [==============================] - 0s 2ms/step - loss: 0.4093 - accuracy: 0.8090\n",
            "Epoch 137/300\n",
            "22/22 [==============================] - 0s 2ms/step - loss: 0.3852 - accuracy: 0.8469\n",
            "Epoch 138/300\n",
            "22/22 [==============================] - 0s 2ms/step - loss: 0.4031 - accuracy: 0.8192\n",
            "Epoch 139/300\n",
            "22/22 [==============================] - 0s 2ms/step - loss: 0.3828 - accuracy: 0.8353\n",
            "Epoch 140/300\n",
            "22/22 [==============================] - 0s 2ms/step - loss: 0.3895 - accuracy: 0.8309\n",
            "Epoch 141/300\n",
            "22/22 [==============================] - 0s 2ms/step - loss: 0.3928 - accuracy: 0.8192\n",
            "Epoch 142/300\n",
            "22/22 [==============================] - 0s 2ms/step - loss: 0.4020 - accuracy: 0.8222\n",
            "Epoch 143/300\n",
            "22/22 [==============================] - 0s 2ms/step - loss: 0.4101 - accuracy: 0.8134\n",
            "Epoch 144/300\n",
            "22/22 [==============================] - 0s 2ms/step - loss: 0.4033 - accuracy: 0.8222\n",
            "Epoch 145/300\n",
            "22/22 [==============================] - 0s 2ms/step - loss: 0.3814 - accuracy: 0.8294\n",
            "Epoch 146/300\n",
            "22/22 [==============================] - 0s 2ms/step - loss: 0.3770 - accuracy: 0.8382\n",
            "Epoch 147/300\n",
            "22/22 [==============================] - 0s 2ms/step - loss: 0.3926 - accuracy: 0.8222\n",
            "Epoch 148/300\n",
            "22/22 [==============================] - 0s 2ms/step - loss: 0.3831 - accuracy: 0.8397\n",
            "Epoch 149/300\n",
            "22/22 [==============================] - 0s 2ms/step - loss: 0.4050 - accuracy: 0.8163\n",
            "Epoch 150/300\n",
            "22/22 [==============================] - 0s 2ms/step - loss: 0.3738 - accuracy: 0.8382\n",
            "Epoch 151/300\n",
            "22/22 [==============================] - 0s 2ms/step - loss: 0.3964 - accuracy: 0.8105\n",
            "Epoch 152/300\n",
            "22/22 [==============================] - 0s 2ms/step - loss: 0.3932 - accuracy: 0.8236\n",
            "Epoch 153/300\n",
            "22/22 [==============================] - 0s 2ms/step - loss: 0.3820 - accuracy: 0.8397\n",
            "Epoch 154/300\n",
            "22/22 [==============================] - 0s 2ms/step - loss: 0.3895 - accuracy: 0.8192\n",
            "Epoch 155/300\n",
            "22/22 [==============================] - 0s 2ms/step - loss: 0.4100 - accuracy: 0.8120\n",
            "Epoch 156/300\n",
            "22/22 [==============================] - 0s 2ms/step - loss: 0.4007 - accuracy: 0.8120\n",
            "Epoch 157/300\n",
            "22/22 [==============================] - 0s 2ms/step - loss: 0.3950 - accuracy: 0.8294\n",
            "Epoch 158/300\n",
            "22/22 [==============================] - 0s 2ms/step - loss: 0.3941 - accuracy: 0.8309\n",
            "Epoch 159/300\n",
            "22/22 [==============================] - 0s 2ms/step - loss: 0.3775 - accuracy: 0.8469\n",
            "Epoch 160/300\n",
            "22/22 [==============================] - 0s 2ms/step - loss: 0.3769 - accuracy: 0.8382\n",
            "Epoch 161/300\n",
            "22/22 [==============================] - 0s 2ms/step - loss: 0.4483 - accuracy: 0.7988\n",
            "Epoch 162/300\n",
            "22/22 [==============================] - 0s 2ms/step - loss: 0.3935 - accuracy: 0.8294\n",
            "Epoch 163/300\n",
            "22/22 [==============================] - 0s 2ms/step - loss: 0.4241 - accuracy: 0.8149\n",
            "Epoch 164/300\n",
            "22/22 [==============================] - 0s 2ms/step - loss: 0.4463 - accuracy: 0.8076\n",
            "Epoch 165/300\n",
            "22/22 [==============================] - 0s 2ms/step - loss: 0.4239 - accuracy: 0.8134\n",
            "Epoch 166/300\n",
            "22/22 [==============================] - 0s 2ms/step - loss: 0.4654 - accuracy: 0.7741\n",
            "Epoch 167/300\n",
            "22/22 [==============================] - 0s 2ms/step - loss: 0.3879 - accuracy: 0.8280\n",
            "Epoch 168/300\n",
            "22/22 [==============================] - 0s 2ms/step - loss: 0.3894 - accuracy: 0.8280\n",
            "Epoch 169/300\n",
            "22/22 [==============================] - 0s 2ms/step - loss: 0.3933 - accuracy: 0.8280\n",
            "Epoch 170/300\n",
            "22/22 [==============================] - 0s 2ms/step - loss: 0.4268 - accuracy: 0.8047\n",
            "Epoch 171/300\n",
            "22/22 [==============================] - 0s 2ms/step - loss: 0.4143 - accuracy: 0.8105\n",
            "Epoch 172/300\n",
            "22/22 [==============================] - 0s 2ms/step - loss: 0.3714 - accuracy: 0.8353\n",
            "Epoch 173/300\n",
            "22/22 [==============================] - 0s 2ms/step - loss: 0.3780 - accuracy: 0.8367\n",
            "Epoch 174/300\n",
            "22/22 [==============================] - 0s 2ms/step - loss: 0.3839 - accuracy: 0.8192\n",
            "Epoch 175/300\n",
            "22/22 [==============================] - 0s 2ms/step - loss: 0.3788 - accuracy: 0.8367\n",
            "Epoch 176/300\n",
            "22/22 [==============================] - 0s 2ms/step - loss: 0.3817 - accuracy: 0.8338\n",
            "Epoch 177/300\n",
            "22/22 [==============================] - 0s 2ms/step - loss: 0.3771 - accuracy: 0.8338\n",
            "Epoch 178/300\n",
            "22/22 [==============================] - 0s 2ms/step - loss: 0.3893 - accuracy: 0.8207\n",
            "Epoch 179/300\n",
            "22/22 [==============================] - 0s 2ms/step - loss: 0.3868 - accuracy: 0.8309\n",
            "Epoch 180/300\n",
            "22/22 [==============================] - 0s 2ms/step - loss: 0.3857 - accuracy: 0.8353\n",
            "Epoch 181/300\n",
            "22/22 [==============================] - 0s 2ms/step - loss: 0.3842 - accuracy: 0.8397\n",
            "Epoch 182/300\n",
            "22/22 [==============================] - 0s 2ms/step - loss: 0.3829 - accuracy: 0.8309\n",
            "Epoch 183/300\n",
            "22/22 [==============================] - 0s 2ms/step - loss: 0.3836 - accuracy: 0.8324\n",
            "Epoch 184/300\n",
            "22/22 [==============================] - 0s 2ms/step - loss: 0.4311 - accuracy: 0.8032\n",
            "Epoch 185/300\n",
            "22/22 [==============================] - 0s 2ms/step - loss: 0.3816 - accuracy: 0.8338\n",
            "Epoch 186/300\n",
            "22/22 [==============================] - 0s 2ms/step - loss: 0.3739 - accuracy: 0.8411\n",
            "Epoch 187/300\n",
            "22/22 [==============================] - 0s 2ms/step - loss: 0.3888 - accuracy: 0.8265\n",
            "Epoch 188/300\n",
            "22/22 [==============================] - 0s 2ms/step - loss: 0.4042 - accuracy: 0.8236\n",
            "Epoch 189/300\n",
            "22/22 [==============================] - 0s 2ms/step - loss: 0.3706 - accuracy: 0.8382\n",
            "Epoch 190/300\n",
            "22/22 [==============================] - 0s 2ms/step - loss: 0.4043 - accuracy: 0.8222\n",
            "Epoch 191/300\n",
            "22/22 [==============================] - 0s 2ms/step - loss: 0.3846 - accuracy: 0.8338\n",
            "Epoch 192/300\n",
            "22/22 [==============================] - 0s 2ms/step - loss: 0.3823 - accuracy: 0.8353\n",
            "Epoch 193/300\n",
            "22/22 [==============================] - 0s 2ms/step - loss: 0.3863 - accuracy: 0.8382\n",
            "Epoch 194/300\n",
            "22/22 [==============================] - 0s 2ms/step - loss: 0.3790 - accuracy: 0.8353\n",
            "Epoch 195/300\n",
            "22/22 [==============================] - 0s 2ms/step - loss: 0.3726 - accuracy: 0.8426\n",
            "Epoch 196/300\n",
            "22/22 [==============================] - 0s 2ms/step - loss: 0.4142 - accuracy: 0.8149\n",
            "Epoch 197/300\n",
            "22/22 [==============================] - 0s 2ms/step - loss: 0.3876 - accuracy: 0.8265\n",
            "Epoch 198/300\n",
            "22/22 [==============================] - 0s 2ms/step - loss: 0.4005 - accuracy: 0.8426\n",
            "Epoch 199/300\n",
            "22/22 [==============================] - 0s 2ms/step - loss: 0.4211 - accuracy: 0.7988\n",
            "Epoch 200/300\n",
            "22/22 [==============================] - 0s 2ms/step - loss: 0.3917 - accuracy: 0.8265\n",
            "Epoch 201/300\n",
            "22/22 [==============================] - 0s 2ms/step - loss: 0.3776 - accuracy: 0.8265\n",
            "Epoch 202/300\n",
            "22/22 [==============================] - 0s 2ms/step - loss: 0.3780 - accuracy: 0.8309\n",
            "Epoch 203/300\n",
            "22/22 [==============================] - 0s 2ms/step - loss: 0.4134 - accuracy: 0.8163\n",
            "Epoch 204/300\n",
            "22/22 [==============================] - 0s 2ms/step - loss: 0.3935 - accuracy: 0.8309\n",
            "Epoch 205/300\n",
            "22/22 [==============================] - 0s 2ms/step - loss: 0.3761 - accuracy: 0.8484\n",
            "Epoch 206/300\n",
            "22/22 [==============================] - 0s 2ms/step - loss: 0.3949 - accuracy: 0.8309\n",
            "Epoch 207/300\n",
            "22/22 [==============================] - 0s 2ms/step - loss: 0.4176 - accuracy: 0.8149\n",
            "Epoch 208/300\n",
            "22/22 [==============================] - 0s 2ms/step - loss: 0.4145 - accuracy: 0.8134\n",
            "Epoch 209/300\n",
            "22/22 [==============================] - 0s 2ms/step - loss: 0.4098 - accuracy: 0.8236\n",
            "Epoch 210/300\n",
            "22/22 [==============================] - 0s 2ms/step - loss: 0.3798 - accuracy: 0.8382\n",
            "Epoch 211/300\n",
            "22/22 [==============================] - 0s 2ms/step - loss: 0.3726 - accuracy: 0.8484\n",
            "Epoch 212/300\n",
            "22/22 [==============================] - 0s 2ms/step - loss: 0.3778 - accuracy: 0.8397\n",
            "Epoch 213/300\n",
            "22/22 [==============================] - 0s 2ms/step - loss: 0.3873 - accuracy: 0.8411\n",
            "Epoch 214/300\n",
            "22/22 [==============================] - 0s 2ms/step - loss: 0.3797 - accuracy: 0.8338\n",
            "Epoch 215/300\n",
            "22/22 [==============================] - 0s 2ms/step - loss: 0.3881 - accuracy: 0.8280\n",
            "Epoch 216/300\n",
            "22/22 [==============================] - 0s 2ms/step - loss: 0.3918 - accuracy: 0.8309\n",
            "Epoch 217/300\n",
            "22/22 [==============================] - 0s 2ms/step - loss: 0.3828 - accuracy: 0.8353\n",
            "Epoch 218/300\n",
            "22/22 [==============================] - 0s 2ms/step - loss: 0.3794 - accuracy: 0.8294\n",
            "Epoch 219/300\n",
            "22/22 [==============================] - 0s 2ms/step - loss: 0.3869 - accuracy: 0.8382\n",
            "Epoch 220/300\n",
            "22/22 [==============================] - 0s 2ms/step - loss: 0.3877 - accuracy: 0.8338\n",
            "Epoch 221/300\n",
            "22/22 [==============================] - 0s 2ms/step - loss: 0.4019 - accuracy: 0.8178\n",
            "Epoch 222/300\n",
            "22/22 [==============================] - 0s 2ms/step - loss: 0.3897 - accuracy: 0.8207\n",
            "Epoch 223/300\n",
            "22/22 [==============================] - 0s 2ms/step - loss: 0.3828 - accuracy: 0.8324\n",
            "Epoch 224/300\n",
            "22/22 [==============================] - 0s 2ms/step - loss: 0.3762 - accuracy: 0.8411\n",
            "Epoch 225/300\n",
            "22/22 [==============================] - 0s 2ms/step - loss: 0.3787 - accuracy: 0.8440\n",
            "Epoch 226/300\n",
            "22/22 [==============================] - 0s 2ms/step - loss: 0.3797 - accuracy: 0.8382\n",
            "Epoch 227/300\n",
            "22/22 [==============================] - 0s 2ms/step - loss: 0.3953 - accuracy: 0.8265\n",
            "Epoch 228/300\n",
            "22/22 [==============================] - 0s 2ms/step - loss: 0.4160 - accuracy: 0.8017\n",
            "Epoch 229/300\n",
            "22/22 [==============================] - 0s 2ms/step - loss: 0.3802 - accuracy: 0.8426\n",
            "Epoch 230/300\n",
            "22/22 [==============================] - 0s 2ms/step - loss: 0.4085 - accuracy: 0.8207\n",
            "Epoch 231/300\n",
            "22/22 [==============================] - 0s 2ms/step - loss: 0.3879 - accuracy: 0.8294\n",
            "Epoch 232/300\n",
            "22/22 [==============================] - 0s 2ms/step - loss: 0.3801 - accuracy: 0.8294\n",
            "Epoch 233/300\n",
            "22/22 [==============================] - 0s 2ms/step - loss: 0.3897 - accuracy: 0.8280\n",
            "Epoch 234/300\n",
            "22/22 [==============================] - 0s 2ms/step - loss: 0.3810 - accuracy: 0.8367\n",
            "Epoch 235/300\n",
            "22/22 [==============================] - 0s 2ms/step - loss: 0.3747 - accuracy: 0.8309\n",
            "Epoch 236/300\n",
            "22/22 [==============================] - 0s 2ms/step - loss: 0.4011 - accuracy: 0.8149\n",
            "Epoch 237/300\n",
            "22/22 [==============================] - 0s 2ms/step - loss: 0.4096 - accuracy: 0.8207\n",
            "Epoch 238/300\n",
            "22/22 [==============================] - 0s 2ms/step - loss: 0.3897 - accuracy: 0.8236\n",
            "Epoch 239/300\n",
            "22/22 [==============================] - 0s 2ms/step - loss: 0.4275 - accuracy: 0.8149\n",
            "Epoch 240/300\n",
            "22/22 [==============================] - 0s 2ms/step - loss: 0.3866 - accuracy: 0.8265\n",
            "Epoch 241/300\n",
            "22/22 [==============================] - 0s 2ms/step - loss: 0.3788 - accuracy: 0.8338\n",
            "Epoch 242/300\n",
            "22/22 [==============================] - 0s 2ms/step - loss: 0.3814 - accuracy: 0.8367\n",
            "Epoch 243/300\n",
            "22/22 [==============================] - 0s 2ms/step - loss: 0.3855 - accuracy: 0.8324\n",
            "Epoch 244/300\n",
            "22/22 [==============================] - 0s 2ms/step - loss: 0.3873 - accuracy: 0.8294\n",
            "Epoch 245/300\n",
            "22/22 [==============================] - 0s 2ms/step - loss: 0.3811 - accuracy: 0.8309\n",
            "Epoch 246/300\n",
            "22/22 [==============================] - 0s 2ms/step - loss: 0.3899 - accuracy: 0.8324\n",
            "Epoch 247/300\n",
            "22/22 [==============================] - 0s 2ms/step - loss: 0.3810 - accuracy: 0.8265\n",
            "Epoch 248/300\n",
            "22/22 [==============================] - 0s 2ms/step - loss: 0.3859 - accuracy: 0.8251\n",
            "Epoch 249/300\n",
            "22/22 [==============================] - 0s 2ms/step - loss: 0.4064 - accuracy: 0.8192\n",
            "Epoch 250/300\n",
            "22/22 [==============================] - 0s 2ms/step - loss: 0.3770 - accuracy: 0.8324\n",
            "Epoch 251/300\n",
            "22/22 [==============================] - 0s 2ms/step - loss: 0.3876 - accuracy: 0.8207\n",
            "Epoch 252/300\n",
            "22/22 [==============================] - 0s 2ms/step - loss: 0.4072 - accuracy: 0.8178\n",
            "Epoch 253/300\n",
            "22/22 [==============================] - 0s 2ms/step - loss: 0.4265 - accuracy: 0.7886\n",
            "Epoch 254/300\n",
            "22/22 [==============================] - 0s 2ms/step - loss: 0.3765 - accuracy: 0.8440\n",
            "Epoch 255/300\n",
            "22/22 [==============================] - 0s 2ms/step - loss: 0.3928 - accuracy: 0.8265\n",
            "Epoch 256/300\n",
            "22/22 [==============================] - 0s 2ms/step - loss: 0.3848 - accuracy: 0.8280\n",
            "Epoch 257/300\n",
            "22/22 [==============================] - 0s 2ms/step - loss: 0.3883 - accuracy: 0.8309\n",
            "Epoch 258/300\n",
            "22/22 [==============================] - 0s 2ms/step - loss: 0.3759 - accuracy: 0.8324\n",
            "Epoch 259/300\n",
            "22/22 [==============================] - 0s 2ms/step - loss: 0.3978 - accuracy: 0.8207\n",
            "Epoch 260/300\n",
            "22/22 [==============================] - 0s 2ms/step - loss: 0.3778 - accuracy: 0.8499\n",
            "Epoch 261/300\n",
            "22/22 [==============================] - 0s 2ms/step - loss: 0.3851 - accuracy: 0.8367\n",
            "Epoch 262/300\n",
            "22/22 [==============================] - 0s 2ms/step - loss: 0.3791 - accuracy: 0.8484\n",
            "Epoch 263/300\n",
            "22/22 [==============================] - 0s 2ms/step - loss: 0.4117 - accuracy: 0.8163\n",
            "Epoch 264/300\n",
            "22/22 [==============================] - 0s 2ms/step - loss: 0.3939 - accuracy: 0.8265\n",
            "Epoch 265/300\n",
            "22/22 [==============================] - 0s 2ms/step - loss: 0.3862 - accuracy: 0.8294\n",
            "Epoch 266/300\n",
            "22/22 [==============================] - 0s 2ms/step - loss: 0.3871 - accuracy: 0.8251\n",
            "Epoch 267/300\n",
            "22/22 [==============================] - 0s 2ms/step - loss: 0.3720 - accuracy: 0.8280\n",
            "Epoch 268/300\n",
            "22/22 [==============================] - 0s 2ms/step - loss: 0.4271 - accuracy: 0.8090\n",
            "Epoch 269/300\n",
            "22/22 [==============================] - 0s 2ms/step - loss: 0.3807 - accuracy: 0.8222\n",
            "Epoch 270/300\n",
            "22/22 [==============================] - 0s 2ms/step - loss: 0.3712 - accuracy: 0.8382\n",
            "Epoch 271/300\n",
            "22/22 [==============================] - 0s 2ms/step - loss: 0.3767 - accuracy: 0.8294\n",
            "Epoch 272/300\n",
            "22/22 [==============================] - 0s 2ms/step - loss: 0.3788 - accuracy: 0.8367\n",
            "Epoch 273/300\n",
            "22/22 [==============================] - 0s 2ms/step - loss: 0.3761 - accuracy: 0.8338\n",
            "Epoch 274/300\n",
            "22/22 [==============================] - 0s 2ms/step - loss: 0.4137 - accuracy: 0.8280\n",
            "Epoch 275/300\n",
            "22/22 [==============================] - 0s 2ms/step - loss: 0.3931 - accuracy: 0.8265\n",
            "Epoch 276/300\n",
            "22/22 [==============================] - 0s 2ms/step - loss: 0.3767 - accuracy: 0.8426\n",
            "Epoch 277/300\n",
            "22/22 [==============================] - 0s 2ms/step - loss: 0.3863 - accuracy: 0.8280\n",
            "Epoch 278/300\n",
            "22/22 [==============================] - 0s 2ms/step - loss: 0.3878 - accuracy: 0.8178\n",
            "Epoch 279/300\n",
            "22/22 [==============================] - 0s 2ms/step - loss: 0.4325 - accuracy: 0.8178\n",
            "Epoch 280/300\n",
            "22/22 [==============================] - 0s 2ms/step - loss: 0.3975 - accuracy: 0.8076\n",
            "Epoch 281/300\n",
            "22/22 [==============================] - 0s 2ms/step - loss: 0.4128 - accuracy: 0.8265\n",
            "Epoch 282/300\n",
            "22/22 [==============================] - 0s 2ms/step - loss: 0.4294 - accuracy: 0.8090\n",
            "Epoch 283/300\n",
            "22/22 [==============================] - 0s 2ms/step - loss: 0.4145 - accuracy: 0.8163\n",
            "Epoch 284/300\n",
            "22/22 [==============================] - 0s 2ms/step - loss: 0.4112 - accuracy: 0.8207\n",
            "Epoch 285/300\n",
            "22/22 [==============================] - 0s 2ms/step - loss: 0.3909 - accuracy: 0.8207\n",
            "Epoch 286/300\n",
            "22/22 [==============================] - 0s 2ms/step - loss: 0.4163 - accuracy: 0.8251\n",
            "Epoch 287/300\n",
            "22/22 [==============================] - 0s 3ms/step - loss: 0.3957 - accuracy: 0.8294\n",
            "Epoch 288/300\n",
            "22/22 [==============================] - 0s 2ms/step - loss: 0.3851 - accuracy: 0.8338\n",
            "Epoch 289/300\n",
            "22/22 [==============================] - 0s 2ms/step - loss: 0.3762 - accuracy: 0.8411\n",
            "Epoch 290/300\n",
            "22/22 [==============================] - 0s 2ms/step - loss: 0.4101 - accuracy: 0.8280\n",
            "Epoch 291/300\n",
            "22/22 [==============================] - 0s 2ms/step - loss: 0.3886 - accuracy: 0.8280\n",
            "Epoch 292/300\n",
            "22/22 [==============================] - 0s 2ms/step - loss: 0.3912 - accuracy: 0.8309\n",
            "Epoch 293/300\n",
            "22/22 [==============================] - 0s 2ms/step - loss: 0.4370 - accuracy: 0.8003\n",
            "Epoch 294/300\n",
            "22/22 [==============================] - 0s 2ms/step - loss: 0.3816 - accuracy: 0.8338\n",
            "Epoch 295/300\n",
            "22/22 [==============================] - 0s 2ms/step - loss: 0.3850 - accuracy: 0.8251\n",
            "Epoch 296/300\n",
            "22/22 [==============================] - 0s 2ms/step - loss: 0.3808 - accuracy: 0.8484\n",
            "Epoch 297/300\n",
            "22/22 [==============================] - 0s 2ms/step - loss: 0.3807 - accuracy: 0.8382\n",
            "Epoch 298/300\n",
            "22/22 [==============================] - 0s 2ms/step - loss: 0.3807 - accuracy: 0.8397\n",
            "Epoch 299/300\n",
            "22/22 [==============================] - 0s 2ms/step - loss: 0.3863 - accuracy: 0.8367\n",
            "Epoch 300/300\n",
            "22/22 [==============================] - 0s 2ms/step - loss: 0.4089 - accuracy: 0.8222\n"
          ]
        },
        {
          "output_type": "execute_result",
          "data": {
            "text/plain": [
              "<keras.callbacks.History at 0x7ff9e0d71630>"
            ]
          },
          "metadata": {},
          "execution_count": 277
        }
      ]
    },
    {
      "cell_type": "code",
      "source": [
        "pred = model.predict(X_test)"
      ],
      "metadata": {
        "colab": {
          "base_uri": "https://localhost:8080/"
        },
        "id": "x7kiwFMIo_RJ",
        "outputId": "c14ffe94-ea0e-46d1-ef9b-4e637dfb6ff8"
      },
      "execution_count": 278,
      "outputs": [
        {
          "output_type": "stream",
          "name": "stdout",
          "text": [
            "11/11 [==============================] - 0s 1ms/step\n"
          ]
        }
      ]
    },
    {
      "cell_type": "code",
      "source": [
        "pred"
      ],
      "metadata": {
        "colab": {
          "base_uri": "https://localhost:8080/"
        },
        "id": "dPu0J6zIp8il",
        "outputId": "1997a157-6783-47a7-9b09-3bd39c2c5643"
      },
      "execution_count": 279,
      "outputs": [
        {
          "output_type": "execute_result",
          "data": {
            "text/plain": [
              "array([[0.92557853],\n",
              "       [0.7838797 ],\n",
              "       [0.00799351],\n",
              "       [0.93077713],\n",
              "       [0.01615305],\n",
              "       [0.02606905],\n",
              "       [0.22439429],\n",
              "       [0.01853946],\n",
              "       [0.03772449],\n",
              "       [0.70366216],\n",
              "       [0.4942826 ],\n",
              "       [0.0012962 ],\n",
              "       [0.6777954 ],\n",
              "       [0.5804613 ],\n",
              "       [0.9443025 ],\n",
              "       [0.9795201 ],\n",
              "       [0.9762817 ],\n",
              "       [0.00810696],\n",
              "       [0.9919778 ],\n",
              "       [0.28635213],\n",
              "       [0.93462086],\n",
              "       [0.90361947],\n",
              "       [0.79629475],\n",
              "       [0.90361947],\n",
              "       [0.9795201 ],\n",
              "       [0.9645801 ],\n",
              "       [0.9813844 ],\n",
              "       [0.78159755],\n",
              "       [0.9900591 ],\n",
              "       [0.99998957],\n",
              "       [0.98948157],\n",
              "       [0.01853932],\n",
              "       [0.0252199 ],\n",
              "       [0.6641053 ],\n",
              "       [0.2014151 ],\n",
              "       [0.00619747],\n",
              "       [0.63571787],\n",
              "       [0.3348703 ],\n",
              "       [0.7786491 ],\n",
              "       [0.8545249 ],\n",
              "       [0.94762766],\n",
              "       [0.87335145],\n",
              "       [0.939514  ],\n",
              "       [0.96675545],\n",
              "       [0.9721304 ],\n",
              "       [0.95794743],\n",
              "       [0.9589793 ],\n",
              "       [0.7294864 ],\n",
              "       [0.00413813],\n",
              "       [0.69358534],\n",
              "       [0.2841829 ],\n",
              "       [0.04241462],\n",
              "       [0.47422278],\n",
              "       [0.72295785],\n",
              "       [0.00783252],\n",
              "       [0.08107974],\n",
              "       [0.00733775],\n",
              "       [0.82326883],\n",
              "       [0.00289612],\n",
              "       [0.7838797 ],\n",
              "       [0.44797403],\n",
              "       [0.46179473],\n",
              "       [0.98204184],\n",
              "       [0.7382783 ],\n",
              "       [0.35023135],\n",
              "       [0.03643997],\n",
              "       [0.01852704],\n",
              "       [0.9589793 ],\n",
              "       [0.95686805],\n",
              "       [0.9773737 ],\n",
              "       [0.7071422 ],\n",
              "       [0.96902615],\n",
              "       [0.92206466],\n",
              "       [0.00492569],\n",
              "       [0.07182547],\n",
              "       [0.00289612],\n",
              "       [0.7494381 ],\n",
              "       [0.12770176],\n",
              "       [0.42673087],\n",
              "       [0.083648  ],\n",
              "       [0.26299536],\n",
              "       [0.46128753],\n",
              "       [0.5805152 ],\n",
              "       [0.9347975 ],\n",
              "       [0.7015858 ],\n",
              "       [0.02835685],\n",
              "       [0.95616984],\n",
              "       [0.0475808 ],\n",
              "       [0.9900591 ],\n",
              "       [0.01615305],\n",
              "       [0.00810696],\n",
              "       [0.02388071],\n",
              "       [0.9993353 ],\n",
              "       [0.47981277],\n",
              "       [0.86049545],\n",
              "       [0.26299387],\n",
              "       [0.7382791 ],\n",
              "       [0.00827193],\n",
              "       [0.97618914],\n",
              "       [0.947338  ],\n",
              "       [0.68265605],\n",
              "       [0.8306122 ],\n",
              "       [0.9894816 ],\n",
              "       [0.11885836],\n",
              "       [0.5302818 ],\n",
              "       [0.716691  ],\n",
              "       [0.00872138],\n",
              "       [0.9151796 ],\n",
              "       [0.13537452],\n",
              "       [0.7040216 ],\n",
              "       [0.8693171 ],\n",
              "       [0.676764  ],\n",
              "       [0.07519819],\n",
              "       [0.11885836],\n",
              "       [0.68171984],\n",
              "       [0.02606905],\n",
              "       [0.95686805],\n",
              "       [0.0252199 ],\n",
              "       [0.02253613],\n",
              "       [0.8306122 ],\n",
              "       [0.82969457],\n",
              "       [0.7786491 ],\n",
              "       [0.947338  ],\n",
              "       [0.00444656],\n",
              "       [0.7869809 ],\n",
              "       [0.86272824],\n",
              "       [0.99664193],\n",
              "       [0.8358631 ],\n",
              "       [0.9901375 ],\n",
              "       [0.0252199 ],\n",
              "       [0.00665757],\n",
              "       [0.04716129],\n",
              "       [0.8545249 ],\n",
              "       [0.9017203 ],\n",
              "       [0.87365115],\n",
              "       [0.03136694],\n",
              "       [0.03281275],\n",
              "       [0.9605366 ],\n",
              "       [0.00492569],\n",
              "       [0.8926823 ],\n",
              "       [0.15638334],\n",
              "       [0.15143551],\n",
              "       [0.49877897],\n",
              "       [0.26529244],\n",
              "       [0.63571787],\n",
              "       [0.8536754 ],\n",
              "       [0.80940706],\n",
              "       [0.1089127 ],\n",
              "       [0.70854247],\n",
              "       [0.2841829 ],\n",
              "       [0.8358631 ],\n",
              "       [0.7998638 ],\n",
              "       [0.9997012 ],\n",
              "       [0.00289612],\n",
              "       [0.03284333],\n",
              "       [0.01501896],\n",
              "       [0.8948658 ],\n",
              "       [0.5807734 ],\n",
              "       [0.17739223],\n",
              "       [0.00783249],\n",
              "       [0.00289612],\n",
              "       [0.9628126 ],\n",
              "       [0.8926823 ],\n",
              "       [0.24350128],\n",
              "       [0.758787  ],\n",
              "       [0.6579898 ],\n",
              "       [0.9813844 ],\n",
              "       [0.9478326 ],\n",
              "       [0.99998957],\n",
              "       [0.96284854],\n",
              "       [0.95601946],\n",
              "       [0.79988396],\n",
              "       [0.95616984],\n",
              "       [0.7998638 ],\n",
              "       [0.9220288 ],\n",
              "       [0.97618914],\n",
              "       [0.34903044],\n",
              "       [0.8655927 ],\n",
              "       [0.9941922 ],\n",
              "       [0.00810696],\n",
              "       [0.00650562],\n",
              "       [0.3434188 ],\n",
              "       [0.0284165 ],\n",
              "       [0.03284333],\n",
              "       [0.7478244 ],\n",
              "       [0.03037851],\n",
              "       [0.6639172 ],\n",
              "       [0.02606905],\n",
              "       [0.6579898 ],\n",
              "       [0.02177821],\n",
              "       [0.08410013],\n",
              "       [0.95616984],\n",
              "       [0.69358534],\n",
              "       [0.7407064 ],\n",
              "       [0.03281275],\n",
              "       [0.7170418 ],\n",
              "       [0.6639172 ],\n",
              "       [0.9638718 ],\n",
              "       [0.5804613 ],\n",
              "       [0.07265627],\n",
              "       [0.98814505],\n",
              "       [0.7735918 ],\n",
              "       [0.98814505],\n",
              "       [0.20065412],\n",
              "       [0.99992704],\n",
              "       [0.8753687 ],\n",
              "       [0.9220288 ],\n",
              "       [0.6841681 ],\n",
              "       [0.62867785],\n",
              "       [0.00413813],\n",
              "       [0.98282003],\n",
              "       [0.85835844],\n",
              "       [0.91818345],\n",
              "       [0.92085296],\n",
              "       [0.03643997],\n",
              "       [0.04241462],\n",
              "       [0.65375805],\n",
              "       [0.0012962 ],\n",
              "       [0.680618  ],\n",
              "       [0.7071422 ],\n",
              "       [0.04390988],\n",
              "       [0.95794743],\n",
              "       [0.970617  ],\n",
              "       [0.08054136],\n",
              "       [0.92206466],\n",
              "       [0.1399518 ],\n",
              "       [0.02001555],\n",
              "       [0.9751659 ],\n",
              "       [0.79988396],\n",
              "       [0.1906726 ],\n",
              "       [0.00823892],\n",
              "       [0.4783029 ],\n",
              "       [1.        ],\n",
              "       [0.00523917],\n",
              "       [0.9381002 ],\n",
              "       [0.04793505],\n",
              "       [0.89178514],\n",
              "       [0.9880627 ],\n",
              "       [0.2563853 ],\n",
              "       [0.02177821],\n",
              "       [0.34775177],\n",
              "       [0.3348703 ],\n",
              "       [0.07265627],\n",
              "       [0.00807373],\n",
              "       [0.98204166],\n",
              "       [0.96675545],\n",
              "       [0.0284165 ],\n",
              "       [0.89349747],\n",
              "       [0.5286443 ],\n",
              "       [0.78159755],\n",
              "       [0.89731264],\n",
              "       [0.03136694],\n",
              "       [0.75438714],\n",
              "       [0.7170418 ],\n",
              "       [0.7085413 ],\n",
              "       [0.14411928],\n",
              "       [0.6777954 ],\n",
              "       [0.00451444],\n",
              "       [0.05202684],\n",
              "       [0.82969457],\n",
              "       [0.96815276],\n",
              "       [0.9151796 ],\n",
              "       [0.70719194],\n",
              "       [0.7015858 ],\n",
              "       [0.86272824],\n",
              "       [0.5366465 ],\n",
              "       [0.00413813],\n",
              "       [0.47422278],\n",
              "       [0.02880666],\n",
              "       [0.9428704 ],\n",
              "       [0.00523917],\n",
              "       [0.03281275],\n",
              "       [0.8437688 ],\n",
              "       [0.00807373],\n",
              "       [0.87297416],\n",
              "       [0.00451444],\n",
              "       [0.06050784],\n",
              "       [0.8926823 ],\n",
              "       [0.9811303 ],\n",
              "       [0.82326883],\n",
              "       [0.25163883],\n",
              "       [0.8349031 ],\n",
              "       [0.983412  ],\n",
              "       [0.09620067],\n",
              "       [0.70719194],\n",
              "       [0.02001555],\n",
              "       [0.23691164],\n",
              "       [0.87297374],\n",
              "       [0.9751659 ],\n",
              "       [0.84061587],\n",
              "       [0.08054249],\n",
              "       [0.9706171 ],\n",
              "       [0.3709244 ],\n",
              "       [0.9478326 ],\n",
              "       [0.03563902],\n",
              "       [0.84061587],\n",
              "       [0.4942826 ],\n",
              "       [0.5805152 ],\n",
              "       [0.5804613 ],\n",
              "       [0.8714384 ],\n",
              "       [0.6777954 ],\n",
              "       [0.2014151 ],\n",
              "       [0.8693171 ],\n",
              "       [0.65375805],\n",
              "       [0.44030347],\n",
              "       [0.58726054],\n",
              "       [0.82326883],\n",
              "       [0.06669223],\n",
              "       [0.9365359 ],\n",
              "       [0.05213018],\n",
              "       [0.99992704],\n",
              "       [0.04793505],\n",
              "       [0.9941922 ],\n",
              "       [0.939514  ],\n",
              "       [0.96284854],\n",
              "       [0.9645801 ],\n",
              "       [0.5940653 ],\n",
              "       [0.87335145],\n",
              "       [0.01515102],\n",
              "       [0.98282015],\n",
              "       [0.6842365 ],\n",
              "       [0.2563853 ],\n",
              "       [0.9811303 ],\n",
              "       [0.44030347],\n",
              "       [0.60351896],\n",
              "       [0.9365359 ],\n",
              "       [0.0733913 ],\n",
              "       [0.5329651 ],\n",
              "       [0.01615305],\n",
              "       [0.92109704],\n",
              "       [0.03563902],\n",
              "       [0.07722291],\n",
              "       [0.04390988],\n",
              "       [0.828564  ],\n",
              "       [0.08410013],\n",
              "       [0.08455935],\n",
              "       [0.8711873 ],\n",
              "       [0.8844429 ],\n",
              "       [0.9220285 ]], dtype=float32)"
            ]
          },
          "metadata": {},
          "execution_count": 279
        }
      ]
    },
    {
      "cell_type": "code",
      "source": [
        "rounded = [round(x[0]) for x in pred]\n",
        "\n",
        "pred = rounded"
      ],
      "metadata": {
        "id": "ZBFLqatFpm51"
      },
      "execution_count": 280,
      "outputs": []
    },
    {
      "cell_type": "code",
      "source": [
        "score_nn = round(accuracy_score(pred, y_test)*100,2)\n",
        "\n",
        "print(\"The accuracy score achieved using Neural Network is: \"+str(score_nn)+\" %\")\n",
        "\n",
        "#Note: Accuracy of 85% can be achieved on the test set, by setting epochs=2000, and number of nodes = 11. "
      ],
      "metadata": {
        "colab": {
          "base_uri": "https://localhost:8080/"
        },
        "id": "ZKJWsG-NpvJI",
        "outputId": "dd2100ed-30e5-481f-8c95-4a948e81a817"
      },
      "execution_count": 281,
      "outputs": [
        {
          "output_type": "stream",
          "name": "stdout",
          "text": [
            "The accuracy score achieved using Neural Network is: 86.43 %\n"
          ]
        }
      ]
    },
    {
      "cell_type": "markdown",
      "source": [
        "## Listing down Accuracy of all Algorithm"
      ],
      "metadata": {
        "id": "q_b3jo8vJh1i"
      }
    },
    {
      "cell_type": "code",
      "source": [
        "score_sm1 = np.array(score_sm1)\n",
        "score_sm2 = np.array(score_sm2)\n",
        "score_sm3 = np.array(score_sm3)\n",
        "\n",
        "score_sm = np.max([score_sm1, score_sm2, score_sm3])\n",
        "\n",
        "scores = [score_logistic, score_nb, score_sm, score_knn, score_dt, score_rf, score_nn]\n",
        "algorithms = [\"Logistic Regression\", \"Naive Bayes\", \"Support Vector Machine\", \"K-Nearest Neighbors\", \"Decision Tree\", \"Random Forest\", \"Neural Network\"]\n",
        "\n",
        "for i in range(len(algorithms)):\n",
        "    print(\"The accuracy score achieved using \" + algorithms[i] + \" is: \" + str(scores[i]) + \" %\")\n"
      ],
      "metadata": {
        "colab": {
          "base_uri": "https://localhost:8080/"
        },
        "id": "I2eS-pn5p5Rs",
        "outputId": "67b4ab1d-17de-4282-c6a0-f6a177895ea9"
      },
      "execution_count": 282,
      "outputs": [
        {
          "output_type": "stream",
          "name": "stdout",
          "text": [
            "The accuracy score achieved using Logistic Regression is: 87.02 %\n",
            "The accuracy score achieved using Naive Bayes is: 84.37 %\n",
            "The accuracy score achieved using Support Vector Machine is: 86.73 %\n",
            "The accuracy score achieved using K-Nearest Neighbors is: 99.12 %\n",
            "The accuracy score achieved using Decision Tree is: 100.0 %\n",
            "The accuracy score achieved using Random Forest is: 100.0 %\n",
            "The accuracy score achieved using Neural Network is: 86.43 %\n"
          ]
        }
      ]
    },
    {
      "cell_type": "code",
      "source": [
        "sns.set(rc={'figure.figsize':(15, 8)})\n",
        "plt.xlabel(\"Algorithms\")\n",
        "plt.ylabel(\"Accuracy score\")\n",
        "\n",
        "sns.barplot(x=algorithms, y=scores)\n",
        "\n",
        "plt.show()\n"
      ],
      "metadata": {
        "colab": {
          "base_uri": "https://localhost:8080/",
          "height": 509
        },
        "id": "d0p3VfaYwNpB",
        "outputId": "181e4e13-c2cd-4305-a45c-2108f1dd479e"
      },
      "execution_count": 283,
      "outputs": [
        {
          "output_type": "display_data",
          "data": {
            "text/plain": [
              "<Figure size 1500x800 with 1 Axes>"
            ],
            "image/png": "[encoded data removed]"
          },
          "metadata": {}
        }
      ]
    },
    {
      "cell_type": "markdown",
      "source": [
        "### Decision Tree performs well on this dataset."
      ],
      "metadata": {
        "id": "BZbTWTywNLCX"
      }
    },
    {
      "cell_type": "code",
      "source": [],
      "metadata": {
        "id": "sgZDbnAFNP9a"
      },
      "execution_count": null,
      "outputs": []
    }
  ]
}